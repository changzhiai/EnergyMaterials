{
 "cells": [
  {
   "cell_type": "markdown",
   "metadata": {
    "ein.tags": "worksheet-0",
    "slideshow": {
     "slide_type": "-"
    }
   },
   "source": [
    "# Python Intro"
   ]
  },
  {
   "cell_type": "markdown",
   "metadata": {
    "ein.tags": "worksheet-0",
    "slideshow": {
     "slide_type": "-"
    }
   },
   "source": [
    "[Python](www.python.org) is a programming language that is growing heavily in [users](https://stackoverflow.blog/2017/09/06/incredible-growth-python/). The popularity comes from many factors:\n",
    "\n",
    "- Easy to use (especially in Jupyter notebooks)\n",
    "- Applicable in many areas (data science, web development, ...)\n",
    "- Scripts can easily take advantage of a large amount of free open source software packages\n",
    "- Simple yet powerful\n",
    "\n",
    "We will use Python in this course as it will allow us to work with the Atomic Simulation Environment [ASE](https://wiki.fysik.dtu.dk/ase/index.html) and the DFT code [GPAW](https://wiki.fysik.dtu.dk/gpaw/index.html). Furthermore we will be using external packages to do machine learning and statistical analysis of our calculations.\n",
    "\n",
    "In this notebook we will go through some important concepts in Python. These concepts will be important for the next exercises that will focus on performing and analysing the results of DFT calculations.\n",
    "\n"
   ]
  },
  {
   "cell_type": "markdown",
   "metadata": {
    "ein.tags": "worksheet-0",
    "slideshow": {
     "slide_type": "-"
    }
   },
   "source": [
    "## Contents\n",
    "If you already are proficient in a topic you can skip it and move on to the next.\n",
    "\n",
    "- [Python basics](#python_basics)\n",
    "    - [Datastructures](#datastructures)\n",
    "    - [Functions](#functions)\n",
    "    - [Conditional statements](#conditional)\n",
    "    - [Loops](#loops)\n",
    "\n",
    "- [Numpy and SciPy](#numpy)\n",
    "- [Plotting with matplotlib](#matplotlib)\n",
    "\n"
   ]
  },
  {
   "cell_type": "markdown",
   "metadata": {
    "ein.tags": "worksheet-0",
    "slideshow": {
     "slide_type": "-"
    }
   },
   "source": [
    "## Python basics\n",
    "<a id=\"python_basics\"></a>\n",
    "\n",
    "Python has a wealth of [online documentation](https://docs.python.org/3/library/index.html#the-python-standard-library) and it is very easy to find answers to most of your questions on sites like [stackoverflow](https://stackoverflow.com/questions/tagged/python?sort=frequent&pageSize=15)"
   ]
  },
  {
   "cell_type": "code",
   "execution_count": 1,
   "metadata": {
    "autoscroll": false,
    "ein.hycell": false,
    "ein.tags": "worksheet-0",
    "slideshow": {
     "slide_type": "-"
    }
   },
   "outputs": [
    {
     "data": {
      "text/plain": [
       "5"
      ]
     },
     "execution_count": 1,
     "metadata": {},
     "output_type": "execute_result"
    }
   ],
   "source": [
    "2 + 3"
   ]
  },
  {
   "cell_type": "code",
   "execution_count": 2,
   "metadata": {
    "autoscroll": false,
    "ein.hycell": false,
    "ein.tags": "worksheet-0",
    "slideshow": {
     "slide_type": "-"
    }
   },
   "outputs": [
    {
     "data": {
      "text/plain": [
       "2.0"
      ]
     },
     "execution_count": 2,
     "metadata": {},
     "output_type": "execute_result"
    }
   ],
   "source": [
    "10 / 5"
   ]
  },
  {
   "cell_type": "code",
   "execution_count": 3,
   "metadata": {
    "autoscroll": false,
    "ein.hycell": false,
    "ein.tags": "worksheet-0",
    "slideshow": {
     "slide_type": "-"
    }
   },
   "outputs": [
    {
     "data": {
      "text/plain": [
       "12"
      ]
     },
     "execution_count": 3,
     "metadata": {},
     "output_type": "execute_result"
    }
   ],
   "source": [
    "3 * 4"
   ]
  },
  {
   "cell_type": "code",
   "execution_count": 7,
   "metadata": {
    "autoscroll": false,
    "ein.hycell": false,
    "ein.tags": "worksheet-0",
    "slideshow": {
     "slide_type": "-"
    }
   },
   "outputs": [
    {
     "name": "stdout",
     "output_type": "stream",
     "text": [
      "9\n"
     ]
    }
   ],
   "source": [
    "a = 3\n",
    "b = 2\n",
    "c = a ** b\n",
    "print(c)"
   ]
  },
  {
   "cell_type": "code",
   "execution_count": 15,
   "metadata": {
    "autoscroll": false,
    "ein.hycell": false,
    "ein.tags": "worksheet-0",
    "slideshow": {
     "slide_type": "-"
    }
   },
   "outputs": [
    {
     "name": "stdout",
     "output_type": "stream",
     "text": [
      "c = 9\n"
     ]
    }
   ],
   "source": [
    "s = 'c = '\n",
    "print(s + str(c))"
   ]
  },
  {
   "cell_type": "code",
   "execution_count": 17,
   "metadata": {
    "autoscroll": false,
    "ein.hycell": false,
    "ein.tags": "worksheet-0",
    "slideshow": {
     "slide_type": "-"
    }
   },
   "outputs": [
    {
     "name": "stdout",
     "output_type": "stream",
     "text": [
      "c = 9\n"
     ]
    }
   ],
   "source": [
    "print('c = {}'.format(c))\n"
   ]
  },
  {
   "cell_type": "markdown",
   "metadata": {
    "ein.tags": "worksheet-0",
    "slideshow": {
     "slide_type": "-"
    }
   },
   "source": [
    "### Datastructures\n",
    "<a id=\"datastructures\"></a>\n",
    "\n",
    "A `list` is an ordered collection of arbitrary objects"
   ]
  },
  {
   "cell_type": "code",
   "execution_count": 21,
   "metadata": {
    "autoscroll": false,
    "ein.hycell": false,
    "ein.tags": "worksheet-0",
    "slideshow": {
     "slide_type": "-"
    }
   },
   "outputs": [
    {
     "name": "stdout",
     "output_type": "stream",
     "text": [
      "1\n",
      "1.2\n",
      "['name', [1, 2, 3], 1.2]\n"
     ]
    }
   ],
   "source": [
    "l = [1, 'name', [1, 2, 3], 1.2]\n",
    "print(l[0])  # first element\n",
    "print(l[-1])  # last element\n",
    "print(l[1:4])  # slice notation"
   ]
  },
  {
   "cell_type": "code",
   "execution_count": 22,
   "metadata": {
    "autoscroll": false,
    "ein.hycell": false,
    "ein.tags": "worksheet-0",
    "slideshow": {
     "slide_type": "-"
    }
   },
   "outputs": [
    {
     "name": "stdout",
     "output_type": "stream",
     "text": [
      "[1, 'newname', [1, 2, 3], 1.2]\n"
     ]
    }
   ],
   "source": [
    "l[1] = 'newname'\n",
    "print(l)"
   ]
  },
  {
   "cell_type": "markdown",
   "metadata": {
    "ein.tags": "worksheet-0",
    "slideshow": {
     "slide_type": "-"
    }
   },
   "source": [
    "A `tuple` is also an ordered collection but it is *immutable*"
   ]
  },
  {
   "cell_type": "code",
   "execution_count": 23,
   "metadata": {
    "autoscroll": false,
    "ein.hycell": false,
    "ein.tags": "worksheet-0",
    "slideshow": {
     "slide_type": "-"
    }
   },
   "outputs": [
    {
     "name": "stdout",
     "output_type": "stream",
     "text": [
      "(2, 3)\n"
     ]
    }
   ],
   "source": [
    "t = (2, 3)\n",
    "print(t)"
   ]
  },
  {
   "cell_type": "code",
   "execution_count": 24,
   "metadata": {
    "autoscroll": false,
    "ein.hycell": false,
    "ein.tags": "worksheet-0",
    "slideshow": {
     "slide_type": "-"
    }
   },
   "outputs": [
    {
     "ename": "TypeError",
     "evalue": "'tuple' object does not support item assignment",
     "output_type": "error",
     "traceback": [
      "\u001b[0;31m---------------------------------------------------------------------------\u001b[0m",
      "\u001b[0;31mTypeError\u001b[0m                                 Traceback (most recent call last)",
      "\u001b[0;32m<ipython-input-24-3ca429e55d7f>\u001b[0m in \u001b[0;36m<module>\u001b[0;34m\u001b[0m\n\u001b[0;32m----> 1\u001b[0;31m \u001b[0mt\u001b[0m\u001b[0;34m[\u001b[0m\u001b[0;36m0\u001b[0m\u001b[0;34m]\u001b[0m \u001b[0;34m=\u001b[0m \u001b[0;36m4\u001b[0m  \u001b[0;31m# not possible since tuple is immutable\u001b[0m\u001b[0;34m\u001b[0m\u001b[0;34m\u001b[0m\u001b[0m\n\u001b[0m",
      "\u001b[0;31mTypeError\u001b[0m: 'tuple' object does not support item assignment"
     ]
    }
   ],
   "source": [
    "t[0] = 4  # not possible since tuple is immutable"
   ]
  },
  {
   "cell_type": "markdown",
   "metadata": {
    "ein.tags": "worksheet-0",
    "slideshow": {
     "slide_type": "-"
    }
   },
   "source": [
    "A `dict` is a mapping from keys to values"
   ]
  },
  {
   "cell_type": "code",
   "execution_count": 33,
   "metadata": {
    "autoscroll": false,
    "ein.hycell": false,
    "ein.tags": "worksheet-0",
    "slideshow": {
     "slide_type": "-"
    }
   },
   "outputs": [
    {
     "name": "stdout",
     "output_type": "stream",
     "text": [
      "{'a': 'b', 'b': 5, (2, 3): 7}\n",
      "7\n",
      "b\n",
      "5\n"
     ]
    }
   ],
   "source": [
    "d = {'a': 'b', 'b': 5, (2, 3): 7}\n",
    "print(d)\n",
    "print(d[(2, 3)])\n",
    "print(d['a'])\n",
    "d[(2, 3)]\n",
    "d[tuple([2, 3])]\n",
    "print(d[d['a']])"
   ]
  },
  {
   "cell_type": "markdown",
   "metadata": {
    "ein.tags": "worksheet-0",
    "slideshow": {
     "slide_type": "-"
    }
   },
   "source": [
    "### Functions\n",
    "<a id=\"functions\"></a>\n",
    "\n"
   ]
  },
  {
   "cell_type": "code",
   "execution_count": 34,
   "metadata": {
    "autoscroll": false,
    "ein.hycell": false,
    "ein.tags": "worksheet-0",
    "slideshow": {
     "slide_type": "-"
    }
   },
   "outputs": [],
   "source": [
    "def f(a, n=2, m=1):\n",
    "    y = a + n + m\n",
    "    return y"
   ]
  },
  {
   "cell_type": "code",
   "execution_count": 35,
   "metadata": {
    "autoscroll": false,
    "ein.hycell": false,
    "ein.tags": "worksheet-0",
    "slideshow": {
     "slide_type": "-"
    }
   },
   "outputs": [
    {
     "name": "stdout",
     "output_type": "stream",
     "text": [
      "6\n"
     ]
    }
   ],
   "source": [
    "print(f(3))\n"
   ]
  },
  {
   "cell_type": "code",
   "execution_count": 36,
   "metadata": {
    "autoscroll": false,
    "ein.hycell": false,
    "ein.tags": "worksheet-0",
    "slideshow": {
     "slide_type": "-"
    }
   },
   "outputs": [
    {
     "name": "stdout",
     "output_type": "stream",
     "text": [
      "12\n"
     ]
    }
   ],
   "source": [
    "print(f(4, m=2, n=6))"
   ]
  },
  {
   "cell_type": "code",
   "execution_count": 37,
   "metadata": {
    "autoscroll": false,
    "ein.hycell": false,
    "ein.tags": "worksheet-0",
    "slideshow": {
     "slide_type": "-"
    }
   },
   "outputs": [
    {
     "name": "stdout",
     "output_type": "stream",
     "text": [
      "10\n"
     ]
    }
   ],
   "source": [
    "print(f(m=1, n=8, a=1))"
   ]
  },
  {
   "cell_type": "markdown",
   "metadata": {
    "ein.tags": "worksheet-0",
    "slideshow": {
     "slide_type": "-"
    }
   },
   "source": [
    "### Conditional statements\n",
    "<a id=\"conditional\"></a>\n"
   ]
  },
  {
   "cell_type": "code",
   "execution_count": 38,
   "metadata": {
    "autoscroll": false,
    "ein.hycell": false,
    "ein.tags": "worksheet-0",
    "slideshow": {
     "slide_type": "-"
    }
   },
   "outputs": [
    {
     "name": "stdout",
     "output_type": "stream",
     "text": [
      "Less than 2\n"
     ]
    }
   ],
   "source": [
    "x = 1\n",
    "if x > 2:\n",
    "    print('Greater than 2')\n",
    "else:\n",
    "    print('Less than 2')"
   ]
  },
  {
   "cell_type": "code",
   "execution_count": 39,
   "metadata": {
    "autoscroll": false,
    "ein.hycell": false,
    "ein.tags": "worksheet-0",
    "slideshow": {
     "slide_type": "-"
    }
   },
   "outputs": [
    {
     "name": "stdout",
     "output_type": "stream",
     "text": [
      "1 is in the list: [1, 'newname', [1, 2, 3], 1.2]\n"
     ]
    }
   ],
   "source": [
    "# value exists in list\n",
    "if x in l:\n",
    "    print('{} is in the list: {}'.format(x, l))\n",
    "else:\n",
    "    print('{} is not in the list: {}'.format(x, l))\n"
   ]
  },
  {
   "cell_type": "markdown",
   "metadata": {
    "ein.tags": "worksheet-0",
    "slideshow": {
     "slide_type": "-"
    }
   },
   "source": [
    "### Loops\n",
    "<a id=\"loops\"></a>\n"
   ]
  },
  {
   "cell_type": "code",
   "execution_count": 42,
   "metadata": {
    "autoscroll": false,
    "ein.hycell": false,
    "ein.tags": "worksheet-0",
    "slideshow": {
     "slide_type": "-"
    }
   },
   "outputs": [
    {
     "name": "stdout",
     "output_type": "stream",
     "text": [
      "range(0, 10)\n",
      "0\n",
      "1\n",
      "2\n",
      "3\n",
      "4\n",
      "5\n",
      "6\n",
      "7\n",
      "8\n",
      "9\n",
      "Done!\n"
     ]
    }
   ],
   "source": [
    "print(range(10))\n",
    "for i in range(10):\n",
    "    print(i)\n",
    "print('Done!')"
   ]
  },
  {
   "cell_type": "code",
   "execution_count": 43,
   "metadata": {
    "autoscroll": false,
    "ein.hycell": false,
    "ein.tags": "worksheet-0",
    "slideshow": {
     "slide_type": "-"
    }
   },
   "outputs": [
    {
     "name": "stdout",
     "output_type": "stream",
     "text": [
      "0\n",
      "4\n",
      "16\n",
      "36\n",
      "64\n",
      "Done!\n"
     ]
    }
   ],
   "source": [
    "# loop with conditional statement\n",
    "for i in range(10):\n",
    "    if i%2 == 0:\n",
    "        print(i**2)\n",
    "print('Done!')"
   ]
  },
  {
   "cell_type": "code",
   "execution_count": 44,
   "metadata": {
    "autoscroll": false,
    "ein.hycell": false,
    "ein.tags": "worksheet-0",
    "slideshow": {
     "slide_type": "-"
    }
   },
   "outputs": [
    {
     "name": "stdout",
     "output_type": "stream",
     "text": [
      "[0, 4, 16, 36, 64]\n"
     ]
    }
   ],
   "source": [
    "# appending to a list in a loop\n",
    "l = []\n",
    "for i in range(10):\n",
    "    if i%2 == 0:\n",
    "        l.append(i**2)\n",
    "print(l)"
   ]
  },
  {
   "cell_type": "code",
   "execution_count": 45,
   "metadata": {
    "autoscroll": false,
    "ein.hycell": false,
    "ein.tags": "worksheet-0",
    "slideshow": {
     "slide_type": "-"
    }
   },
   "outputs": [
    {
     "data": {
      "text/plain": [
       "[0, 4, 16, 36, 64]"
      ]
     },
     "execution_count": 45,
     "metadata": {},
     "output_type": "execute_result"
    }
   ],
   "source": [
    "# list comprehension\n",
    "[i**2 for i in range(10) if i%2 == 0]  # list comprehension"
   ]
  },
  {
   "cell_type": "markdown",
   "metadata": {
    "ein.tags": "worksheet-0",
    "slideshow": {
     "slide_type": "-"
    }
   },
   "source": [
    "## NumPy\n",
    "<a id=\"numpy\"></a>\n",
    "\n",
    "[NumPy](https://docs.scipy.org/doc/numpy-1.15.1/reference/) and [SciPy](https://docs.scipy.org/doc/scipy-1.1.0/reference/) (SciPy will not be covered here) are packages extremely useful for scientific computing. The name is a contraction of *Num*erical *Py*thon. The NumPy module defines an `ndarray` type that can hold large arrays of uniform multidimensional numeric data. It is similar to a simple Python `list` but is a lot more powerful and efficient."
   ]
  },
  {
   "cell_type": "code",
   "execution_count": 46,
   "metadata": {
    "autoscroll": false,
    "ein.hycell": false,
    "ein.tags": "worksheet-0",
    "slideshow": {
     "slide_type": "-"
    }
   },
   "outputs": [
    {
     "name": "stdout",
     "output_type": "stream",
     "text": [
      "2.0\n",
      "0.816496580927726\n"
     ]
    }
   ],
   "source": [
    "# One dimensional array\n",
    "import numpy as np\n",
    "x = np.array([1, 2, 3])\n",
    "print(x.mean())\n",
    "print(x.std())"
   ]
  },
  {
   "cell_type": "code",
   "execution_count": 47,
   "metadata": {
    "autoscroll": false,
    "ein.hycell": false,
    "ein.tags": "worksheet-0",
    "slideshow": {
     "slide_type": "-"
    }
   },
   "outputs": [
    {
     "name": "stdout",
     "output_type": "stream",
     "text": [
      "(2, 3)\n",
      "[[1 7]\n",
      " [2 8]\n",
      " [3 9]]\n"
     ]
    }
   ],
   "source": [
    "# Multidimensional array\n",
    "a = np.array([[1, 2, 3], [7, 8, 9]])\n",
    "print(a.shape)\n",
    "print(a.T)  # transpose matrix"
   ]
  },
  {
   "cell_type": "code",
   "execution_count": 48,
   "metadata": {
    "autoscroll": false,
    "ein.hycell": false,
    "ein.tags": "worksheet-0",
    "slideshow": {
     "slide_type": "-"
    }
   },
   "outputs": [
    {
     "name": "stdout",
     "output_type": "stream",
     "text": [
      "[[ 1  4]\n",
      " [ 9 16]]\n",
      "[[ 7 10]\n",
      " [15 22]]\n"
     ]
    }
   ],
   "source": [
    "# Multiplication\n",
    "m = np.array([[1, 2], [3, 4]])\n",
    "\n",
    "print(m * m)  # element-wise multiplication\n",
    "print(np.dot(m, m))  # matrix multiplication"
   ]
  },
  {
   "cell_type": "code",
   "execution_count": 49,
   "metadata": {
    "autoscroll": false,
    "ein.hycell": false,
    "ein.tags": "worksheet-0",
    "slideshow": {
     "slide_type": "-"
    }
   },
   "outputs": [
    {
     "name": "stdout",
     "output_type": "stream",
     "text": [
      "[ 7 13  8]\n",
      "[ 1 -3  4]\n"
     ]
    }
   ],
   "source": [
    "# Addition and subtraction works element wise\n",
    "v1 = np.array([4, 5, 6])\n",
    "v2 = np.array([3, 8, 2])\n",
    "\n",
    "print(v1 + v2)\n",
    "print(v1 - v2)\n",
    "\n"
   ]
  },
  {
   "cell_type": "code",
   "execution_count": 50,
   "metadata": {
    "autoscroll": false,
    "ein.hycell": false,
    "ein.tags": "worksheet-0",
    "slideshow": {
     "slide_type": "-"
    }
   },
   "outputs": [
    {
     "name": "stdout",
     "output_type": "stream",
     "text": [
      "[4, 5, 6, 3, 8, 2]\n"
     ]
    }
   ],
   "source": [
    "# not so for python lists\n",
    "v1 = [4, 5, 6]\n",
    "v2 = [3, 8, 2]\n",
    "\n",
    "print(v1 + v2)\n"
   ]
  },
  {
   "cell_type": "code",
   "execution_count": 51,
   "metadata": {
    "autoscroll": false,
    "ein.hycell": false,
    "ein.tags": "worksheet-0",
    "slideshow": {
     "slide_type": "-"
    }
   },
   "outputs": [
    {
     "ename": "TypeError",
     "evalue": "unsupported operand type(s) for -: 'list' and 'list'",
     "output_type": "error",
     "traceback": [
      "\u001b[0;31m---------------------------------------------------------------------------\u001b[0m",
      "\u001b[0;31mTypeError\u001b[0m                                 Traceback (most recent call last)",
      "\u001b[0;32m<ipython-input-51-643d0fa3d4c1>\u001b[0m in \u001b[0;36m<module>\u001b[0;34m\u001b[0m\n\u001b[0;32m----> 1\u001b[0;31m \u001b[0mprint\u001b[0m\u001b[0;34m(\u001b[0m\u001b[0mv1\u001b[0m \u001b[0;34m-\u001b[0m \u001b[0mv2\u001b[0m\u001b[0;34m)\u001b[0m  \u001b[0;31m# not supported\u001b[0m\u001b[0;34m\u001b[0m\u001b[0;34m\u001b[0m\u001b[0m\n\u001b[0m",
      "\u001b[0;31mTypeError\u001b[0m: unsupported operand type(s) for -: 'list' and 'list'"
     ]
    }
   ],
   "source": [
    "print(v1 - v2)  # not supported"
   ]
  },
  {
   "cell_type": "markdown",
   "metadata": {
    "ein.tags": "worksheet-0",
    "slideshow": {
     "slide_type": "-"
    }
   },
   "source": [
    "## Plotting with matplotlib\n",
    "<a id=\"matplotlib\"></a>\n",
    "\n",
    "Matplotlib is a basic plotting library. It is very powerful and the standard within Python scientific computing."
   ]
  },
  {
   "cell_type": "code",
   "execution_count": 56,
   "metadata": {
    "autoscroll": false,
    "ein.hycell": false,
    "ein.tags": "worksheet-0",
    "slideshow": {
     "slide_type": "-"
    }
   },
   "outputs": [
    {
     "data": {
      "application/javascript": [
       "/* Put everything inside the global mpl namespace */\n",
       "window.mpl = {};\n",
       "\n",
       "\n",
       "mpl.get_websocket_type = function() {\n",
       "    if (typeof(WebSocket) !== 'undefined') {\n",
       "        return WebSocket;\n",
       "    } else if (typeof(MozWebSocket) !== 'undefined') {\n",
       "        return MozWebSocket;\n",
       "    } else {\n",
       "        alert('Your browser does not have WebSocket support. ' +\n",
       "              'Please try Chrome, Safari or Firefox ≥ 6. ' +\n",
       "              'Firefox 4 and 5 are also supported but you ' +\n",
       "              'have to enable WebSockets in about:config.');\n",
       "    };\n",
       "}\n",
       "\n",
       "mpl.figure = function(figure_id, websocket, ondownload, parent_element) {\n",
       "    this.id = figure_id;\n",
       "\n",
       "    this.ws = websocket;\n",
       "\n",
       "    this.supports_binary = (this.ws.binaryType != undefined);\n",
       "\n",
       "    if (!this.supports_binary) {\n",
       "        var warnings = document.getElementById(\"mpl-warnings\");\n",
       "        if (warnings) {\n",
       "            warnings.style.display = 'block';\n",
       "            warnings.textContent = (\n",
       "                \"This browser does not support binary websocket messages. \" +\n",
       "                    \"Performance may be slow.\");\n",
       "        }\n",
       "    }\n",
       "\n",
       "    this.imageObj = new Image();\n",
       "\n",
       "    this.context = undefined;\n",
       "    this.message = undefined;\n",
       "    this.canvas = undefined;\n",
       "    this.rubberband_canvas = undefined;\n",
       "    this.rubberband_context = undefined;\n",
       "    this.format_dropdown = undefined;\n",
       "\n",
       "    this.image_mode = 'full';\n",
       "\n",
       "    this.root = $('<div/>');\n",
       "    this._root_extra_style(this.root)\n",
       "    this.root.attr('style', 'display: inline-block');\n",
       "\n",
       "    $(parent_element).append(this.root);\n",
       "\n",
       "    this._init_header(this);\n",
       "    this._init_canvas(this);\n",
       "    this._init_toolbar(this);\n",
       "\n",
       "    var fig = this;\n",
       "\n",
       "    this.waiting = false;\n",
       "\n",
       "    this.ws.onopen =  function () {\n",
       "            fig.send_message(\"supports_binary\", {value: fig.supports_binary});\n",
       "            fig.send_message(\"send_image_mode\", {});\n",
       "            if (mpl.ratio != 1) {\n",
       "                fig.send_message(\"set_dpi_ratio\", {'dpi_ratio': mpl.ratio});\n",
       "            }\n",
       "            fig.send_message(\"refresh\", {});\n",
       "        }\n",
       "\n",
       "    this.imageObj.onload = function() {\n",
       "            if (fig.image_mode == 'full') {\n",
       "                // Full images could contain transparency (where diff images\n",
       "                // almost always do), so we need to clear the canvas so that\n",
       "                // there is no ghosting.\n",
       "                fig.context.clearRect(0, 0, fig.canvas.width, fig.canvas.height);\n",
       "            }\n",
       "            fig.context.drawImage(fig.imageObj, 0, 0);\n",
       "        };\n",
       "\n",
       "    this.imageObj.onunload = function() {\n",
       "        fig.ws.close();\n",
       "    }\n",
       "\n",
       "    this.ws.onmessage = this._make_on_message_function(this);\n",
       "\n",
       "    this.ondownload = ondownload;\n",
       "}\n",
       "\n",
       "mpl.figure.prototype._init_header = function() {\n",
       "    var titlebar = $(\n",
       "        '<div class=\"ui-dialog-titlebar ui-widget-header ui-corner-all ' +\n",
       "        'ui-helper-clearfix\"/>');\n",
       "    var titletext = $(\n",
       "        '<div class=\"ui-dialog-title\" style=\"width: 100%; ' +\n",
       "        'text-align: center; padding: 3px;\"/>');\n",
       "    titlebar.append(titletext)\n",
       "    this.root.append(titlebar);\n",
       "    this.header = titletext[0];\n",
       "}\n",
       "\n",
       "\n",
       "\n",
       "mpl.figure.prototype._canvas_extra_style = function(canvas_div) {\n",
       "\n",
       "}\n",
       "\n",
       "\n",
       "mpl.figure.prototype._root_extra_style = function(canvas_div) {\n",
       "\n",
       "}\n",
       "\n",
       "mpl.figure.prototype._init_canvas = function() {\n",
       "    var fig = this;\n",
       "\n",
       "    var canvas_div = $('<div/>');\n",
       "\n",
       "    canvas_div.attr('style', 'position: relative; clear: both; outline: 0');\n",
       "\n",
       "    function canvas_keyboard_event(event) {\n",
       "        return fig.key_event(event, event['data']);\n",
       "    }\n",
       "\n",
       "    canvas_div.keydown('key_press', canvas_keyboard_event);\n",
       "    canvas_div.keyup('key_release', canvas_keyboard_event);\n",
       "    this.canvas_div = canvas_div\n",
       "    this._canvas_extra_style(canvas_div)\n",
       "    this.root.append(canvas_div);\n",
       "\n",
       "    var canvas = $('<canvas/>');\n",
       "    canvas.addClass('mpl-canvas');\n",
       "    canvas.attr('style', \"left: 0; top: 0; z-index: 0; outline: 0\")\n",
       "\n",
       "    this.canvas = canvas[0];\n",
       "    this.context = canvas[0].getContext(\"2d\");\n",
       "\n",
       "    var backingStore = this.context.backingStorePixelRatio ||\n",
       "\tthis.context.webkitBackingStorePixelRatio ||\n",
       "\tthis.context.mozBackingStorePixelRatio ||\n",
       "\tthis.context.msBackingStorePixelRatio ||\n",
       "\tthis.context.oBackingStorePixelRatio ||\n",
       "\tthis.context.backingStorePixelRatio || 1;\n",
       "\n",
       "    mpl.ratio = (window.devicePixelRatio || 1) / backingStore;\n",
       "\n",
       "    var rubberband = $('<canvas/>');\n",
       "    rubberband.attr('style', \"position: absolute; left: 0; top: 0; z-index: 1;\")\n",
       "\n",
       "    var pass_mouse_events = true;\n",
       "\n",
       "    canvas_div.resizable({\n",
       "        start: function(event, ui) {\n",
       "            pass_mouse_events = false;\n",
       "        },\n",
       "        resize: function(event, ui) {\n",
       "            fig.request_resize(ui.size.width, ui.size.height);\n",
       "        },\n",
       "        stop: function(event, ui) {\n",
       "            pass_mouse_events = true;\n",
       "            fig.request_resize(ui.size.width, ui.size.height);\n",
       "        },\n",
       "    });\n",
       "\n",
       "    function mouse_event_fn(event) {\n",
       "        if (pass_mouse_events)\n",
       "            return fig.mouse_event(event, event['data']);\n",
       "    }\n",
       "\n",
       "    rubberband.mousedown('button_press', mouse_event_fn);\n",
       "    rubberband.mouseup('button_release', mouse_event_fn);\n",
       "    // Throttle sequential mouse events to 1 every 20ms.\n",
       "    rubberband.mousemove('motion_notify', mouse_event_fn);\n",
       "\n",
       "    rubberband.mouseenter('figure_enter', mouse_event_fn);\n",
       "    rubberband.mouseleave('figure_leave', mouse_event_fn);\n",
       "\n",
       "    canvas_div.on(\"wheel\", function (event) {\n",
       "        event = event.originalEvent;\n",
       "        event['data'] = 'scroll'\n",
       "        if (event.deltaY < 0) {\n",
       "            event.step = 1;\n",
       "        } else {\n",
       "            event.step = -1;\n",
       "        }\n",
       "        mouse_event_fn(event);\n",
       "    });\n",
       "\n",
       "    canvas_div.append(canvas);\n",
       "    canvas_div.append(rubberband);\n",
       "\n",
       "    this.rubberband = rubberband;\n",
       "    this.rubberband_canvas = rubberband[0];\n",
       "    this.rubberband_context = rubberband[0].getContext(\"2d\");\n",
       "    this.rubberband_context.strokeStyle = \"#000000\";\n",
       "\n",
       "    this._resize_canvas = function(width, height) {\n",
       "        // Keep the size of the canvas, canvas container, and rubber band\n",
       "        // canvas in synch.\n",
       "        canvas_div.css('width', width)\n",
       "        canvas_div.css('height', height)\n",
       "\n",
       "        canvas.attr('width', width * mpl.ratio);\n",
       "        canvas.attr('height', height * mpl.ratio);\n",
       "        canvas.attr('style', 'width: ' + width + 'px; height: ' + height + 'px;');\n",
       "\n",
       "        rubberband.attr('width', width);\n",
       "        rubberband.attr('height', height);\n",
       "    }\n",
       "\n",
       "    // Set the figure to an initial 600x600px, this will subsequently be updated\n",
       "    // upon first draw.\n",
       "    this._resize_canvas(600, 600);\n",
       "\n",
       "    // Disable right mouse context menu.\n",
       "    $(this.rubberband_canvas).bind(\"contextmenu\",function(e){\n",
       "        return false;\n",
       "    });\n",
       "\n",
       "    function set_focus () {\n",
       "        canvas.focus();\n",
       "        canvas_div.focus();\n",
       "    }\n",
       "\n",
       "    window.setTimeout(set_focus, 100);\n",
       "}\n",
       "\n",
       "mpl.figure.prototype._init_toolbar = function() {\n",
       "    var fig = this;\n",
       "\n",
       "    var nav_element = $('<div/>');\n",
       "    nav_element.attr('style', 'width: 100%');\n",
       "    this.root.append(nav_element);\n",
       "\n",
       "    // Define a callback function for later on.\n",
       "    function toolbar_event(event) {\n",
       "        return fig.toolbar_button_onclick(event['data']);\n",
       "    }\n",
       "    function toolbar_mouse_event(event) {\n",
       "        return fig.toolbar_button_onmouseover(event['data']);\n",
       "    }\n",
       "\n",
       "    for(var toolbar_ind in mpl.toolbar_items) {\n",
       "        var name = mpl.toolbar_items[toolbar_ind][0];\n",
       "        var tooltip = mpl.toolbar_items[toolbar_ind][1];\n",
       "        var image = mpl.toolbar_items[toolbar_ind][2];\n",
       "        var method_name = mpl.toolbar_items[toolbar_ind][3];\n",
       "\n",
       "        if (!name) {\n",
       "            // put a spacer in here.\n",
       "            continue;\n",
       "        }\n",
       "        var button = $('<button/>');\n",
       "        button.addClass('ui-button ui-widget ui-state-default ui-corner-all ' +\n",
       "                        'ui-button-icon-only');\n",
       "        button.attr('role', 'button');\n",
       "        button.attr('aria-disabled', 'false');\n",
       "        button.click(method_name, toolbar_event);\n",
       "        button.mouseover(tooltip, toolbar_mouse_event);\n",
       "\n",
       "        var icon_img = $('<span/>');\n",
       "        icon_img.addClass('ui-button-icon-primary ui-icon');\n",
       "        icon_img.addClass(image);\n",
       "        icon_img.addClass('ui-corner-all');\n",
       "\n",
       "        var tooltip_span = $('<span/>');\n",
       "        tooltip_span.addClass('ui-button-text');\n",
       "        tooltip_span.html(tooltip);\n",
       "\n",
       "        button.append(icon_img);\n",
       "        button.append(tooltip_span);\n",
       "\n",
       "        nav_element.append(button);\n",
       "    }\n",
       "\n",
       "    var fmt_picker_span = $('<span/>');\n",
       "\n",
       "    var fmt_picker = $('<select/>');\n",
       "    fmt_picker.addClass('mpl-toolbar-option ui-widget ui-widget-content');\n",
       "    fmt_picker_span.append(fmt_picker);\n",
       "    nav_element.append(fmt_picker_span);\n",
       "    this.format_dropdown = fmt_picker[0];\n",
       "\n",
       "    for (var ind in mpl.extensions) {\n",
       "        var fmt = mpl.extensions[ind];\n",
       "        var option = $(\n",
       "            '<option/>', {selected: fmt === mpl.default_extension}).html(fmt);\n",
       "        fmt_picker.append(option);\n",
       "    }\n",
       "\n",
       "    // Add hover states to the ui-buttons\n",
       "    $( \".ui-button\" ).hover(\n",
       "        function() { $(this).addClass(\"ui-state-hover\");},\n",
       "        function() { $(this).removeClass(\"ui-state-hover\");}\n",
       "    );\n",
       "\n",
       "    var status_bar = $('<span class=\"mpl-message\"/>');\n",
       "    nav_element.append(status_bar);\n",
       "    this.message = status_bar[0];\n",
       "}\n",
       "\n",
       "mpl.figure.prototype.request_resize = function(x_pixels, y_pixels) {\n",
       "    // Request matplotlib to resize the figure. Matplotlib will then trigger a resize in the client,\n",
       "    // which will in turn request a refresh of the image.\n",
       "    this.send_message('resize', {'width': x_pixels, 'height': y_pixels});\n",
       "}\n",
       "\n",
       "mpl.figure.prototype.send_message = function(type, properties) {\n",
       "    properties['type'] = type;\n",
       "    properties['figure_id'] = this.id;\n",
       "    this.ws.send(JSON.stringify(properties));\n",
       "}\n",
       "\n",
       "mpl.figure.prototype.send_draw_message = function() {\n",
       "    if (!this.waiting) {\n",
       "        this.waiting = true;\n",
       "        this.ws.send(JSON.stringify({type: \"draw\", figure_id: this.id}));\n",
       "    }\n",
       "}\n",
       "\n",
       "\n",
       "mpl.figure.prototype.handle_save = function(fig, msg) {\n",
       "    var format_dropdown = fig.format_dropdown;\n",
       "    var format = format_dropdown.options[format_dropdown.selectedIndex].value;\n",
       "    fig.ondownload(fig, format);\n",
       "}\n",
       "\n",
       "\n",
       "mpl.figure.prototype.handle_resize = function(fig, msg) {\n",
       "    var size = msg['size'];\n",
       "    if (size[0] != fig.canvas.width || size[1] != fig.canvas.height) {\n",
       "        fig._resize_canvas(size[0], size[1]);\n",
       "        fig.send_message(\"refresh\", {});\n",
       "    };\n",
       "}\n",
       "\n",
       "mpl.figure.prototype.handle_rubberband = function(fig, msg) {\n",
       "    var x0 = msg['x0'] / mpl.ratio;\n",
       "    var y0 = (fig.canvas.height - msg['y0']) / mpl.ratio;\n",
       "    var x1 = msg['x1'] / mpl.ratio;\n",
       "    var y1 = (fig.canvas.height - msg['y1']) / mpl.ratio;\n",
       "    x0 = Math.floor(x0) + 0.5;\n",
       "    y0 = Math.floor(y0) + 0.5;\n",
       "    x1 = Math.floor(x1) + 0.5;\n",
       "    y1 = Math.floor(y1) + 0.5;\n",
       "    var min_x = Math.min(x0, x1);\n",
       "    var min_y = Math.min(y0, y1);\n",
       "    var width = Math.abs(x1 - x0);\n",
       "    var height = Math.abs(y1 - y0);\n",
       "\n",
       "    fig.rubberband_context.clearRect(\n",
       "        0, 0, fig.canvas.width, fig.canvas.height);\n",
       "\n",
       "    fig.rubberband_context.strokeRect(min_x, min_y, width, height);\n",
       "}\n",
       "\n",
       "mpl.figure.prototype.handle_figure_label = function(fig, msg) {\n",
       "    // Updates the figure title.\n",
       "    fig.header.textContent = msg['label'];\n",
       "}\n",
       "\n",
       "mpl.figure.prototype.handle_cursor = function(fig, msg) {\n",
       "    var cursor = msg['cursor'];\n",
       "    switch(cursor)\n",
       "    {\n",
       "    case 0:\n",
       "        cursor = 'pointer';\n",
       "        break;\n",
       "    case 1:\n",
       "        cursor = 'default';\n",
       "        break;\n",
       "    case 2:\n",
       "        cursor = 'crosshair';\n",
       "        break;\n",
       "    case 3:\n",
       "        cursor = 'move';\n",
       "        break;\n",
       "    }\n",
       "    fig.rubberband_canvas.style.cursor = cursor;\n",
       "}\n",
       "\n",
       "mpl.figure.prototype.handle_message = function(fig, msg) {\n",
       "    fig.message.textContent = msg['message'];\n",
       "}\n",
       "\n",
       "mpl.figure.prototype.handle_draw = function(fig, msg) {\n",
       "    // Request the server to send over a new figure.\n",
       "    fig.send_draw_message();\n",
       "}\n",
       "\n",
       "mpl.figure.prototype.handle_image_mode = function(fig, msg) {\n",
       "    fig.image_mode = msg['mode'];\n",
       "}\n",
       "\n",
       "mpl.figure.prototype.updated_canvas_event = function() {\n",
       "    // Called whenever the canvas gets updated.\n",
       "    this.send_message(\"ack\", {});\n",
       "}\n",
       "\n",
       "// A function to construct a web socket function for onmessage handling.\n",
       "// Called in the figure constructor.\n",
       "mpl.figure.prototype._make_on_message_function = function(fig) {\n",
       "    return function socket_on_message(evt) {\n",
       "        if (evt.data instanceof Blob) {\n",
       "            /* FIXME: We get \"Resource interpreted as Image but\n",
       "             * transferred with MIME type text/plain:\" errors on\n",
       "             * Chrome.  But how to set the MIME type?  It doesn't seem\n",
       "             * to be part of the websocket stream */\n",
       "            evt.data.type = \"image/png\";\n",
       "\n",
       "            /* Free the memory for the previous frames */\n",
       "            if (fig.imageObj.src) {\n",
       "                (window.URL || window.webkitURL).revokeObjectURL(\n",
       "                    fig.imageObj.src);\n",
       "            }\n",
       "\n",
       "            fig.imageObj.src = (window.URL || window.webkitURL).createObjectURL(\n",
       "                evt.data);\n",
       "            fig.updated_canvas_event();\n",
       "            fig.waiting = false;\n",
       "            return;\n",
       "        }\n",
       "        else if (typeof evt.data === 'string' && evt.data.slice(0, 21) == \"data:image/png;base64\") {\n",
       "            fig.imageObj.src = evt.data;\n",
       "            fig.updated_canvas_event();\n",
       "            fig.waiting = false;\n",
       "            return;\n",
       "        }\n",
       "\n",
       "        var msg = JSON.parse(evt.data);\n",
       "        var msg_type = msg['type'];\n",
       "\n",
       "        // Call the  \"handle_{type}\" callback, which takes\n",
       "        // the figure and JSON message as its only arguments.\n",
       "        try {\n",
       "            var callback = fig[\"handle_\" + msg_type];\n",
       "        } catch (e) {\n",
       "            console.log(\"No handler for the '\" + msg_type + \"' message type: \", msg);\n",
       "            return;\n",
       "        }\n",
       "\n",
       "        if (callback) {\n",
       "            try {\n",
       "                // console.log(\"Handling '\" + msg_type + \"' message: \", msg);\n",
       "                callback(fig, msg);\n",
       "            } catch (e) {\n",
       "                console.log(\"Exception inside the 'handler_\" + msg_type + \"' callback:\", e, e.stack, msg);\n",
       "            }\n",
       "        }\n",
       "    };\n",
       "}\n",
       "\n",
       "// from http://stackoverflow.com/questions/1114465/getting-mouse-location-in-canvas\n",
       "mpl.findpos = function(e) {\n",
       "    //this section is from http://www.quirksmode.org/js/events_properties.html\n",
       "    var targ;\n",
       "    if (!e)\n",
       "        e = window.event;\n",
       "    if (e.target)\n",
       "        targ = e.target;\n",
       "    else if (e.srcElement)\n",
       "        targ = e.srcElement;\n",
       "    if (targ.nodeType == 3) // defeat Safari bug\n",
       "        targ = targ.parentNode;\n",
       "\n",
       "    // jQuery normalizes the pageX and pageY\n",
       "    // pageX,Y are the mouse positions relative to the document\n",
       "    // offset() returns the position of the element relative to the document\n",
       "    var x = e.pageX - $(targ).offset().left;\n",
       "    var y = e.pageY - $(targ).offset().top;\n",
       "\n",
       "    return {\"x\": x, \"y\": y};\n",
       "};\n",
       "\n",
       "/*\n",
       " * return a copy of an object with only non-object keys\n",
       " * we need this to avoid circular references\n",
       " * http://stackoverflow.com/a/24161582/3208463\n",
       " */\n",
       "function simpleKeys (original) {\n",
       "  return Object.keys(original).reduce(function (obj, key) {\n",
       "    if (typeof original[key] !== 'object')\n",
       "        obj[key] = original[key]\n",
       "    return obj;\n",
       "  }, {});\n",
       "}\n",
       "\n",
       "mpl.figure.prototype.mouse_event = function(event, name) {\n",
       "    var canvas_pos = mpl.findpos(event)\n",
       "\n",
       "    if (name === 'button_press')\n",
       "    {\n",
       "        this.canvas.focus();\n",
       "        this.canvas_div.focus();\n",
       "    }\n",
       "\n",
       "    var x = canvas_pos.x * mpl.ratio;\n",
       "    var y = canvas_pos.y * mpl.ratio;\n",
       "\n",
       "    this.send_message(name, {x: x, y: y, button: event.button,\n",
       "                             step: event.step,\n",
       "                             guiEvent: simpleKeys(event)});\n",
       "\n",
       "    /* This prevents the web browser from automatically changing to\n",
       "     * the text insertion cursor when the button is pressed.  We want\n",
       "     * to control all of the cursor setting manually through the\n",
       "     * 'cursor' event from matplotlib */\n",
       "    event.preventDefault();\n",
       "    return false;\n",
       "}\n",
       "\n",
       "mpl.figure.prototype._key_event_extra = function(event, name) {\n",
       "    // Handle any extra behaviour associated with a key event\n",
       "}\n",
       "\n",
       "mpl.figure.prototype.key_event = function(event, name) {\n",
       "\n",
       "    // Prevent repeat events\n",
       "    if (name == 'key_press')\n",
       "    {\n",
       "        if (event.which === this._key)\n",
       "            return;\n",
       "        else\n",
       "            this._key = event.which;\n",
       "    }\n",
       "    if (name == 'key_release')\n",
       "        this._key = null;\n",
       "\n",
       "    var value = '';\n",
       "    if (event.ctrlKey && event.which != 17)\n",
       "        value += \"ctrl+\";\n",
       "    if (event.altKey && event.which != 18)\n",
       "        value += \"alt+\";\n",
       "    if (event.shiftKey && event.which != 16)\n",
       "        value += \"shift+\";\n",
       "\n",
       "    value += 'k';\n",
       "    value += event.which.toString();\n",
       "\n",
       "    this._key_event_extra(event, name);\n",
       "\n",
       "    this.send_message(name, {key: value,\n",
       "                             guiEvent: simpleKeys(event)});\n",
       "    return false;\n",
       "}\n",
       "\n",
       "mpl.figure.prototype.toolbar_button_onclick = function(name) {\n",
       "    if (name == 'download') {\n",
       "        this.handle_save(this, null);\n",
       "    } else {\n",
       "        this.send_message(\"toolbar_button\", {name: name});\n",
       "    }\n",
       "};\n",
       "\n",
       "mpl.figure.prototype.toolbar_button_onmouseover = function(tooltip) {\n",
       "    this.message.textContent = tooltip;\n",
       "};\n",
       "mpl.toolbar_items = [[\"Home\", \"Reset original view\", \"fa fa-home icon-home\", \"home\"], [\"Back\", \"Back to previous view\", \"fa fa-arrow-left icon-arrow-left\", \"back\"], [\"Forward\", \"Forward to next view\", \"fa fa-arrow-right icon-arrow-right\", \"forward\"], [\"\", \"\", \"\", \"\"], [\"Pan\", \"Pan axes with left mouse, zoom with right\", \"fa fa-arrows icon-move\", \"pan\"], [\"Zoom\", \"Zoom to rectangle\", \"fa fa-square-o icon-check-empty\", \"zoom\"], [\"\", \"\", \"\", \"\"], [\"Download\", \"Download plot\", \"fa fa-floppy-o icon-save\", \"download\"]];\n",
       "\n",
       "mpl.extensions = [\"eps\", \"jpeg\", \"pdf\", \"png\", \"ps\", \"raw\", \"svg\", \"tif\"];\n",
       "\n",
       "mpl.default_extension = \"png\";var comm_websocket_adapter = function(comm) {\n",
       "    // Create a \"websocket\"-like object which calls the given IPython comm\n",
       "    // object with the appropriate methods. Currently this is a non binary\n",
       "    // socket, so there is still some room for performance tuning.\n",
       "    var ws = {};\n",
       "\n",
       "    ws.close = function() {\n",
       "        comm.close()\n",
       "    };\n",
       "    ws.send = function(m) {\n",
       "        //console.log('sending', m);\n",
       "        comm.send(m);\n",
       "    };\n",
       "    // Register the callback with on_msg.\n",
       "    comm.on_msg(function(msg) {\n",
       "        //console.log('receiving', msg['content']['data'], msg);\n",
       "        // Pass the mpl event to the overridden (by mpl) onmessage function.\n",
       "        ws.onmessage(msg['content']['data'])\n",
       "    });\n",
       "    return ws;\n",
       "}\n",
       "\n",
       "mpl.mpl_figure_comm = function(comm, msg) {\n",
       "    // This is the function which gets called when the mpl process\n",
       "    // starts-up an IPython Comm through the \"matplotlib\" channel.\n",
       "\n",
       "    var id = msg.content.data.id;\n",
       "    // Get hold of the div created by the display call when the Comm\n",
       "    // socket was opened in Python.\n",
       "    var element = $(\"#\" + id);\n",
       "    var ws_proxy = comm_websocket_adapter(comm)\n",
       "\n",
       "    function ondownload(figure, format) {\n",
       "        window.open(figure.imageObj.src);\n",
       "    }\n",
       "\n",
       "    var fig = new mpl.figure(id, ws_proxy,\n",
       "                           ondownload,\n",
       "                           element.get(0));\n",
       "\n",
       "    // Call onopen now - mpl needs it, as it is assuming we've passed it a real\n",
       "    // web socket which is closed, not our websocket->open comm proxy.\n",
       "    ws_proxy.onopen();\n",
       "\n",
       "    fig.parent_element = element.get(0);\n",
       "    fig.cell_info = mpl.find_output_cell(\"<div id='\" + id + \"'></div>\");\n",
       "    if (!fig.cell_info) {\n",
       "        console.error(\"Failed to find cell for figure\", id, fig);\n",
       "        return;\n",
       "    }\n",
       "\n",
       "    var output_index = fig.cell_info[2]\n",
       "    var cell = fig.cell_info[0];\n",
       "\n",
       "};\n",
       "\n",
       "mpl.figure.prototype.handle_close = function(fig, msg) {\n",
       "    var width = fig.canvas.width/mpl.ratio\n",
       "    fig.root.unbind('remove')\n",
       "\n",
       "    // Update the output cell to use the data from the current canvas.\n",
       "    fig.push_to_output();\n",
       "    var dataURL = fig.canvas.toDataURL();\n",
       "    // Re-enable the keyboard manager in IPython - without this line, in FF,\n",
       "    // the notebook keyboard shortcuts fail.\n",
       "    IPython.keyboard_manager.enable()\n",
       "    $(fig.parent_element).html('<img src=\"' + dataURL + '\" width=\"' + width + '\">');\n",
       "    fig.close_ws(fig, msg);\n",
       "}\n",
       "\n",
       "mpl.figure.prototype.close_ws = function(fig, msg){\n",
       "    fig.send_message('closing', msg);\n",
       "    // fig.ws.close()\n",
       "}\n",
       "\n",
       "mpl.figure.prototype.push_to_output = function(remove_interactive) {\n",
       "    // Turn the data on the canvas into data in the output cell.\n",
       "    var width = this.canvas.width/mpl.ratio\n",
       "    var dataURL = this.canvas.toDataURL();\n",
       "    this.cell_info[1]['text/html'] = '<img src=\"' + dataURL + '\" width=\"' + width + '\">';\n",
       "}\n",
       "\n",
       "mpl.figure.prototype.updated_canvas_event = function() {\n",
       "    // Tell IPython that the notebook contents must change.\n",
       "    IPython.notebook.set_dirty(true);\n",
       "    this.send_message(\"ack\", {});\n",
       "    var fig = this;\n",
       "    // Wait a second, then push the new image to the DOM so\n",
       "    // that it is saved nicely (might be nice to debounce this).\n",
       "    setTimeout(function () { fig.push_to_output() }, 1000);\n",
       "}\n",
       "\n",
       "mpl.figure.prototype._init_toolbar = function() {\n",
       "    var fig = this;\n",
       "\n",
       "    var nav_element = $('<div/>');\n",
       "    nav_element.attr('style', 'width: 100%');\n",
       "    this.root.append(nav_element);\n",
       "\n",
       "    // Define a callback function for later on.\n",
       "    function toolbar_event(event) {\n",
       "        return fig.toolbar_button_onclick(event['data']);\n",
       "    }\n",
       "    function toolbar_mouse_event(event) {\n",
       "        return fig.toolbar_button_onmouseover(event['data']);\n",
       "    }\n",
       "\n",
       "    for(var toolbar_ind in mpl.toolbar_items){\n",
       "        var name = mpl.toolbar_items[toolbar_ind][0];\n",
       "        var tooltip = mpl.toolbar_items[toolbar_ind][1];\n",
       "        var image = mpl.toolbar_items[toolbar_ind][2];\n",
       "        var method_name = mpl.toolbar_items[toolbar_ind][3];\n",
       "\n",
       "        if (!name) { continue; };\n",
       "\n",
       "        var button = $('<button class=\"btn btn-default\" href=\"#\" title=\"' + name + '\"><i class=\"fa ' + image + ' fa-lg\"></i></button>');\n",
       "        button.click(method_name, toolbar_event);\n",
       "        button.mouseover(tooltip, toolbar_mouse_event);\n",
       "        nav_element.append(button);\n",
       "    }\n",
       "\n",
       "    // Add the status bar.\n",
       "    var status_bar = $('<span class=\"mpl-message\" style=\"text-align:right; float: right;\"/>');\n",
       "    nav_element.append(status_bar);\n",
       "    this.message = status_bar[0];\n",
       "\n",
       "    // Add the close button to the window.\n",
       "    var buttongrp = $('<div class=\"btn-group inline pull-right\"></div>');\n",
       "    var button = $('<button class=\"btn btn-mini btn-primary\" href=\"#\" title=\"Stop Interaction\"><i class=\"fa fa-power-off icon-remove icon-large\"></i></button>');\n",
       "    button.click(function (evt) { fig.handle_close(fig, {}); } );\n",
       "    button.mouseover('Stop Interaction', toolbar_mouse_event);\n",
       "    buttongrp.append(button);\n",
       "    var titlebar = this.root.find($('.ui-dialog-titlebar'));\n",
       "    titlebar.prepend(buttongrp);\n",
       "}\n",
       "\n",
       "mpl.figure.prototype._root_extra_style = function(el){\n",
       "    var fig = this\n",
       "    el.on(\"remove\", function(){\n",
       "\tfig.close_ws(fig, {});\n",
       "    });\n",
       "}\n",
       "\n",
       "mpl.figure.prototype._canvas_extra_style = function(el){\n",
       "    // this is important to make the div 'focusable\n",
       "    el.attr('tabindex', 0)\n",
       "    // reach out to IPython and tell the keyboard manager to turn it's self\n",
       "    // off when our div gets focus\n",
       "\n",
       "    // location in version 3\n",
       "    if (IPython.notebook.keyboard_manager) {\n",
       "        IPython.notebook.keyboard_manager.register_events(el);\n",
       "    }\n",
       "    else {\n",
       "        // location in version 2\n",
       "        IPython.keyboard_manager.register_events(el);\n",
       "    }\n",
       "\n",
       "}\n",
       "\n",
       "mpl.figure.prototype._key_event_extra = function(event, name) {\n",
       "    var manager = IPython.notebook.keyboard_manager;\n",
       "    if (!manager)\n",
       "        manager = IPython.keyboard_manager;\n",
       "\n",
       "    // Check for shift+enter\n",
       "    if (event.shiftKey && event.which == 13) {\n",
       "        this.canvas_div.blur();\n",
       "        event.shiftKey = false;\n",
       "        // Send a \"J\" for go to next cell\n",
       "        event.which = 74;\n",
       "        event.keyCode = 74;\n",
       "        manager.command_mode();\n",
       "        manager.handle_keydown(event);\n",
       "    }\n",
       "}\n",
       "\n",
       "mpl.figure.prototype.handle_save = function(fig, msg) {\n",
       "    fig.ondownload(fig, null);\n",
       "}\n",
       "\n",
       "\n",
       "mpl.find_output_cell = function(html_output) {\n",
       "    // Return the cell and output element which can be found *uniquely* in the notebook.\n",
       "    // Note - this is a bit hacky, but it is done because the \"notebook_saving.Notebook\"\n",
       "    // IPython event is triggered only after the cells have been serialised, which for\n",
       "    // our purposes (turning an active figure into a static one), is too late.\n",
       "    var cells = IPython.notebook.get_cells();\n",
       "    var ncells = cells.length;\n",
       "    for (var i=0; i<ncells; i++) {\n",
       "        var cell = cells[i];\n",
       "        if (cell.cell_type === 'code'){\n",
       "            for (var j=0; j<cell.output_area.outputs.length; j++) {\n",
       "                var data = cell.output_area.outputs[j];\n",
       "                if (data.data) {\n",
       "                    // IPython >= 3 moved mimebundle to data attribute of output\n",
       "                    data = data.data;\n",
       "                }\n",
       "                if (data['text/html'] == html_output) {\n",
       "                    return [cell, data, j];\n",
       "                }\n",
       "            }\n",
       "        }\n",
       "    }\n",
       "}\n",
       "\n",
       "// Register the function which deals with the matplotlib target/channel.\n",
       "// The kernel may be null if the page has been refreshed.\n",
       "if (IPython.notebook.kernel != null) {\n",
       "    IPython.notebook.kernel.comm_manager.register_target('matplotlib', mpl.mpl_figure_comm);\n",
       "}\n"
      ],
      "text/plain": [
       "<IPython.core.display.Javascript object>"
      ]
     },
     "metadata": {},
     "output_type": "display_data"
    },
    {
     "data": {
      "text/html": [
       "<img src=\"data:image/png;base64,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\" width=\"640\">"
      ],
      "text/plain": [
       "<IPython.core.display.HTML object>"
      ]
     },
     "metadata": {},
     "output_type": "display_data"
    },
    {
     "data": {
      "text/plain": [
       "[<matplotlib.lines.Line2D at 0x7f1e10980978>]"
      ]
     },
     "execution_count": 56,
     "metadata": {},
     "output_type": "execute_result"
    }
   ],
   "source": [
    "# In a Jupyter Notebook, this magic line gives nice inline figures, with interactive possibilities.\n",
    "# This line MUST appear before you import matplotlib or a package using matplotlib (e.g. ase)\n",
    "%matplotlib notebook\n",
    "import matplotlib.pyplot as plt\n",
    "import numpy as np\n",
    "\n",
    "datapoints = [(0, 0), (1, 1), (2, 3)]  # [(x0, y0), (x1, y1)]\n",
    "x, y = zip(*datapoints)  # unzip datapoints, reverse would be: datapoints = zip(x, y)\n",
    "plt.plot(x, y)\n"
   ]
  },
  {
   "cell_type": "code",
   "execution_count": 63,
   "metadata": {
    "autoscroll": false,
    "ein.hycell": false,
    "ein.tags": "worksheet-0",
    "slideshow": {
     "slide_type": "-"
    }
   },
   "outputs": [
    {
     "data": {
      "application/javascript": [
       "/* Put everything inside the global mpl namespace */\n",
       "window.mpl = {};\n",
       "\n",
       "\n",
       "mpl.get_websocket_type = function() {\n",
       "    if (typeof(WebSocket) !== 'undefined') {\n",
       "        return WebSocket;\n",
       "    } else if (typeof(MozWebSocket) !== 'undefined') {\n",
       "        return MozWebSocket;\n",
       "    } else {\n",
       "        alert('Your browser does not have WebSocket support. ' +\n",
       "              'Please try Chrome, Safari or Firefox ≥ 6. ' +\n",
       "              'Firefox 4 and 5 are also supported but you ' +\n",
       "              'have to enable WebSockets in about:config.');\n",
       "    };\n",
       "}\n",
       "\n",
       "mpl.figure = function(figure_id, websocket, ondownload, parent_element) {\n",
       "    this.id = figure_id;\n",
       "\n",
       "    this.ws = websocket;\n",
       "\n",
       "    this.supports_binary = (this.ws.binaryType != undefined);\n",
       "\n",
       "    if (!this.supports_binary) {\n",
       "        var warnings = document.getElementById(\"mpl-warnings\");\n",
       "        if (warnings) {\n",
       "            warnings.style.display = 'block';\n",
       "            warnings.textContent = (\n",
       "                \"This browser does not support binary websocket messages. \" +\n",
       "                    \"Performance may be slow.\");\n",
       "        }\n",
       "    }\n",
       "\n",
       "    this.imageObj = new Image();\n",
       "\n",
       "    this.context = undefined;\n",
       "    this.message = undefined;\n",
       "    this.canvas = undefined;\n",
       "    this.rubberband_canvas = undefined;\n",
       "    this.rubberband_context = undefined;\n",
       "    this.format_dropdown = undefined;\n",
       "\n",
       "    this.image_mode = 'full';\n",
       "\n",
       "    this.root = $('<div/>');\n",
       "    this._root_extra_style(this.root)\n",
       "    this.root.attr('style', 'display: inline-block');\n",
       "\n",
       "    $(parent_element).append(this.root);\n",
       "\n",
       "    this._init_header(this);\n",
       "    this._init_canvas(this);\n",
       "    this._init_toolbar(this);\n",
       "\n",
       "    var fig = this;\n",
       "\n",
       "    this.waiting = false;\n",
       "\n",
       "    this.ws.onopen =  function () {\n",
       "            fig.send_message(\"supports_binary\", {value: fig.supports_binary});\n",
       "            fig.send_message(\"send_image_mode\", {});\n",
       "            if (mpl.ratio != 1) {\n",
       "                fig.send_message(\"set_dpi_ratio\", {'dpi_ratio': mpl.ratio});\n",
       "            }\n",
       "            fig.send_message(\"refresh\", {});\n",
       "        }\n",
       "\n",
       "    this.imageObj.onload = function() {\n",
       "            if (fig.image_mode == 'full') {\n",
       "                // Full images could contain transparency (where diff images\n",
       "                // almost always do), so we need to clear the canvas so that\n",
       "                // there is no ghosting.\n",
       "                fig.context.clearRect(0, 0, fig.canvas.width, fig.canvas.height);\n",
       "            }\n",
       "            fig.context.drawImage(fig.imageObj, 0, 0);\n",
       "        };\n",
       "\n",
       "    this.imageObj.onunload = function() {\n",
       "        fig.ws.close();\n",
       "    }\n",
       "\n",
       "    this.ws.onmessage = this._make_on_message_function(this);\n",
       "\n",
       "    this.ondownload = ondownload;\n",
       "}\n",
       "\n",
       "mpl.figure.prototype._init_header = function() {\n",
       "    var titlebar = $(\n",
       "        '<div class=\"ui-dialog-titlebar ui-widget-header ui-corner-all ' +\n",
       "        'ui-helper-clearfix\"/>');\n",
       "    var titletext = $(\n",
       "        '<div class=\"ui-dialog-title\" style=\"width: 100%; ' +\n",
       "        'text-align: center; padding: 3px;\"/>');\n",
       "    titlebar.append(titletext)\n",
       "    this.root.append(titlebar);\n",
       "    this.header = titletext[0];\n",
       "}\n",
       "\n",
       "\n",
       "\n",
       "mpl.figure.prototype._canvas_extra_style = function(canvas_div) {\n",
       "\n",
       "}\n",
       "\n",
       "\n",
       "mpl.figure.prototype._root_extra_style = function(canvas_div) {\n",
       "\n",
       "}\n",
       "\n",
       "mpl.figure.prototype._init_canvas = function() {\n",
       "    var fig = this;\n",
       "\n",
       "    var canvas_div = $('<div/>');\n",
       "\n",
       "    canvas_div.attr('style', 'position: relative; clear: both; outline: 0');\n",
       "\n",
       "    function canvas_keyboard_event(event) {\n",
       "        return fig.key_event(event, event['data']);\n",
       "    }\n",
       "\n",
       "    canvas_div.keydown('key_press', canvas_keyboard_event);\n",
       "    canvas_div.keyup('key_release', canvas_keyboard_event);\n",
       "    this.canvas_div = canvas_div\n",
       "    this._canvas_extra_style(canvas_div)\n",
       "    this.root.append(canvas_div);\n",
       "\n",
       "    var canvas = $('<canvas/>');\n",
       "    canvas.addClass('mpl-canvas');\n",
       "    canvas.attr('style', \"left: 0; top: 0; z-index: 0; outline: 0\")\n",
       "\n",
       "    this.canvas = canvas[0];\n",
       "    this.context = canvas[0].getContext(\"2d\");\n",
       "\n",
       "    var backingStore = this.context.backingStorePixelRatio ||\n",
       "\tthis.context.webkitBackingStorePixelRatio ||\n",
       "\tthis.context.mozBackingStorePixelRatio ||\n",
       "\tthis.context.msBackingStorePixelRatio ||\n",
       "\tthis.context.oBackingStorePixelRatio ||\n",
       "\tthis.context.backingStorePixelRatio || 1;\n",
       "\n",
       "    mpl.ratio = (window.devicePixelRatio || 1) / backingStore;\n",
       "\n",
       "    var rubberband = $('<canvas/>');\n",
       "    rubberband.attr('style', \"position: absolute; left: 0; top: 0; z-index: 1;\")\n",
       "\n",
       "    var pass_mouse_events = true;\n",
       "\n",
       "    canvas_div.resizable({\n",
       "        start: function(event, ui) {\n",
       "            pass_mouse_events = false;\n",
       "        },\n",
       "        resize: function(event, ui) {\n",
       "            fig.request_resize(ui.size.width, ui.size.height);\n",
       "        },\n",
       "        stop: function(event, ui) {\n",
       "            pass_mouse_events = true;\n",
       "            fig.request_resize(ui.size.width, ui.size.height);\n",
       "        },\n",
       "    });\n",
       "\n",
       "    function mouse_event_fn(event) {\n",
       "        if (pass_mouse_events)\n",
       "            return fig.mouse_event(event, event['data']);\n",
       "    }\n",
       "\n",
       "    rubberband.mousedown('button_press', mouse_event_fn);\n",
       "    rubberband.mouseup('button_release', mouse_event_fn);\n",
       "    // Throttle sequential mouse events to 1 every 20ms.\n",
       "    rubberband.mousemove('motion_notify', mouse_event_fn);\n",
       "\n",
       "    rubberband.mouseenter('figure_enter', mouse_event_fn);\n",
       "    rubberband.mouseleave('figure_leave', mouse_event_fn);\n",
       "\n",
       "    canvas_div.on(\"wheel\", function (event) {\n",
       "        event = event.originalEvent;\n",
       "        event['data'] = 'scroll'\n",
       "        if (event.deltaY < 0) {\n",
       "            event.step = 1;\n",
       "        } else {\n",
       "            event.step = -1;\n",
       "        }\n",
       "        mouse_event_fn(event);\n",
       "    });\n",
       "\n",
       "    canvas_div.append(canvas);\n",
       "    canvas_div.append(rubberband);\n",
       "\n",
       "    this.rubberband = rubberband;\n",
       "    this.rubberband_canvas = rubberband[0];\n",
       "    this.rubberband_context = rubberband[0].getContext(\"2d\");\n",
       "    this.rubberband_context.strokeStyle = \"#000000\";\n",
       "\n",
       "    this._resize_canvas = function(width, height) {\n",
       "        // Keep the size of the canvas, canvas container, and rubber band\n",
       "        // canvas in synch.\n",
       "        canvas_div.css('width', width)\n",
       "        canvas_div.css('height', height)\n",
       "\n",
       "        canvas.attr('width', width * mpl.ratio);\n",
       "        canvas.attr('height', height * mpl.ratio);\n",
       "        canvas.attr('style', 'width: ' + width + 'px; height: ' + height + 'px;');\n",
       "\n",
       "        rubberband.attr('width', width);\n",
       "        rubberband.attr('height', height);\n",
       "    }\n",
       "\n",
       "    // Set the figure to an initial 600x600px, this will subsequently be updated\n",
       "    // upon first draw.\n",
       "    this._resize_canvas(600, 600);\n",
       "\n",
       "    // Disable right mouse context menu.\n",
       "    $(this.rubberband_canvas).bind(\"contextmenu\",function(e){\n",
       "        return false;\n",
       "    });\n",
       "\n",
       "    function set_focus () {\n",
       "        canvas.focus();\n",
       "        canvas_div.focus();\n",
       "    }\n",
       "\n",
       "    window.setTimeout(set_focus, 100);\n",
       "}\n",
       "\n",
       "mpl.figure.prototype._init_toolbar = function() {\n",
       "    var fig = this;\n",
       "\n",
       "    var nav_element = $('<div/>');\n",
       "    nav_element.attr('style', 'width: 100%');\n",
       "    this.root.append(nav_element);\n",
       "\n",
       "    // Define a callback function for later on.\n",
       "    function toolbar_event(event) {\n",
       "        return fig.toolbar_button_onclick(event['data']);\n",
       "    }\n",
       "    function toolbar_mouse_event(event) {\n",
       "        return fig.toolbar_button_onmouseover(event['data']);\n",
       "    }\n",
       "\n",
       "    for(var toolbar_ind in mpl.toolbar_items) {\n",
       "        var name = mpl.toolbar_items[toolbar_ind][0];\n",
       "        var tooltip = mpl.toolbar_items[toolbar_ind][1];\n",
       "        var image = mpl.toolbar_items[toolbar_ind][2];\n",
       "        var method_name = mpl.toolbar_items[toolbar_ind][3];\n",
       "\n",
       "        if (!name) {\n",
       "            // put a spacer in here.\n",
       "            continue;\n",
       "        }\n",
       "        var button = $('<button/>');\n",
       "        button.addClass('ui-button ui-widget ui-state-default ui-corner-all ' +\n",
       "                        'ui-button-icon-only');\n",
       "        button.attr('role', 'button');\n",
       "        button.attr('aria-disabled', 'false');\n",
       "        button.click(method_name, toolbar_event);\n",
       "        button.mouseover(tooltip, toolbar_mouse_event);\n",
       "\n",
       "        var icon_img = $('<span/>');\n",
       "        icon_img.addClass('ui-button-icon-primary ui-icon');\n",
       "        icon_img.addClass(image);\n",
       "        icon_img.addClass('ui-corner-all');\n",
       "\n",
       "        var tooltip_span = $('<span/>');\n",
       "        tooltip_span.addClass('ui-button-text');\n",
       "        tooltip_span.html(tooltip);\n",
       "\n",
       "        button.append(icon_img);\n",
       "        button.append(tooltip_span);\n",
       "\n",
       "        nav_element.append(button);\n",
       "    }\n",
       "\n",
       "    var fmt_picker_span = $('<span/>');\n",
       "\n",
       "    var fmt_picker = $('<select/>');\n",
       "    fmt_picker.addClass('mpl-toolbar-option ui-widget ui-widget-content');\n",
       "    fmt_picker_span.append(fmt_picker);\n",
       "    nav_element.append(fmt_picker_span);\n",
       "    this.format_dropdown = fmt_picker[0];\n",
       "\n",
       "    for (var ind in mpl.extensions) {\n",
       "        var fmt = mpl.extensions[ind];\n",
       "        var option = $(\n",
       "            '<option/>', {selected: fmt === mpl.default_extension}).html(fmt);\n",
       "        fmt_picker.append(option);\n",
       "    }\n",
       "\n",
       "    // Add hover states to the ui-buttons\n",
       "    $( \".ui-button\" ).hover(\n",
       "        function() { $(this).addClass(\"ui-state-hover\");},\n",
       "        function() { $(this).removeClass(\"ui-state-hover\");}\n",
       "    );\n",
       "\n",
       "    var status_bar = $('<span class=\"mpl-message\"/>');\n",
       "    nav_element.append(status_bar);\n",
       "    this.message = status_bar[0];\n",
       "}\n",
       "\n",
       "mpl.figure.prototype.request_resize = function(x_pixels, y_pixels) {\n",
       "    // Request matplotlib to resize the figure. Matplotlib will then trigger a resize in the client,\n",
       "    // which will in turn request a refresh of the image.\n",
       "    this.send_message('resize', {'width': x_pixels, 'height': y_pixels});\n",
       "}\n",
       "\n",
       "mpl.figure.prototype.send_message = function(type, properties) {\n",
       "    properties['type'] = type;\n",
       "    properties['figure_id'] = this.id;\n",
       "    this.ws.send(JSON.stringify(properties));\n",
       "}\n",
       "\n",
       "mpl.figure.prototype.send_draw_message = function() {\n",
       "    if (!this.waiting) {\n",
       "        this.waiting = true;\n",
       "        this.ws.send(JSON.stringify({type: \"draw\", figure_id: this.id}));\n",
       "    }\n",
       "}\n",
       "\n",
       "\n",
       "mpl.figure.prototype.handle_save = function(fig, msg) {\n",
       "    var format_dropdown = fig.format_dropdown;\n",
       "    var format = format_dropdown.options[format_dropdown.selectedIndex].value;\n",
       "    fig.ondownload(fig, format);\n",
       "}\n",
       "\n",
       "\n",
       "mpl.figure.prototype.handle_resize = function(fig, msg) {\n",
       "    var size = msg['size'];\n",
       "    if (size[0] != fig.canvas.width || size[1] != fig.canvas.height) {\n",
       "        fig._resize_canvas(size[0], size[1]);\n",
       "        fig.send_message(\"refresh\", {});\n",
       "    };\n",
       "}\n",
       "\n",
       "mpl.figure.prototype.handle_rubberband = function(fig, msg) {\n",
       "    var x0 = msg['x0'] / mpl.ratio;\n",
       "    var y0 = (fig.canvas.height - msg['y0']) / mpl.ratio;\n",
       "    var x1 = msg['x1'] / mpl.ratio;\n",
       "    var y1 = (fig.canvas.height - msg['y1']) / mpl.ratio;\n",
       "    x0 = Math.floor(x0) + 0.5;\n",
       "    y0 = Math.floor(y0) + 0.5;\n",
       "    x1 = Math.floor(x1) + 0.5;\n",
       "    y1 = Math.floor(y1) + 0.5;\n",
       "    var min_x = Math.min(x0, x1);\n",
       "    var min_y = Math.min(y0, y1);\n",
       "    var width = Math.abs(x1 - x0);\n",
       "    var height = Math.abs(y1 - y0);\n",
       "\n",
       "    fig.rubberband_context.clearRect(\n",
       "        0, 0, fig.canvas.width, fig.canvas.height);\n",
       "\n",
       "    fig.rubberband_context.strokeRect(min_x, min_y, width, height);\n",
       "}\n",
       "\n",
       "mpl.figure.prototype.handle_figure_label = function(fig, msg) {\n",
       "    // Updates the figure title.\n",
       "    fig.header.textContent = msg['label'];\n",
       "}\n",
       "\n",
       "mpl.figure.prototype.handle_cursor = function(fig, msg) {\n",
       "    var cursor = msg['cursor'];\n",
       "    switch(cursor)\n",
       "    {\n",
       "    case 0:\n",
       "        cursor = 'pointer';\n",
       "        break;\n",
       "    case 1:\n",
       "        cursor = 'default';\n",
       "        break;\n",
       "    case 2:\n",
       "        cursor = 'crosshair';\n",
       "        break;\n",
       "    case 3:\n",
       "        cursor = 'move';\n",
       "        break;\n",
       "    }\n",
       "    fig.rubberband_canvas.style.cursor = cursor;\n",
       "}\n",
       "\n",
       "mpl.figure.prototype.handle_message = function(fig, msg) {\n",
       "    fig.message.textContent = msg['message'];\n",
       "}\n",
       "\n",
       "mpl.figure.prototype.handle_draw = function(fig, msg) {\n",
       "    // Request the server to send over a new figure.\n",
       "    fig.send_draw_message();\n",
       "}\n",
       "\n",
       "mpl.figure.prototype.handle_image_mode = function(fig, msg) {\n",
       "    fig.image_mode = msg['mode'];\n",
       "}\n",
       "\n",
       "mpl.figure.prototype.updated_canvas_event = function() {\n",
       "    // Called whenever the canvas gets updated.\n",
       "    this.send_message(\"ack\", {});\n",
       "}\n",
       "\n",
       "// A function to construct a web socket function for onmessage handling.\n",
       "// Called in the figure constructor.\n",
       "mpl.figure.prototype._make_on_message_function = function(fig) {\n",
       "    return function socket_on_message(evt) {\n",
       "        if (evt.data instanceof Blob) {\n",
       "            /* FIXME: We get \"Resource interpreted as Image but\n",
       "             * transferred with MIME type text/plain:\" errors on\n",
       "             * Chrome.  But how to set the MIME type?  It doesn't seem\n",
       "             * to be part of the websocket stream */\n",
       "            evt.data.type = \"image/png\";\n",
       "\n",
       "            /* Free the memory for the previous frames */\n",
       "            if (fig.imageObj.src) {\n",
       "                (window.URL || window.webkitURL).revokeObjectURL(\n",
       "                    fig.imageObj.src);\n",
       "            }\n",
       "\n",
       "            fig.imageObj.src = (window.URL || window.webkitURL).createObjectURL(\n",
       "                evt.data);\n",
       "            fig.updated_canvas_event();\n",
       "            fig.waiting = false;\n",
       "            return;\n",
       "        }\n",
       "        else if (typeof evt.data === 'string' && evt.data.slice(0, 21) == \"data:image/png;base64\") {\n",
       "            fig.imageObj.src = evt.data;\n",
       "            fig.updated_canvas_event();\n",
       "            fig.waiting = false;\n",
       "            return;\n",
       "        }\n",
       "\n",
       "        var msg = JSON.parse(evt.data);\n",
       "        var msg_type = msg['type'];\n",
       "\n",
       "        // Call the  \"handle_{type}\" callback, which takes\n",
       "        // the figure and JSON message as its only arguments.\n",
       "        try {\n",
       "            var callback = fig[\"handle_\" + msg_type];\n",
       "        } catch (e) {\n",
       "            console.log(\"No handler for the '\" + msg_type + \"' message type: \", msg);\n",
       "            return;\n",
       "        }\n",
       "\n",
       "        if (callback) {\n",
       "            try {\n",
       "                // console.log(\"Handling '\" + msg_type + \"' message: \", msg);\n",
       "                callback(fig, msg);\n",
       "            } catch (e) {\n",
       "                console.log(\"Exception inside the 'handler_\" + msg_type + \"' callback:\", e, e.stack, msg);\n",
       "            }\n",
       "        }\n",
       "    };\n",
       "}\n",
       "\n",
       "// from http://stackoverflow.com/questions/1114465/getting-mouse-location-in-canvas\n",
       "mpl.findpos = function(e) {\n",
       "    //this section is from http://www.quirksmode.org/js/events_properties.html\n",
       "    var targ;\n",
       "    if (!e)\n",
       "        e = window.event;\n",
       "    if (e.target)\n",
       "        targ = e.target;\n",
       "    else if (e.srcElement)\n",
       "        targ = e.srcElement;\n",
       "    if (targ.nodeType == 3) // defeat Safari bug\n",
       "        targ = targ.parentNode;\n",
       "\n",
       "    // jQuery normalizes the pageX and pageY\n",
       "    // pageX,Y are the mouse positions relative to the document\n",
       "    // offset() returns the position of the element relative to the document\n",
       "    var x = e.pageX - $(targ).offset().left;\n",
       "    var y = e.pageY - $(targ).offset().top;\n",
       "\n",
       "    return {\"x\": x, \"y\": y};\n",
       "};\n",
       "\n",
       "/*\n",
       " * return a copy of an object with only non-object keys\n",
       " * we need this to avoid circular references\n",
       " * http://stackoverflow.com/a/24161582/3208463\n",
       " */\n",
       "function simpleKeys (original) {\n",
       "  return Object.keys(original).reduce(function (obj, key) {\n",
       "    if (typeof original[key] !== 'object')\n",
       "        obj[key] = original[key]\n",
       "    return obj;\n",
       "  }, {});\n",
       "}\n",
       "\n",
       "mpl.figure.prototype.mouse_event = function(event, name) {\n",
       "    var canvas_pos = mpl.findpos(event)\n",
       "\n",
       "    if (name === 'button_press')\n",
       "    {\n",
       "        this.canvas.focus();\n",
       "        this.canvas_div.focus();\n",
       "    }\n",
       "\n",
       "    var x = canvas_pos.x * mpl.ratio;\n",
       "    var y = canvas_pos.y * mpl.ratio;\n",
       "\n",
       "    this.send_message(name, {x: x, y: y, button: event.button,\n",
       "                             step: event.step,\n",
       "                             guiEvent: simpleKeys(event)});\n",
       "\n",
       "    /* This prevents the web browser from automatically changing to\n",
       "     * the text insertion cursor when the button is pressed.  We want\n",
       "     * to control all of the cursor setting manually through the\n",
       "     * 'cursor' event from matplotlib */\n",
       "    event.preventDefault();\n",
       "    return false;\n",
       "}\n",
       "\n",
       "mpl.figure.prototype._key_event_extra = function(event, name) {\n",
       "    // Handle any extra behaviour associated with a key event\n",
       "}\n",
       "\n",
       "mpl.figure.prototype.key_event = function(event, name) {\n",
       "\n",
       "    // Prevent repeat events\n",
       "    if (name == 'key_press')\n",
       "    {\n",
       "        if (event.which === this._key)\n",
       "            return;\n",
       "        else\n",
       "            this._key = event.which;\n",
       "    }\n",
       "    if (name == 'key_release')\n",
       "        this._key = null;\n",
       "\n",
       "    var value = '';\n",
       "    if (event.ctrlKey && event.which != 17)\n",
       "        value += \"ctrl+\";\n",
       "    if (event.altKey && event.which != 18)\n",
       "        value += \"alt+\";\n",
       "    if (event.shiftKey && event.which != 16)\n",
       "        value += \"shift+\";\n",
       "\n",
       "    value += 'k';\n",
       "    value += event.which.toString();\n",
       "\n",
       "    this._key_event_extra(event, name);\n",
       "\n",
       "    this.send_message(name, {key: value,\n",
       "                             guiEvent: simpleKeys(event)});\n",
       "    return false;\n",
       "}\n",
       "\n",
       "mpl.figure.prototype.toolbar_button_onclick = function(name) {\n",
       "    if (name == 'download') {\n",
       "        this.handle_save(this, null);\n",
       "    } else {\n",
       "        this.send_message(\"toolbar_button\", {name: name});\n",
       "    }\n",
       "};\n",
       "\n",
       "mpl.figure.prototype.toolbar_button_onmouseover = function(tooltip) {\n",
       "    this.message.textContent = tooltip;\n",
       "};\n",
       "mpl.toolbar_items = [[\"Home\", \"Reset original view\", \"fa fa-home icon-home\", \"home\"], [\"Back\", \"Back to previous view\", \"fa fa-arrow-left icon-arrow-left\", \"back\"], [\"Forward\", \"Forward to next view\", \"fa fa-arrow-right icon-arrow-right\", \"forward\"], [\"\", \"\", \"\", \"\"], [\"Pan\", \"Pan axes with left mouse, zoom with right\", \"fa fa-arrows icon-move\", \"pan\"], [\"Zoom\", \"Zoom to rectangle\", \"fa fa-square-o icon-check-empty\", \"zoom\"], [\"\", \"\", \"\", \"\"], [\"Download\", \"Download plot\", \"fa fa-floppy-o icon-save\", \"download\"]];\n",
       "\n",
       "mpl.extensions = [\"eps\", \"jpeg\", \"pdf\", \"png\", \"ps\", \"raw\", \"svg\", \"tif\"];\n",
       "\n",
       "mpl.default_extension = \"png\";var comm_websocket_adapter = function(comm) {\n",
       "    // Create a \"websocket\"-like object which calls the given IPython comm\n",
       "    // object with the appropriate methods. Currently this is a non binary\n",
       "    // socket, so there is still some room for performance tuning.\n",
       "    var ws = {};\n",
       "\n",
       "    ws.close = function() {\n",
       "        comm.close()\n",
       "    };\n",
       "    ws.send = function(m) {\n",
       "        //console.log('sending', m);\n",
       "        comm.send(m);\n",
       "    };\n",
       "    // Register the callback with on_msg.\n",
       "    comm.on_msg(function(msg) {\n",
       "        //console.log('receiving', msg['content']['data'], msg);\n",
       "        // Pass the mpl event to the overridden (by mpl) onmessage function.\n",
       "        ws.onmessage(msg['content']['data'])\n",
       "    });\n",
       "    return ws;\n",
       "}\n",
       "\n",
       "mpl.mpl_figure_comm = function(comm, msg) {\n",
       "    // This is the function which gets called when the mpl process\n",
       "    // starts-up an IPython Comm through the \"matplotlib\" channel.\n",
       "\n",
       "    var id = msg.content.data.id;\n",
       "    // Get hold of the div created by the display call when the Comm\n",
       "    // socket was opened in Python.\n",
       "    var element = $(\"#\" + id);\n",
       "    var ws_proxy = comm_websocket_adapter(comm)\n",
       "\n",
       "    function ondownload(figure, format) {\n",
       "        window.open(figure.imageObj.src);\n",
       "    }\n",
       "\n",
       "    var fig = new mpl.figure(id, ws_proxy,\n",
       "                           ondownload,\n",
       "                           element.get(0));\n",
       "\n",
       "    // Call onopen now - mpl needs it, as it is assuming we've passed it a real\n",
       "    // web socket which is closed, not our websocket->open comm proxy.\n",
       "    ws_proxy.onopen();\n",
       "\n",
       "    fig.parent_element = element.get(0);\n",
       "    fig.cell_info = mpl.find_output_cell(\"<div id='\" + id + \"'></div>\");\n",
       "    if (!fig.cell_info) {\n",
       "        console.error(\"Failed to find cell for figure\", id, fig);\n",
       "        return;\n",
       "    }\n",
       "\n",
       "    var output_index = fig.cell_info[2]\n",
       "    var cell = fig.cell_info[0];\n",
       "\n",
       "};\n",
       "\n",
       "mpl.figure.prototype.handle_close = function(fig, msg) {\n",
       "    var width = fig.canvas.width/mpl.ratio\n",
       "    fig.root.unbind('remove')\n",
       "\n",
       "    // Update the output cell to use the data from the current canvas.\n",
       "    fig.push_to_output();\n",
       "    var dataURL = fig.canvas.toDataURL();\n",
       "    // Re-enable the keyboard manager in IPython - without this line, in FF,\n",
       "    // the notebook keyboard shortcuts fail.\n",
       "    IPython.keyboard_manager.enable()\n",
       "    $(fig.parent_element).html('<img src=\"' + dataURL + '\" width=\"' + width + '\">');\n",
       "    fig.close_ws(fig, msg);\n",
       "}\n",
       "\n",
       "mpl.figure.prototype.close_ws = function(fig, msg){\n",
       "    fig.send_message('closing', msg);\n",
       "    // fig.ws.close()\n",
       "}\n",
       "\n",
       "mpl.figure.prototype.push_to_output = function(remove_interactive) {\n",
       "    // Turn the data on the canvas into data in the output cell.\n",
       "    var width = this.canvas.width/mpl.ratio\n",
       "    var dataURL = this.canvas.toDataURL();\n",
       "    this.cell_info[1]['text/html'] = '<img src=\"' + dataURL + '\" width=\"' + width + '\">';\n",
       "}\n",
       "\n",
       "mpl.figure.prototype.updated_canvas_event = function() {\n",
       "    // Tell IPython that the notebook contents must change.\n",
       "    IPython.notebook.set_dirty(true);\n",
       "    this.send_message(\"ack\", {});\n",
       "    var fig = this;\n",
       "    // Wait a second, then push the new image to the DOM so\n",
       "    // that it is saved nicely (might be nice to debounce this).\n",
       "    setTimeout(function () { fig.push_to_output() }, 1000);\n",
       "}\n",
       "\n",
       "mpl.figure.prototype._init_toolbar = function() {\n",
       "    var fig = this;\n",
       "\n",
       "    var nav_element = $('<div/>');\n",
       "    nav_element.attr('style', 'width: 100%');\n",
       "    this.root.append(nav_element);\n",
       "\n",
       "    // Define a callback function for later on.\n",
       "    function toolbar_event(event) {\n",
       "        return fig.toolbar_button_onclick(event['data']);\n",
       "    }\n",
       "    function toolbar_mouse_event(event) {\n",
       "        return fig.toolbar_button_onmouseover(event['data']);\n",
       "    }\n",
       "\n",
       "    for(var toolbar_ind in mpl.toolbar_items){\n",
       "        var name = mpl.toolbar_items[toolbar_ind][0];\n",
       "        var tooltip = mpl.toolbar_items[toolbar_ind][1];\n",
       "        var image = mpl.toolbar_items[toolbar_ind][2];\n",
       "        var method_name = mpl.toolbar_items[toolbar_ind][3];\n",
       "\n",
       "        if (!name) { continue; };\n",
       "\n",
       "        var button = $('<button class=\"btn btn-default\" href=\"#\" title=\"' + name + '\"><i class=\"fa ' + image + ' fa-lg\"></i></button>');\n",
       "        button.click(method_name, toolbar_event);\n",
       "        button.mouseover(tooltip, toolbar_mouse_event);\n",
       "        nav_element.append(button);\n",
       "    }\n",
       "\n",
       "    // Add the status bar.\n",
       "    var status_bar = $('<span class=\"mpl-message\" style=\"text-align:right; float: right;\"/>');\n",
       "    nav_element.append(status_bar);\n",
       "    this.message = status_bar[0];\n",
       "\n",
       "    // Add the close button to the window.\n",
       "    var buttongrp = $('<div class=\"btn-group inline pull-right\"></div>');\n",
       "    var button = $('<button class=\"btn btn-mini btn-primary\" href=\"#\" title=\"Stop Interaction\"><i class=\"fa fa-power-off icon-remove icon-large\"></i></button>');\n",
       "    button.click(function (evt) { fig.handle_close(fig, {}); } );\n",
       "    button.mouseover('Stop Interaction', toolbar_mouse_event);\n",
       "    buttongrp.append(button);\n",
       "    var titlebar = this.root.find($('.ui-dialog-titlebar'));\n",
       "    titlebar.prepend(buttongrp);\n",
       "}\n",
       "\n",
       "mpl.figure.prototype._root_extra_style = function(el){\n",
       "    var fig = this\n",
       "    el.on(\"remove\", function(){\n",
       "\tfig.close_ws(fig, {});\n",
       "    });\n",
       "}\n",
       "\n",
       "mpl.figure.prototype._canvas_extra_style = function(el){\n",
       "    // this is important to make the div 'focusable\n",
       "    el.attr('tabindex', 0)\n",
       "    // reach out to IPython and tell the keyboard manager to turn it's self\n",
       "    // off when our div gets focus\n",
       "\n",
       "    // location in version 3\n",
       "    if (IPython.notebook.keyboard_manager) {\n",
       "        IPython.notebook.keyboard_manager.register_events(el);\n",
       "    }\n",
       "    else {\n",
       "        // location in version 2\n",
       "        IPython.keyboard_manager.register_events(el);\n",
       "    }\n",
       "\n",
       "}\n",
       "\n",
       "mpl.figure.prototype._key_event_extra = function(event, name) {\n",
       "    var manager = IPython.notebook.keyboard_manager;\n",
       "    if (!manager)\n",
       "        manager = IPython.keyboard_manager;\n",
       "\n",
       "    // Check for shift+enter\n",
       "    if (event.shiftKey && event.which == 13) {\n",
       "        this.canvas_div.blur();\n",
       "        event.shiftKey = false;\n",
       "        // Send a \"J\" for go to next cell\n",
       "        event.which = 74;\n",
       "        event.keyCode = 74;\n",
       "        manager.command_mode();\n",
       "        manager.handle_keydown(event);\n",
       "    }\n",
       "}\n",
       "\n",
       "mpl.figure.prototype.handle_save = function(fig, msg) {\n",
       "    fig.ondownload(fig, null);\n",
       "}\n",
       "\n",
       "\n",
       "mpl.find_output_cell = function(html_output) {\n",
       "    // Return the cell and output element which can be found *uniquely* in the notebook.\n",
       "    // Note - this is a bit hacky, but it is done because the \"notebook_saving.Notebook\"\n",
       "    // IPython event is triggered only after the cells have been serialised, which for\n",
       "    // our purposes (turning an active figure into a static one), is too late.\n",
       "    var cells = IPython.notebook.get_cells();\n",
       "    var ncells = cells.length;\n",
       "    for (var i=0; i<ncells; i++) {\n",
       "        var cell = cells[i];\n",
       "        if (cell.cell_type === 'code'){\n",
       "            for (var j=0; j<cell.output_area.outputs.length; j++) {\n",
       "                var data = cell.output_area.outputs[j];\n",
       "                if (data.data) {\n",
       "                    // IPython >= 3 moved mimebundle to data attribute of output\n",
       "                    data = data.data;\n",
       "                }\n",
       "                if (data['text/html'] == html_output) {\n",
       "                    return [cell, data, j];\n",
       "                }\n",
       "            }\n",
       "        }\n",
       "    }\n",
       "}\n",
       "\n",
       "// Register the function which deals with the matplotlib target/channel.\n",
       "// The kernel may be null if the page has been refreshed.\n",
       "if (IPython.notebook.kernel != null) {\n",
       "    IPython.notebook.kernel.comm_manager.register_target('matplotlib', mpl.mpl_figure_comm);\n",
       "}\n"
      ],
      "text/plain": [
       "<IPython.core.display.Javascript object>"
      ]
     },
     "metadata": {},
     "output_type": "display_data"
    },
    {
     "data": {
      "text/html": [
       "<img src=\"data:image/png;base64,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\" width=\"640\">"
      ],
      "text/plain": [
       "<IPython.core.display.HTML object>"
      ]
     },
     "metadata": {},
     "output_type": "display_data"
    }
   ],
   "source": [
    "# Sine and cosine on two plots side by side\n",
    "\n",
    "fig, axs = plt.subplots(1, 2, sharey=True)\n",
    "x = np.linspace(0, 2 * np.pi, 100)\n",
    "axs[0].plot(x, np.cos(x), label='cos')\n",
    "axs[1].plot(x, np.sin(x), label='sin')\n",
    "for ax in axs:\n",
    "    ax.legend()\n",
    "plt.show()"
   ]
  },
  {
   "cell_type": "code",
   "execution_count": 58,
   "metadata": {
    "autoscroll": false,
    "ein.hycell": false,
    "ein.tags": "worksheet-0",
    "slideshow": {
     "slide_type": "-"
    }
   },
   "outputs": [
    {
     "name": "stdout",
     "output_type": "stream",
     "text": [
      "Help on function subplots in module matplotlib.pyplot:\n",
      "\n",
      "subplots(nrows=1, ncols=1, sharex=False, sharey=False, squeeze=True, subplot_kw=None, gridspec_kw=None, **fig_kw)\n",
      "    Create a figure and a set of subplots.\n",
      "    \n",
      "    This utility wrapper makes it convenient to create common layouts of\n",
      "    subplots, including the enclosing figure object, in a single call.\n",
      "    \n",
      "    Parameters\n",
      "    ----------\n",
      "    nrows, ncols : int, optional, default: 1\n",
      "        Number of rows/columns of the subplot grid.\n",
      "    \n",
      "    sharex, sharey : bool or {'none', 'all', 'row', 'col'}, default: False\n",
      "        Controls sharing of properties among x (`sharex`) or y (`sharey`)\n",
      "        axes:\n",
      "    \n",
      "            - True or 'all': x- or y-axis will be shared among all\n",
      "              subplots.\n",
      "            - False or 'none': each subplot x- or y-axis will be\n",
      "              independent.\n",
      "            - 'row': each subplot row will share an x- or y-axis.\n",
      "            - 'col': each subplot column will share an x- or y-axis.\n",
      "    \n",
      "        When subplots have a shared x-axis along a column, only the x tick\n",
      "        labels of the bottom subplot are created. Similarly, when subplots\n",
      "        have a shared y-axis along a row, only the y tick labels of the first\n",
      "        column subplot are created. To later turn other subplots' ticklabels\n",
      "        on, use `~matplotlib.axes.Axes.tick_params`.\n",
      "    \n",
      "    squeeze : bool, optional, default: True\n",
      "        - If True, extra dimensions are squeezed out from the returned\n",
      "          array of `~matplotlib.axes.Axes`:\n",
      "    \n",
      "            - if only one subplot is constructed (nrows=ncols=1), the\n",
      "              resulting single Axes object is returned as a scalar.\n",
      "            - for Nx1 or 1xM subplots, the returned object is a 1D numpy\n",
      "              object array of Axes objects.\n",
      "            - for NxM, subplots with N>1 and M>1 are returned as a 2D array.\n",
      "    \n",
      "        - If False, no squeezing at all is done: the returned Axes object is\n",
      "          always a 2D array containing Axes instances, even if it ends up\n",
      "          being 1x1.\n",
      "    \n",
      "    num : integer or string, optional, default: None\n",
      "        A `.pyplot.figure` keyword that sets the figure number or label.\n",
      "    \n",
      "    subplot_kw : dict, optional\n",
      "        Dict with keywords passed to the\n",
      "        `~matplotlib.figure.Figure.add_subplot` call used to create each\n",
      "        subplot.\n",
      "    \n",
      "    gridspec_kw : dict, optional\n",
      "        Dict with keywords passed to the `~matplotlib.gridspec.GridSpec`\n",
      "        constructor used to create the grid the subplots are placed on.\n",
      "    \n",
      "    **fig_kw\n",
      "        All additional keyword arguments are passed to the\n",
      "        `.pyplot.figure` call.\n",
      "    \n",
      "    Returns\n",
      "    -------\n",
      "    fig : `~.figure.Figure`\n",
      "    \n",
      "    ax : `.axes.Axes` object or array of Axes objects.\n",
      "        *ax* can be either a single `~matplotlib.axes.Axes` object or an\n",
      "        array of Axes objects if more than one subplot was created.  The\n",
      "        dimensions of the resulting array can be controlled with the squeeze\n",
      "        keyword, see above.\n",
      "    \n",
      "    Examples\n",
      "    --------\n",
      "    ::\n",
      "    \n",
      "        # First create some toy data:\n",
      "        x = np.linspace(0, 2*np.pi, 400)\n",
      "        y = np.sin(x**2)\n",
      "    \n",
      "        # Creates just a figure and only one subplot\n",
      "        fig, ax = plt.subplots()\n",
      "        ax.plot(x, y)\n",
      "        ax.set_title('Simple plot')\n",
      "    \n",
      "        # Creates two subplots and unpacks the output array immediately\n",
      "        f, (ax1, ax2) = plt.subplots(1, 2, sharey=True)\n",
      "        ax1.plot(x, y)\n",
      "        ax1.set_title('Sharing Y axis')\n",
      "        ax2.scatter(x, y)\n",
      "    \n",
      "        # Creates four polar axes, and accesses them through the returned array\n",
      "        fig, axes = plt.subplots(2, 2, subplot_kw=dict(polar=True))\n",
      "        axes[0, 0].plot(x, y)\n",
      "        axes[1, 1].scatter(x, y)\n",
      "    \n",
      "        # Share a X axis with each column of subplots\n",
      "        plt.subplots(2, 2, sharex='col')\n",
      "    \n",
      "        # Share a Y axis with each row of subplots\n",
      "        plt.subplots(2, 2, sharey='row')\n",
      "    \n",
      "        # Share both X and Y axes with all subplots\n",
      "        plt.subplots(2, 2, sharex='all', sharey='all')\n",
      "    \n",
      "        # Note that this is the same as\n",
      "        plt.subplots(2, 2, sharex=True, sharey=True)\n",
      "    \n",
      "        # Creates figure number 10 with a single subplot\n",
      "        # and clears it if it already exists.\n",
      "        fig, ax=plt.subplots(num=10, clear=True)\n",
      "    \n",
      "    See Also\n",
      "    --------\n",
      "    .pyplot.figure\n",
      "    .pyplot.subplot\n",
      "    .pyplot.axes\n",
      "    .Figure.subplots\n",
      "    .Figure.add_subplot\n",
      "\n"
     ]
    }
   ],
   "source": [
    "help(plt.subplots)"
   ]
  },
  {
   "cell_type": "code",
   "execution_count": null,
   "metadata": {},
   "outputs": [],
   "source": []
  }
 ],
 "metadata": {
  "kernelspec": {
   "display_name": "Python 3",
   "language": "python",
   "name": "python3"
  },
  "language_info": {
   "codemirror_mode": {
    "name": "ipython",
    "version": 3
   },
   "file_extension": ".py",
   "mimetype": "text/x-python",
   "name": "python",
   "nbconvert_exporter": "python",
   "pygments_lexer": "ipython3",
   "version": "3.7.3"
  },
  "name": "python-intro.master.ipynb"
 },
 "nbformat": 4,
 "nbformat_minor": 2
}
