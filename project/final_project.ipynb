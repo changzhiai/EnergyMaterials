{
 "cells": [
  {
   "cell_type": "markdown",
   "metadata": {
    "ein.tags": "worksheet-0",
    "slideshow": {
     "slide_type": "-"
    }
   },
   "source": [
    "# High-throughput Screening for Novel Photoferroic Perovskites\n",
    "\n",
    "\n",
    "In this year's final project for the course we address the problem of discovering novel perovskites materials that combine ferroelectricity with good light harvesting properties (photoferroics). A solar cell based on a photoferroic material can achieve efficiencies well beyond the limit determined by the Schockley-Queisser model because of a different mechanism for the generation of the photovoltage. More information on this as well as the criteria required by this technology can be found in a recent work (https://iopscience.iop.org/article/10.1088/2515-7655/ab428c).\n",
    "\n",
    "In this project, we establish a screening procedure to identify perovskite materials with the formula A2A’B2X7, where A = Li, Na, and K; A’ = Mg, Ca, Sr, and Ba; B = Ta and Nb; and X = O, S, and Se. This procedure can be split in different steps, for each material:\n",
    "\n",
    "1) relax 5 different prototypes (available from the `prototypes` folder) with PBEsol;\n",
    "\n",
    "2) compare the total energies of the relaxations in (1) and if the gap of the ground state (GS) structure is larger than zero, perform a more strict relaxation for the GS;\n",
    "\n",
    "3) calculate band gap and absorption spectrum of the GS, with a more accurate exchange-correlation functional (GLLB-SC);\n",
    "\n",
    "4) calculate the polarization for the GS;\n",
    "\n",
    "5) select materials based on the descriptors: convex hull < 0.1 eV/atom; 1 < band gap < 2.5 eV; polarization.\n",
    "\n",
    "Remember that to submit the calculations to the gbar, you have to run the cell with the `%%writefile script.py` command as the first line in the cell to write `script.py` as a file on the cluster (you can also write the script directly on the cluster by using an editor in the terminal). Then you submit the calculation using the `!qsub.py -t T -p NPROC script.py` command in a cell (or in the terminal directly if you remove the exclamation mark `!`. For reference see: ase-gpaw.ipynb#Submitting-calculations \n",
    "\n",
    "### Note: please keep the name of the files as indicated. It will make our life much easier when we will write a paper about this screening project."
   ]
  },
  {
   "cell_type": "markdown",
   "metadata": {
    "ein.tags": "worksheet-0",
    "slideshow": {
     "slide_type": "-"
    }
   },
   "source": [
    "### 1) Relaxation\n",
    "You can find 5 prototypes in the folder `prototypes` (space groups Pnma, CmCm, Cmc21, P42mnm, and I4mmm; some are centrosymmetric and some are not).\n",
    "\n",
    "You need to decorate, i.e. replace the chemical elements, to investigate the structures given to you. For example, the cif files now describes a structure with formula Li2SrNb2O7, but you have to calculate K2CaTa2O7, you have to replace Li→K, Sr→Ca, …\n",
    "To cover the full space of investigation, we divide the materials to calculate as follow:\n",
    "\t    \n",
    "    Smobin Vincent: A' = Ca, X = O, all A (Li, Na, K), all B (Ta, Nb)\n",
    "    Asnake Sahle: A' = Sr, X = O, all A, all B\n",
    "    Fangyuan Diao: A' = Ba, X = O, all A, all B\n",
    "    Seokhyun Choung: A' = Mg, X = S, all A, all B\n",
    "    Ali Hassan: A' = Ca, X = S, all A, all B\n",
    "    Laura Friedeheim: A' = Sr, X = S, all A, all B\n",
    "    Wei Huang: A' = Ba, X = S, all A, all B\n",
    "    Nicola Mazzanti: A' = Mg, X = Se, all A, all B\n",
    "    Meng Shi: A' = Ca, X = Se, all A, all B\n",
    "    Jiahuan Tong: A' = Sr, X = Se, all A, all B\n",
    "    Stefan Pollock: A' = Ca, X = Se, all A, all B\n",
    "    if someone is missing from the list above, please run: A' = Mg, X = O, all A, all B\n",
    "\n",
    "You run a relaxation for each structure with the following script:"
   ]
  },
  {
   "cell_type": "code",
   "execution_count": null,
   "metadata": {
    "autoscroll": false,
    "collapsed": false,
    "ein.hycell": false,
    "ein.tags": "worksheet-0",
    "slideshow": {
     "slide_type": "-"
    }
   },
   "outputs": [],
   "source": [
    "import os,sys,re\n",
    "\n",
    "from ase.io import read, write\n",
    "from ase.constraints import UnitCellFilter\n",
    "from ase.optimize.bfgslinesearch import BFGSLineSearch\n",
    "from ase.visualize import view\n",
    "from gpaw import GPAW, PW, FermiDirac\n",
    "from gpaw import Mixer\n",
    "\n",
    "# read the prototype and decorate it with the desired elements \n",
    "atoms = read('xxx') # where xxx is the structure/prototype\n",
    "formula = \"\"\n",
    "prototype = \"\"\n",
    "\n",
    "# The unit cell size will change after substitution of elements. A\n",
    "# crude estimate of the new cell size could be the old cell times the\n",
    "# ratio between new and old atomic radii. Something like the following\n",
    "# could work:\n",
    "# new_cell = atoms.cell * (final_radii / init_radii) ** (1/3)\n",
    "# atoms.set_cell(new_cell, scale_atoms=True)\n",
    "# covalent radii can be found in ase.data i.e.\n",
    "# from ase.data import covalent_radii\n",
    "\n",
    "# Substiting elements to get the correct formula with something like:\n",
    "# atoms.symbols[[a.index for a in atoms if a.symbol == 'Li']] = 'x'\n",
    "\n",
    "\n",
    "# now perform the relaxation\n",
    "name = 'relax_'+formula+'-'+prototype\n",
    "\n",
    "# setup the calculator\n",
    "calc_gpaw = GPAW(mode=PW(550),\n",
    "                 xc='PBEsol',\n",
    "                 txt='{0}.txt'.format(name),\n",
    "#                     eigensolver='cg',\n",
    "                 mixer=Mixer(beta=0.05, nmaxold=5, weight=50.0),\n",
    "                 kpts={'density': 2.5, 'gamma': False},\n",
    "                 occupations=FermiDirac(width=0.05))\n",
    "\n",
    "atoms.set_calculator(calc_gpaw)\n",
    "# relaxation using a mask\n",
    "sf = UnitCellFilter(atoms,mask=[1,1,1,0,0,0])\n",
    "opt = BFGSLineSearch(sf,trajectory ='{0}.traj'.format(name), logfile = '{0}.log'.format(name), restart = '{0}.pckl'.format(name))\n",
    "opt.run(fmax=0.1) # until forces < 0.1 eV/atom\n",
    "calc_gpaw.write('{0}.gpw'.format(name))\n",
    "\n"
   ]
  },
  {
   "cell_type": "markdown",
   "metadata": {
    "ein.tags": "worksheet-0",
    "slideshow": {
     "slide_type": "-"
    }
   },
   "source": [
    "### 2) Find ground state, band gap, and more strict relaxation\n",
    "\n",
    "Once that all the prototypes for a given composition are relaxed, you need to find **the most stable prototype for that composition, we term this** the ground state (GS). You need then to calculate the band gap for the GS, which can be done with:"
   ]
  },
  {
   "cell_type": "code",
   "execution_count": null,
   "metadata": {
    "autoscroll": false,
    "collapsed": false,
    "ein.hycell": false,
    "ein.tags": "worksheet-0",
    "slideshow": {
     "slide_type": "-"
    }
   },
   "outputs": [],
   "source": [
    "from gpaw import *\n",
    "from ase.dft import bandgap\n",
    "\n",
    "atoms, calc = restart('relax_'+formula+'-'+prototype+'.gpw',txt=None)\n",
    "gap, p1, p2 = bandgap.bandgap(calc)"
   ]
  },
  {
   "cell_type": "markdown",
   "metadata": {
    "ein.tags": "worksheet-0",
    "slideshow": {
     "slide_type": "-"
    }
   },
   "source": [
    "If the GS has a band gap > 0, then you perform a more strict relaxation with a script similar to the one for the relaxation above, but with these modifications:"
   ]
  },
  {
   "cell_type": "code",
   "execution_count": null,
   "metadata": {
    "autoscroll": false,
    "collapsed": false,
    "ein.hycell": false,
    "ein.tags": "worksheet-0",
    "slideshow": {
     "slide_type": "-"
    }
   },
   "outputs": [],
   "source": [
    "name = 'strict-relax_'+formula+'-'+prototype\n",
    "opt.run(fmax=0.05)"
   ]
  },
  {
   "cell_type": "markdown",
   "metadata": {
    "ein.tags": "worksheet-0",
    "slideshow": {
     "slide_type": "-"
    }
   },
   "source": [
    "### 3) Band gap and absorption spectrum with GLLBSC\n",
    "\n",
    "With a thoroughly relaxed GS we need to determine the band gap accurately with the GLLB-SC that are known to yield accurate band gaps. You can find more details about the functional used here: https://journals.aps.org/prb/abstract/10.1103/PhysRevB.82.115106 and https://pubs.rsc.org/en/content/articlelanding/2012/ee/c1ee02717d#!divAbstract\n"
   ]
  },
  {
   "cell_type": "code",
   "execution_count": null,
   "metadata": {
    "autoscroll": false,
    "collapsed": false,
    "ein.hycell": false,
    "ein.tags": "worksheet-0",
    "slideshow": {
     "slide_type": "-"
    }
   },
   "outputs": [],
   "source": [
    "name = 'gllbsc_'+formula+'-'+prototype\n",
    "\n",
    "# no magnetic implemented\n",
    "if atoms.get_initial_magnetic_moments().any():\n",
    "    exit()\n",
    "\n",
    "calc_gllbsc = GPAW(mode=PW(550),\n",
    "                   xc='GLLBSC',\n",
    "                   txt= '{0}.txt'.format(name),\n",
    "                   nbands=int(ne/2+30),\n",
    "                   convergence={'bands':-20},\n",
    "                   maxiter = 2500,\n",
    "                   kpts={'density': 4, 'gamma': True},\n",
    "                   mixer=Mixer(beta=0.05, nmaxold=5, weight=50.0),\n",
    "                   occupations=FermiDirac(width=0.05))\n",
    "atoms.set_calculator(calc_gllbsc)\n",
    "atoms.get_potential_energy()\n",
    "response = atoms.calc.hamiltonian.xc.xcs['RESPONSE']\n",
    "response.calculate_delta_xc()\n",
    "Eks, deltaxc = response.calculate_delta_xc_perturbation()\n",
    "atoms.calc.write(name+'.gpw','all')\n",
    "o = open(name+'_dxc.txt','w')\n",
    "o.write(str(deltaxc))\n",
    "o.close()"
   ]
  },
  {
   "cell_type": "markdown",
   "metadata": {
    "ein.tags": "worksheet-0",
    "slideshow": {
     "slide_type": "-"
    }
   },
   "source": [
    "where `ne` is the number of electrons that you can extract from the PBEsol calculator with:"
   ]
  },
  {
   "cell_type": "code",
   "execution_count": null,
   "metadata": {
    "autoscroll": false,
    "collapsed": false,
    "ein.hycell": false,
    "ein.tags": "worksheet-0",
    "slideshow": {
     "slide_type": "-"
    }
   },
   "outputs": [],
   "source": [
    "calc_gpaw = GPAW(name+'.gpw', txt=None)\n",
    "atoms = calc_gpaw.get_atoms()\n",
    "ne = calc_gpaw.get_number_of_electrons()"
   ]
  },
  {
   "cell_type": "markdown",
   "metadata": {
    "ein.tags": "worksheet-0",
    "slideshow": {
     "slide_type": "-"
    }
   },
   "source": [
    "Very importantly, the derivative discontinuity is saved in a txt file. Why is the derivative discontinuity important for the calculation of the electronic properties?\n",
    "\n",
    "Once that you have calculated the band gap and the derivative discontinuity, you can calculate the full absorption spectrum. This can be done with the script:"
   ]
  },
  {
   "cell_type": "code",
   "execution_count": null,
   "metadata": {
    "autoscroll": false,
    "collapsed": false,
    "ein.hycell": false,
    "ein.tags": "worksheet-0",
    "slideshow": {
     "slide_type": "-"
    }
   },
   "outputs": [],
   "source": [
    "name = 'gllbsc_'+formula+'-'+prototype\n",
    "\n",
    "ecut = 50\n",
    "df = DielectricFunction(calc=name+'.gpw',\n",
    "                        frequencies=np.linspace(0, 5, 501),\n",
    "                        hilbert=False,\n",
    "                        nblocks=ncores,\n",
    "                        eta=0.05,\n",
    "                        eshift=deltaxc,\n",
    "                        ecut=ecut,\n",
    "                        txt='gllbsc_'+formula+'-'+prototype+'_abs-spectrum.txt'\n",
    "                        )\n",
    "df.get_dielectric_function(direction='x', filename=name+'df_x.csv')\n",
    "df.get_dielectric_function(direction='y', filename=name+'df_y.csv')\n",
    "df.get_dielectric_function(direction='z', filename=name+'df_z.csv')"
   ]
  },
  {
   "cell_type": "markdown",
   "metadata": {
    "ein.tags": "worksheet-0",
    "slideshow": {
     "slide_type": "-"
    }
   },
   "source": [
    "where ncores is the number of cpus per node and deltaxc is the derivative discontinuity that you can read from the file generated in point 3 (name+'_dxc.txt').\n",
    "\n",
    "The adsorption spectum for the three directions (x,y,z) is saved in the csv files. As described here https://wiki.fysik.dtu.dk/gpaw/tutorials/dielectric_response/dielectric_response.html, you need to plot the first and third column (Im(epsilon) vs Omega).\n",
    "\n",
    "Is the band gap a good desscriptor for the efficiency of this material? \n",
    "\n",
    "You can read more about the absorption spectrum calcultions for light harvesting materials here https://pubs.rsc.org/en/content/articlelanding/2014/TA/C5TA01586C#!divAbstract."
   ]
  },
  {
   "cell_type": "markdown",
   "metadata": {
    "ein.tags": "worksheet-0",
    "slideshow": {
     "slide_type": "-"
    }
   },
   "source": [
    "### 4) Polarization  \n",
    "##### (you can run this at the same time as point 3, as the input structure is the strict_relax geometry)\n",
    "\n",
    "At the same time as we calculate the electronic properties, we need to address the question whether the material is ferroelectric or not. This can be done with the following calculator:"
   ]
  },
  {
   "cell_type": "code",
   "execution_count": null,
   "metadata": {
    "autoscroll": false,
    "collapsed": false,
    "ein.hycell": false,
    "ein.tags": "worksheet-0",
    "slideshow": {
     "slide_type": "-"
    }
   },
   "outputs": [],
   "source": [
    "from gpaw.berryphase import get_polarization_phase\n",
    "from ase.units import _e\n",
    "\n",
    "name = 'strict_relax_'+formula+'-'+prototype\n",
    "calc_gpaw = GPAW(name+'.gpw', txt=None)\n",
    "atoms = calc_gpaw.get_atoms()\n",
    "\n",
    "phi_c = get_polarization_phase(name+'.gpw')\n",
    "cell_v = np.diag(atoms.get_cell()) * 1.0e-10\n",
    "V = np.prod(cell_v)\n",
    "P_v = (phi_c / (2 * np.pi) % 1) * cell_v * _e / V\n",
    "P0_v = cell_v * _e / V\n",
    "\n",
    "o = open(name+'_polarization.txt','w')\n",
    "o.write(str(P_v)+' '+str(P0_v))\n",
    "o.close()"
   ]
  },
  {
   "cell_type": "markdown",
   "metadata": {
    "ein.tags": "worksheet-0",
    "slideshow": {
     "slide_type": "-"
    }
   },
   "source": [
    "The txt file includes 2 arrays, the first gives the polarization and the second represent the n-quantum (explanation follows). The polarization within the Berry phase approximation used here, is defined modulus a quantum. This means that the resulting polarization (we are interested in the z-direction) is defined as $P_{net} = P-n*quantum$, where $n$ is an largest integer number that will give you a positive net polarization $P_{net}$. As an example, if the polarization $P = 2.5$ and the $quantum = 1$, the net polarization $P_{net}$ is 0.5, i.e. $P_{net}=2.5-n*1$, because n will be 2. Is the GS material ferroelectric?"
   ]
  },
  {
   "cell_type": "markdown",
   "metadata": {
    "ein.tags": "worksheet-0",
    "slideshow": {
     "slide_type": "-"
    }
   },
   "source": [
    "### Convex hull stability\n",
    "\n",
    "Is the candidate material stable? To address this point, you have to calculate the phase diagram (convex hull) following this example: https://wiki.fysik.dtu.dk/ase/ase/phasediagram/phasediagram.html\n",
    "\n",
    "The pool of reference systems has already been calculated and available at `references_pbesol.db`"
   ]
  },
  {
   "cell_type": "code",
   "execution_count": null,
   "metadata": {
    "autoscroll": false,
    "collapsed": false,
    "ein.hycell": false,
    "ein.tags": "worksheet-0",
    "slideshow": {
     "slide_type": "-"
    }
   },
   "outputs": [],
   "source": [
    "## Cell to calculate stability vs convex hull\n",
    "\n",
    "## Get the references like this\n",
    "from ase.db import connect\n",
    "db = connect('references_pbesol.db')\n",
    "refs = [(row.formula, row.energy) for row in db.select('Li>0')]"
   ]
  },
  {
   "cell_type": "markdown",
   "metadata": {
    "ein.tags": "worksheet-0",
    "slideshow": {
     "slide_type": "-"
    }
   },
   "source": [
    "### Descriptors for the electronic properties\n",
    "\n",
    "Does the candidate material have the potential to be used in a solar cell, i.e. band gap between 1. and 2.5 eV? Can we use this material in a thin film device (high light absorption properties at the band gap) or not? Discuss this comparing the band gap with the shape of the adsorption spectrum."
   ]
  },
  {
   "cell_type": "markdown",
   "metadata": {
    "ein.tags": "worksheet-0",
    "slideshow": {
     "slide_type": "-"
    }
   },
   "source": [
    "### Trends and correlations\n",
    "\n",
    "Taking inspiration from:\n",
    "https://iopscience.iop.org/article/10.1088/0965-0393/22/5/055007\n",
    "https://www.sciencedirect.com/science/article/abs/pii/S0143720806003287?via%3Dihub\n",
    "\n",
    "identify and discuss possible trends in the set of materials that you have investigated."
   ]
  },
  {
   "cell_type": "markdown",
   "metadata": {
    "ein.tags": "worksheet-0",
    "slideshow": {
     "slide_type": "-"
    }
   },
   "source": [
    "### Presentation\n",
    "\n",
    "For the exam, you have to prepare a presentation describing your results."
   ]
  },
  {
   "cell_type": "code",
   "execution_count": null,
   "metadata": {
    "autoscroll": false,
    "collapsed": false,
    "ein.hycell": false,
    "ein.tags": "worksheet-0",
    "slideshow": {
     "slide_type": "-"
    }
   },
   "outputs": [],
   "source": []
  }
 ],
 "metadata": {
  "kernelspec": {
   "argv": [
    "python",
    "-m",
    "ipykernel_launcher",
    "-f",
    "{connection_file}"
   ],
   "display_name": "Python 3",
   "env": null,
   "interrupt_mode": "signal",
   "language": "python",
   "metadata": null,
   "name": "python3"
  },
  "language_info": {
   "codemirror_mode": {
    "name": "ipython",
    "version": 3
   },
   "file_extension": ".py",
   "mimetype": "text/x-python",
   "name": "python",
   "nbconvert_exporter": "python",
   "pygments_lexer": "ipython3",
   "version": "3.7.3"
  },
  "name": "final_project.ipynb"
 },
 "nbformat": 4,
 "nbformat_minor": 2
}
