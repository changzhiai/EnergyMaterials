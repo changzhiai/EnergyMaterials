{
 "cells": [
  {
   "cell_type": "markdown",
   "metadata": {
    "ein.tags": "worksheet-0",
    "slideshow": {
     "slide_type": "-"
    }
   },
   "source": [
    "# Functional Dependency\n",
    "\n",
    "In this exercise we will look at how different functionals perform for different kind of systems. We will be looking at the following functionals:\n",
    "\n",
    "* LDA\n",
    "* PBE\n",
    "* RPBE\n",
    " * Optimized PBE for catalysis\n",
    "* PBEsol\n",
    " * A varation of PBE optimized for solids\n",
    "* BEEF-vdW\n",
    "\n",
    "We will compare 3 different systems:\n",
    "* Benzene\n",
    "* NaCl\n",
    "* Graphite\n",
    "\n",
    "Before we start, try and think about which functionals you would expect to perform the best for each system.\n",
    "\n",
    "### Experimental reference distances\n",
    "\n",
    "Benzene: C-C distance: $1.39$ \u00c3\u0085\n",
    "\n",
    "https://chem.libretexts.org/Textbook_Maps/Organic_Chemistry/Map%3A_Organic_Chemistry_(McMurry)/Chapter_15%3A_Benzene_and_Aromaticity/15.02_Structure_and_Stability_of_Benzene\n",
    "\n",
    "NaCl: $a=c=5.64$ \u00c3\u0085\n",
    "\n",
    "http://www.ilpi.com/inorganic/structures/nacl/index.html\n",
    "\n",
    "Graphite: $a=2.46$ \u00c3\u0085 and $c=6.71$ \u00c3\u0085\n",
    "\n",
    "http://www.phy.ohiou.edu/~asmith/NewATOMS/HOPG.pdf\n",
    "\n",
    "\n",
    "### Questions\n",
    "As you will need to do cell optimizations, you will need to do plane-wave calculations, as this is the only mode in which you can get the stress tensor. Use the UnitCellFilter to relax cell parameters. A $500 \\ \\text{eV}$ plane-wave cutoff will be sufficient for this exercise.\n",
    "\n",
    "* When do we need to include k-points?\n",
    "* Compare DFT results with the experimental references\n",
    "* How do the results compare to your initial guesses?\n",
    "* Which functional performs best for each system? \n",
    "* Do any of the functionals get any of the systems completely wrong?\n"
   ]
  },
  {
   "cell_type": "code",
   "execution_count": null,
   "metadata": {
    "autoscroll": false,
    "collapsed": false,
    "ein.hycell": false,
    "ein.tags": "worksheet-0",
    "slideshow": {
     "slide_type": "-"
    }
   },
   "outputs": [],
   "source": [
    "from ase.build import molecule\n",
    "\n",
    "# Construct a benzene molecule\n",
    "atoms = molecule('C6H6')\n",
    "atoms.center(vacuum=3.5)"
   ]
  },
  {
   "cell_type": "code",
   "execution_count": null,
   "metadata": {
    "autoscroll": false,
    "collapsed": false,
    "ein.hycell": false,
    "ein.tags": "worksheet-0",
    "slideshow": {
     "slide_type": "-"
    }
   },
   "outputs": [],
   "source": []
  },
  {
   "cell_type": "code",
   "execution_count": null,
   "metadata": {
    "autoscroll": false,
    "collapsed": false,
    "ein.hycell": false,
    "ein.tags": "worksheet-0",
    "slideshow": {
     "slide_type": "-"
    }
   },
   "outputs": [],
   "source": []
  },
  {
   "cell_type": "code",
   "execution_count": null,
   "metadata": {
    "autoscroll": false,
    "collapsed": false,
    "ein.hycell": false,
    "ein.tags": "worksheet-0",
    "slideshow": {
     "slide_type": "-"
    }
   },
   "outputs": [],
   "source": []
  },
  {
   "cell_type": "code",
   "execution_count": null,
   "metadata": {
    "autoscroll": false,
    "collapsed": false,
    "ein.hycell": false,
    "ein.tags": "worksheet-0",
    "slideshow": {
     "slide_type": "-"
    }
   },
   "outputs": [],
   "source": [
    "from ase.spacegroup import crystal\n",
    "# Reasonable initial guess. Let's not use the exact experimental value, but make the optimizer work a bit for the result\n",
    "a = 5.6  \n",
    "atoms = crystal(['Na', 'Cl'], [(0, 0, 0), (0.5, 0.5, 0.5)], spacegroup=225, cellpar=[a, a, a, 90, 90, 90])"
   ]
  },
  {
   "cell_type": "code",
   "execution_count": null,
   "metadata": {
    "autoscroll": false,
    "collapsed": false,
    "ein.hycell": false,
    "ein.tags": "worksheet-0",
    "slideshow": {
     "slide_type": "-"
    }
   },
   "outputs": [],
   "source": []
  },
  {
   "cell_type": "code",
   "execution_count": null,
   "metadata": {
    "autoscroll": false,
    "collapsed": false,
    "ein.hycell": false,
    "ein.tags": "worksheet-0",
    "slideshow": {
     "slide_type": "-"
    }
   },
   "outputs": [],
   "source": []
  },
  {
   "cell_type": "code",
   "execution_count": null,
   "metadata": {
    "autoscroll": false,
    "collapsed": false,
    "ein.hycell": false,
    "ein.tags": "worksheet-0",
    "slideshow": {
     "slide_type": "-"
    }
   },
   "outputs": [],
   "source": []
  },
  {
   "cell_type": "code",
   "execution_count": null,
   "metadata": {
    "autoscroll": false,
    "collapsed": false,
    "ein.hycell": false,
    "ein.tags": "worksheet-0",
    "slideshow": {
     "slide_type": "-"
    }
   },
   "outputs": [],
   "source": [
    "from ase.lattice.hexagonal import Graphite\n",
    "# Make a reasonable initial guess on lattice parameters\n",
    "atoms = Graphite('C', latticeconstant={'a': 2.5, 'c': 6.5})"
   ]
  },
  {
   "cell_type": "code",
   "execution_count": null,
   "metadata": {
    "autoscroll": false,
    "collapsed": false,
    "ein.hycell": false,
    "ein.tags": "worksheet-0",
    "slideshow": {
     "slide_type": "-"
    }
   },
   "outputs": [],
   "source": []
  },
  {
   "cell_type": "code",
   "execution_count": null,
   "metadata": {
    "autoscroll": false,
    "collapsed": false,
    "ein.hycell": false,
    "ein.tags": "worksheet-0",
    "slideshow": {
     "slide_type": "-"
    }
   },
   "outputs": [],
   "source": []
  },
  {
   "cell_type": "code",
   "execution_count": null,
   "metadata": {
    "autoscroll": false,
    "collapsed": false,
    "ein.hycell": false,
    "ein.tags": "worksheet-0",
    "slideshow": {
     "slide_type": "-"
    }
   },
   "outputs": [],
   "source": []
  },
  {
   "cell_type": "code",
   "execution_count": null,
   "metadata": {
    "autoscroll": false,
    "collapsed": false,
    "ein.hycell": false,
    "ein.tags": "worksheet-0",
    "slideshow": {
     "slide_type": "-"
    }
   },
   "outputs": [],
   "source": []
  },
  {
   "cell_type": "code",
   "execution_count": null,
   "metadata": {
    "autoscroll": false,
    "collapsed": false,
    "ein.hycell": false,
    "ein.tags": "worksheet-0",
    "slideshow": {
     "slide_type": "-"
    }
   },
   "outputs": [],
   "source": []
  }
 ],
 "metadata": {
  "kernelspec": {
   "display_name": "Python 3",
   "name": "python3"
  },
  "language_info": {
   "codemirror_mode": {
    "name": "ipython",
    "version": 3
   },
   "file_extension": ".py",
   "mimetype": "text/x-python",
   "name": "python",
   "nbconvert_exporter": "python",
   "pygments_lexer": "ipython3",
   "version": "3.5.3"
  },
  "name": "functional_dependency.ipynb"
 },
 "nbformat": 4,
 "nbformat_minor": 2
}