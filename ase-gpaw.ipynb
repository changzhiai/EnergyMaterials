{
 "cells": [
  {
   "cell_type": "markdown",
   "metadata": {
    "ein.tags": "worksheet-0",
    "slideshow": {
     "slide_type": "-"
    }
   },
   "source": [
    "# Introduction to ASE and GPAW"
   ]
  },
  {
   "cell_type": "markdown",
   "metadata": {
    "ein.tags": "worksheet-0",
    "slideshow": {
     "slide_type": "-"
    }
   },
   "source": [
    "ASE is a module designed for working with atoms. It uses the units of Ångstrom (Å) for length and electron volts (eV) for energy.\n",
    "\n",
    "In essence, ASE contains the `Atoms` object, which is a collection om `Atom` object - thus, when we loop through the `Atoms` object, we get an `Atom` object. The `Atoms` object can then be associated with a so-called `calculator` object, which is just an object which knows how to calculate energies and forces, e.g. GPAW.\n",
    "\n",
    "<img src=\"images/ase-outline.png\">\n",
    "\n",
    "ASE and GPAW are quite complex modules, but there are good tutorials for doing many things, which can be found on their respective wiki pages.\n",
    "\n",
    "https://wiki.fysik.dtu.dk/ase/\n",
    "\n",
    "https://wiki.fysik.dtu.dk/gpaw/\n",
    "\n"
   ]
  },
  {
   "cell_type": "markdown",
   "metadata": {
    "ein.tags": "worksheet-0",
    "slideshow": {
     "slide_type": "-"
    }
   },
   "source": [
    "## Contents\n",
    "If you already are proficient in a topic you can skip it and move on to the next.\n",
    "\n",
    "- [ASE](#ase)\n",
    "- [GPAW](#gpaw)\n",
    "- [Submitting calculations](#submit)\n"
   ]
  },
  {
   "cell_type": "markdown",
   "metadata": {
    "ein.tags": "worksheet-0",
    "slideshow": {
     "slide_type": "-"
    }
   },
   "source": [
    "## ASE\n",
    "<a id=\"ase\"></a>\n"
   ]
  },
  {
   "cell_type": "code",
   "execution_count": 1,
   "metadata": {
    "autoscroll": false,
    "ein.hycell": false,
    "ein.tags": "worksheet-0",
    "slideshow": {
     "slide_type": "-"
    }
   },
   "outputs": [],
   "source": [
    "# CO molecule with a bond length of 1.1 Å\n",
    "from ase import Atoms\n",
    "d = 1.1\n",
    "atoms = Atoms('CO', positions=[[0, 0, 0], [0, 0, d]])\n"
   ]
  },
  {
   "cell_type": "markdown",
   "metadata": {
    "ein.tags": "worksheet-0",
    "slideshow": {
     "slide_type": "-"
    }
   },
   "source": [
    "ASE contains tools to visualize the system. This opens a new window for viewing the atoms"
   ]
  },
  {
   "cell_type": "code",
   "execution_count": 2,
   "metadata": {
    "autoscroll": false,
    "ein.hycell": false,
    "ein.tags": "worksheet-0",
    "slideshow": {
     "slide_type": "-"
    }
   },
   "outputs": [],
   "source": [
    "from ase.visualize import view\n",
    "view(atoms)"
   ]
  },
  {
   "cell_type": "markdown",
   "metadata": {
    "ein.tags": "worksheet-0",
    "slideshow": {
     "slide_type": "-"
    }
   },
   "source": [
    "We can loop through the `Atoms` object to get `Atom` objects"
   ]
  },
  {
   "cell_type": "code",
   "execution_count": 3,
   "metadata": {
    "autoscroll": false,
    "ein.hycell": false,
    "ein.tags": "worksheet-0",
    "slideshow": {
     "slide_type": "-"
    }
   },
   "outputs": [
    {
     "name": "stdout",
     "output_type": "stream",
     "text": [
      "Atoms(symbols='CO', pbc=False)\n",
      "[[0.  0.  0. ]\n",
      " [0.  0.  1.1]]\n",
      "Atom('C', [0.0, 0.0, 0.0], index=0)\n",
      "0 [0. 0. 0.]\n",
      "Atom('O', [0.0, 0.0, 1.1], index=1)\n",
      "1 [0.  0.  1.1]\n"
     ]
    }
   ],
   "source": [
    "print(atoms)\n",
    "print(atoms.positions)\n",
    "for atom in atoms:\n",
    "    print(atom)\n",
    "    print(atom.index, atom.position)"
   ]
  },
  {
   "cell_type": "markdown",
   "metadata": {
    "ein.tags": "worksheet-0",
    "slideshow": {
     "slide_type": "-"
    }
   },
   "source": [
    "As you can see, the first print statement is `Atoms`, which contains more than a single atom, while the `Atom` object only contains 1 atom. Both types of objects have variables that can be accessed directly (positions, magmoms, ...)\n"
   ]
  },
  {
   "cell_type": "markdown",
   "metadata": {
    "ein.tags": "worksheet-0",
    "slideshow": {
     "slide_type": "-"
    }
   },
   "source": [
    "Let's try to setup a periodic structure."
   ]
  },
  {
   "cell_type": "code",
   "execution_count": 4,
   "metadata": {
    "autoscroll": false,
    "ein.hycell": false,
    "ein.tags": "worksheet-0",
    "slideshow": {
     "slide_type": "-"
    }
   },
   "outputs": [],
   "source": [
    "d = 2.9\n",
    "L = 10\n",
    "wire = Atoms('Au', positions=[[0, L / 2, L / 2]],\n",
    "             cell=[d, L, L],  # unit cell lengths\n",
    "             pbc=[1, 0, 0])  # periodic boundary conditions\n",
    "# let's try and repeat it and visualize primitive and repeated\n",
    "wire10 = wire * (10, 1, 1)\n",
    "view([wire, wire10])"
   ]
  },
  {
   "cell_type": "markdown",
   "metadata": {
    "ein.tags": "worksheet-0",
    "slideshow": {
     "slide_type": "-"
    }
   },
   "source": [
    "Let's setup a surface using one of the utility functions in [`ase.build`](https://wiki.fysik.dtu.dk/ase/dev/ase/build/build.html#module-ase.build), add an [adsorbate](https://wiki.fysik.dtu.dk/ase/dev/ase/build/surface.html#adding-adsorbates), [fix](https://wiki.fysik.dtu.dk/ase/dev/ase/constraints.html#the-fixatoms-class) the \"bulk\" atoms and finally do a geometrical [relaxation](https://wiki.fysik.dtu.dk/ase/dev/ase/optimize.html#module-ase.optimize)"
   ]
  },
  {
   "cell_type": "code",
   "execution_count": 5,
   "metadata": {
    "autoscroll": false,
    "ein.hycell": false,
    "ein.tags": "worksheet-0",
    "slideshow": {
     "slide_type": "-"
    }
   },
   "outputs": [],
   "source": [
    "# Create the slab\n",
    "from ase.build import fcc100\n",
    "\n",
    "slab = fcc100('Cu',\n",
    "              size=(3, 3, 3),\n",
    "              vacuum=7)\n",
    "view(slab)"
   ]
  },
  {
   "cell_type": "code",
   "execution_count": 6,
   "metadata": {
    "autoscroll": false,
    "ein.hycell": false,
    "ein.tags": "worksheet-0",
    "slideshow": {
     "slide_type": "-"
    }
   },
   "outputs": [],
   "source": [
    "# Add an adsorbate\n",
    "from ase.build import add_adsorbate\n",
    "\n",
    "add_adsorbate(slab, adsorbate='Cu',\n",
    "              height=3.0,\n",
    "              position='ontop')\n",
    "\n",
    "view(slab)"
   ]
  },
  {
   "cell_type": "code",
   "execution_count": 7,
   "metadata": {
    "autoscroll": false,
    "ein.hycell": false,
    "ein.tags": "worksheet-0",
    "slideshow": {
     "slide_type": "-"
    }
   },
   "outputs": [],
   "source": [
    "# Constrain the lower layers of the slab, they are the bulk\n",
    "from ase.constraints import FixAtoms\n",
    "\n",
    "con = FixAtoms(mask=[atom.tag > 1 for atom in slab])\n",
    "slab.set_constraint(con)\n",
    "\n",
    "view(slab)"
   ]
  },
  {
   "cell_type": "code",
   "execution_count": 8,
   "metadata": {
    "autoscroll": false,
    "ein.hycell": false,
    "ein.tags": "worksheet-0",
    "slideshow": {
     "slide_type": "-"
    }
   },
   "outputs": [
    {
     "name": "stdout",
     "output_type": "stream",
     "text": [
      "      Step     Time          Energy         fmax\n",
      "BFGS:    0 14:07:48       10.478859        1.4775\n",
      "BFGS:    1 14:07:48       10.430330        1.5194\n",
      "BFGS:    2 14:07:48       10.338298        1.5920\n",
      "BFGS:    3 14:07:48       10.245728        1.6524\n",
      "BFGS:    4 14:07:48       10.153012        1.6958\n",
      "BFGS:    5 14:07:48       10.061012        1.7163\n",
      "BFGS:    6 14:07:48        9.970931        1.7064\n",
      "BFGS:    7 14:07:48        9.884688        1.6573\n",
      "BFGS:    8 14:07:48        9.804814        1.5586\n",
      "BFGS:    9 14:07:48        9.734398        1.3995\n",
      "BFGS:   10 14:07:48        9.676834        1.1707\n",
      "BFGS:   11 14:07:48        9.635117        0.8691\n",
      "BFGS:   12 14:07:48        9.610043        0.5096\n",
      "BFGS:   13 14:07:48        9.595613        0.8567\n",
      "BFGS:   14 14:07:48        9.577820        1.0506\n",
      "BFGS:   15 14:07:49        9.552948        1.1590\n",
      "BFGS:   16 14:07:49        9.524542        1.1981\n",
      "BFGS:   17 14:07:49        9.494331        1.1814\n",
      "BFGS:   18 14:07:49        9.463939        1.1161\n",
      "BFGS:   19 14:07:49        9.435407        1.0077\n",
      "BFGS:   20 14:07:49        9.410666        0.8619\n",
      "BFGS:   21 14:07:49        9.390593        0.6786\n",
      "BFGS:   22 14:07:49        9.376129        0.4548\n",
      "BFGS:   23 14:07:49        9.368322        0.1814\n",
      "BFGS:   24 14:07:49        9.367120        0.0458\n"
     ]
    },
    {
     "data": {
      "text/plain": [
       "True"
      ]
     },
     "execution_count": 8,
     "metadata": {},
     "output_type": "execute_result"
    }
   ],
   "source": [
    "# Attach a calculator and relax the atomic positions\n",
    "from ase.calculators.emt import EMT\n",
    "from ase.optimize import BFGS\n",
    "\n",
    "# The calculator\n",
    "calc = EMT()\n",
    "slab.set_calculator(calc)\n",
    "\n",
    "# The optimizer\n",
    "traj_file = 'Cu-slab-relax.traj'\n",
    "opt = BFGS(slab, trajectory=traj_file)\n",
    "opt.run(fmax=0.05)  # unit of force is eV/Å\n"
   ]
  },
  {
   "cell_type": "code",
   "execution_count": 9,
   "metadata": {
    "autoscroll": false,
    "ein.hycell": false,
    "ein.tags": "worksheet-0",
    "slideshow": {
     "slide_type": "-"
    }
   },
   "outputs": [],
   "source": [
    "# view the steps of the relaxation\n",
    "from ase.io import read\n",
    "\n",
    "slab_relax = read(traj_file, index=':')\n",
    "\n",
    "view(slab_relax)"
   ]
  },
  {
   "cell_type": "code",
   "execution_count": 10,
   "metadata": {
    "autoscroll": false,
    "ein.hycell": false,
    "ein.tags": "worksheet-0",
    "slideshow": {
     "slide_type": "-"
    }
   },
   "outputs": [
    {
     "name": "stdout",
     "output_type": "stream",
     "text": [
      "BFGS:   25 14:15:45        9.357123        0.1118\n",
      "BFGS:   26 14:15:46        9.352098        0.1414\n",
      "BFGS:   27 14:15:46        9.345959        0.1694\n",
      "BFGS:   28 14:15:46        9.338699        0.1967\n",
      "BFGS:   29 14:15:46        9.330312        0.2234\n",
      "BFGS:   30 14:15:46        9.320804        0.2495\n",
      "BFGS:   31 14:15:46        9.310187        0.2751\n",
      "BFGS:   32 14:15:46        9.298475        0.3003\n",
      "BFGS:   33 14:15:46        9.285670        0.3258\n",
      "BFGS:   34 14:15:46        9.271763        0.3517\n",
      "BFGS:   35 14:15:46        9.256738        0.3779\n",
      "BFGS:   36 14:15:46        9.240592        0.4042\n",
      "BFGS:   37 14:15:46        9.223325        0.4304\n",
      "BFGS:   38 14:15:46        9.204947        0.4564\n",
      "BFGS:   39 14:15:46        9.185469        0.4822\n",
      "BFGS:   40 14:15:46        9.164926        0.5066\n",
      "BFGS:   41 14:15:46        9.143419        0.5281\n",
      "BFGS:   42 14:15:47        9.121092        0.5467\n",
      "BFGS:   43 14:15:47        9.098061        0.5633\n",
      "BFGS:   44 14:15:47        9.074415        0.5781\n",
      "BFGS:   45 14:15:47        9.050247        0.5908\n",
      "BFGS:   46 14:15:47        9.025668        0.6009\n",
      "BFGS:   47 14:15:47        9.000801        0.6080\n",
      "BFGS:   48 14:15:47        8.975779        0.6120\n",
      "BFGS:   49 14:15:47        8.950735        0.6127\n",
      "BFGS:   50 14:15:47        8.925807        0.6099\n",
      "BFGS:   51 14:15:47        8.901117        0.6036\n",
      "BFGS:   52 14:15:47        8.876793        0.5937\n",
      "BFGS:   53 14:15:47        8.852956        0.5801\n",
      "BFGS:   54 14:15:47        8.829724        0.5630\n",
      "BFGS:   55 14:15:47        8.807207        0.5424\n",
      "BFGS:   56 14:15:47        8.785517        0.5181\n",
      "BFGS:   57 14:15:47        8.764775        0.4894\n",
      "BFGS:   58 14:15:47        8.745125        0.4559\n",
      "BFGS:   59 14:15:48        8.726716        0.4180\n",
      "BFGS:   60 14:15:48        8.709693        0.3753\n",
      "BFGS:   61 14:15:48        8.694222        0.3272\n",
      "BFGS:   62 14:15:48        8.680496        0.2727\n",
      "BFGS:   63 14:15:48        8.668715        0.2620\n",
      "BFGS:   64 14:15:48        8.659062        0.2628\n",
      "BFGS:   65 14:15:48        8.651640        0.2541\n",
      "BFGS:   66 14:15:48        8.646298        0.2321\n",
      "BFGS:   67 14:15:48        8.642075        0.2397\n",
      "BFGS:   68 14:15:48        8.637766        0.2182\n",
      "BFGS:   69 14:15:48        8.629706        0.0940\n",
      "BFGS:   70 14:15:48        8.627625        0.0831\n",
      "BFGS:   71 14:15:48        8.626888        0.0776\n",
      "BFGS:   72 14:15:48        8.626189        0.0725\n",
      "BFGS:   73 14:15:48        8.625211        0.0611\n",
      "BFGS:   74 14:15:48        8.624372        0.0431\n"
     ]
    }
   ],
   "source": [
    "# add small pertubation away from the symmetric position of the adsorbate\n",
    "slab[-1].position += [.1, .1, 0]\n",
    "opt.run(fmax=0.05)\n",
    "slab_relax = read(traj_file, index=':')\n",
    "\n",
    "view(slab_relax)\n"
   ]
  },
  {
   "cell_type": "code",
   "execution_count": 11,
   "metadata": {
    "autoscroll": false,
    "ein.hycell": false,
    "ein.tags": "worksheet-0",
    "slideshow": {
     "slide_type": "-"
    }
   },
   "outputs": [
    {
     "name": "stdout",
     "output_type": "stream",
     "text": [
      "8.624371628630778\n"
     ]
    }
   ],
   "source": [
    "# get the energy out directly\n",
    "print(slab.get_potential_energy())"
   ]
  },
  {
   "cell_type": "markdown",
   "metadata": {
    "ein.tags": "worksheet-0",
    "slideshow": {
     "slide_type": "-"
    }
   },
   "source": [
    "## GPAW\n",
    "<a id=\"gpaw\"></a>\n",
    "\n",
    "[GPAW](https://wiki.fysik.dtu.dk/gpaw/index.html) is a density functional theory code written primarily in Python. It is based on the projector augmented wave (PAW) method. 3 different methods to describe the wave functions; plane wave (`mode=pw`), linear combination of atomic orbitals (`mode=lcao`) and on a real-space uniform grids with the finite-difference approximation (`mode=fd`)."
   ]
  },
  {
   "cell_type": "code",
   "execution_count": null,
   "metadata": {
    "autoscroll": false,
    "ein.hycell": false,
    "ein.tags": "worksheet-0",
    "slideshow": {
     "slide_type": "-"
    }
   },
   "outputs": [],
   "source": [
    "# How to import the GPAW calculator\n",
    "from gpaw import GPAW\n",
    "\n",
    "calc = GPAW(h=0.24,\n",
    "            mode='lcao',\n",
    "            basis='sz(dzp)',\n",
    "            xc='PBE')"
   ]
  },
  {
   "cell_type": "markdown",
   "metadata": {
    "ein.tags": "worksheet-0",
    "slideshow": {
     "slide_type": "-"
    }
   },
   "source": [
    "Let's calculate the DFT adsorption energy of CO on Cu(100) ontop site.\n",
    "\n",
    "Adsorption energy is defined: $E_{ads} = E_{Cu+CO} - (E_{Cu} + E_{CO})$"
   ]
  },
  {
   "cell_type": "code",
   "execution_count": null,
   "metadata": {
    "autoscroll": false,
    "ein.hycell": false,
    "ein.tags": "worksheet-0",
    "slideshow": {
     "slide_type": "-"
    }
   },
   "outputs": [],
   "source": [
    "#%%writefile CO.py\n",
    "# First check your structure is correct\n",
    "from ase.build import molecule\n",
    "from ase.optimize import BFGS\n",
    "mol = molecule('CO')\n",
    "mol.center(vacuum=10)\n",
    "\n",
    "view(mol)\n"
   ]
  },
  {
   "cell_type": "code",
   "execution_count": null,
   "metadata": {
    "autoscroll": false,
    "ein.hycell": false,
    "ein.tags": "worksheet-0",
    "slideshow": {
     "slide_type": "-"
    }
   },
   "outputs": [],
   "source": [
    "# Then attach the calculator\n",
    "from gpaw import GPAW\n",
    "calc = GPAW(h=0.24,\n",
    "            mode='lcao',\n",
    "            basis='sz(dzp)',\n",
    "            xc='PBE')\n",
    "\n",
    "mol.set_calculator(calc)\n",
    "opt = BFGS(mol, trajectory='CO.traj')\n",
    "opt.run(fmax=0.05)  # unit of force is eV/Å\n",
    "\n"
   ]
  },
  {
   "cell_type": "code",
   "execution_count": null,
   "metadata": {
    "autoscroll": false,
    "ein.hycell": false,
    "ein.tags": "worksheet-0",
    "slideshow": {
     "slide_type": "-"
    }
   },
   "outputs": [],
   "source": [
    "#%%writefile Cu-slab.py\n",
    "from ase.build import fcc100\n",
    "from ase.build import add_adsorbate\n",
    "from ase.build import molecule\n",
    "from ase.constraints import FixAtoms\n",
    "from gpaw import GPAW\n",
    "from ase.optimize import BFGS\n",
    "\n",
    "mol = molecule('CO')\n",
    "slab = fcc100('Cu',\n",
    "              size=(2, 2, 3),\n",
    "              vacuum=7)\n",
    "con = FixAtoms(mask=[atom.tag > 1 for atom in slab])\n",
    "slab.set_constraint(con)\n",
    "\n",
    "# calc = GPAW(h=0.24,\n",
    "#             mode='lcao',\n",
    "#             basis='sz(dzp)',\n",
    "#             xc='PBE',\n",
    "#             kpts=(6, 6, 1))\n",
    "\n",
    "# calc.set(txt='slab.txt')\n",
    "# slab.set_calculator(calc)\n",
    "# opt = BFGS(slab, trajectory='Cu-clean.traj')\n",
    "# opt.run(fmax=0.05)\n",
    "add_adsorbate(slab, adsorbate=mol,\n",
    "              height=1.8,\n",
    "              position='ontop')\n",
    "\n",
    "view(slab)\n",
    "\n",
    "# calc.set(txt='slab-and-adsorbate.txt')\n",
    "# opt = BFGS(slab, trajectory='Cu-adsorbate.traj')\n",
    "# opt.run(fmax=0.05)\n",
    "\n"
   ]
  },
  {
   "cell_type": "code",
   "execution_count": null,
   "metadata": {
    "autoscroll": false,
    "ein.hycell": false,
    "ein.tags": "worksheet-0",
    "slideshow": {
     "slide_type": "-"
    }
   },
   "outputs": [],
   "source": [
    "e_Cu_ads = read('Cu-adsorbate.traj').get_potential_energy()\n",
    "e_Cu = read('Cu-clean.traj').get_potential_energy()\n",
    "e_mol = read('CO.traj').get_potential_energy()\n",
    "print(\"DFT adsorption energy: E_ads = {:f.3}\".format(e_Cu_ads - (e_Cu + e_mol)))"
   ]
  },
  {
   "cell_type": "markdown",
   "metadata": {
    "ein.tags": "worksheet-0",
    "slideshow": {
     "slide_type": "-"
    }
   },
   "source": [
    "## Submitting calculations\n",
    "<a id=\"submit\"></a>\n",
    "\n",
    "Often, DFT calculations take a while to run. A normal execution of a python program will only run on 1 core, however, that is very rarely ever enough to do any real simulations, so we turn to parallel execution of the programs.\n",
    "\n",
    "We will submit our parallel calculations to a queueing system asking for a number of processors. Our computation will start when there is ressources available.\n",
    "\n",
    "We have set up a program called `bsub.py`, which will take care of submitting to the queue. The syntax in the terminal is\n",
    "\n",
    "```bash\n",
    "bsub.py -t T -p NPROC myscript.py\n",
    "```\n",
    "which will submit `myscript.py` to the queue, requesting `NPROC` number of cores for the duration of `T` hours. So for example, it could look something like\n",
    "```bash\n",
    "bsub.py -t 1 -p 20 myscript.py\n",
    "```\n",
    "which would submit `myscript.py` to the queue for 1 hour on 20 processors. We can then look at our queue with the command \n",
    "\n",
    "```bash\n",
    "bstat -u $USER\n",
    "```\n",
    "which gives us information about the jobs we currently have in the queue, whether they are waiting to start, running or completed. You can delete a job from the job with the command\n",
    "\n",
    "```bash\n",
    "qdel JOBID\n",
    "```\n",
    "where `JOBID` is the ID number of the job, which we can get with the `qstat` command above.\n",
    "\n",
    "*Note* that terminal commands can be run in a Jupyter notebook cell by prefixing the command by an explamation mark (!). The submit command from above would be:\n",
    "\n",
    "```\n",
    "!bsub.py -t 1 -p 20 myscript.py\n",
    "```"
   ]
  }
 ],
 "metadata": {
  "kernelspec": {
   "display_name": "Python 3",
   "language": "python",
   "name": "python3"
  },
  "language_info": {
   "codemirror_mode": {
    "name": "ipython",
    "version": 3
   },
   "file_extension": ".py",
   "mimetype": "text/x-python",
   "name": "python",
   "nbconvert_exporter": "python",
   "pygments_lexer": "ipython3",
   "version": "3.7.3"
  },
  "name": "ase-gpaw.ipynb"
 },
 "nbformat": 4,
 "nbformat_minor": 2
}
