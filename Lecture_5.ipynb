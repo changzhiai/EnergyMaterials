{
 "cells": [
  {
   "cell_type": "markdown",
   "metadata": {},
   "source": [
    "# High-throughput screening for novel materials? - Exercises\n",
    "\n",
    "In this notebook, you find some exercises related with how to perform a high-throughput screening for light harvesting materials.\n",
    "\n",
    "Use the below cell to read the database into memory."
   ]
  },
  {
   "cell_type": "code",
   "execution_count": null,
   "metadata": {},
   "outputs": [],
   "source": [
    "%matplotlib inline\n",
    "from ase.db import connect\n",
    "con = connect('cubic_perovskites.db')"
   ]
  },
  {
   "cell_type": "markdown",
   "metadata": {},
   "source": [
    "## Exercise 1\n",
    "From the cubic_perovsites.db database, identify the oxides that can be used for one photon water splitting device.\n",
    "\n",
    "You can take inpiration from the CMR database, https://cmr.fysik.dtu.dk/cubic_perovskites/cubic_perovskites.html#cubic-perovskites."
   ]
  },
  {
   "cell_type": "code",
   "execution_count": null,
   "metadata": {},
   "outputs": [],
   "source": []
  },
  {
   "cell_type": "markdown",
   "metadata": {
    "collapsed": true
   },
   "source": [
    "## Exercise 2\n",
    "Use AgNbO$_3$, and calculate the convex hull and Pourbaix diagram using data from the database.\n",
    "See this tutorial for inspiration: https://wiki.fysik.dtu.dk/ase/ase/phasediagram/phasediagram.html\n",
    "\n",
    "For the Pourbaix diagram, remember to give the reference energies with respect to the standard states."
   ]
  },
  {
   "cell_type": "code",
   "execution_count": null,
   "metadata": {},
   "outputs": [],
   "source": []
  },
  {
   "cell_type": "markdown",
   "metadata": {},
   "source": [
    "Is the material on the convex hull? If not, why is it still a candidate?"
   ]
  },
  {
   "cell_type": "code",
   "execution_count": null,
   "metadata": {},
   "outputs": [],
   "source": []
  },
  {
   "cell_type": "markdown",
   "metadata": {},
   "source": [
    "## Exercise 3\n",
    "One of the possible solutions to instability in water is to add a transparent protective layer with appropriate position of the bands and stable in water. Find the possible transparent layers in the oxo-perovskites for AgNbO$_3$. (hint: consider only the oxygen evolution band edge and, for simplicity, consider only the indirect gap and discard the calculation of Pourbax diagrams)"
   ]
  },
  {
   "cell_type": "code",
   "execution_count": null,
   "metadata": {},
   "outputs": [],
   "source": []
  },
  {
   "cell_type": "markdown",
   "metadata": {
    "collapsed": true
   },
   "source": [
    "Did you find any good candidate? If not, try with another material."
   ]
  },
  {
   "cell_type": "markdown",
   "metadata": {
    "collapsed": true
   },
   "source": [
    "## Exercise 4\n",
    "Relax, calculate the band gap and band structure at the GLLB-SC level of a possible new candidate structure: CaTiO$_3$ and compare it with SrTiO$_3$. Take inspiration from the exercises of the previous lecture and https://wiki.fysik.dtu.dk/gpaw/tutorials/band_gap/band_gap.html and https://wiki.fysik.dtu.dk/gpaw/exercises/band_structure/bands.html\n",
    "\n",
    "Calculate the band structure and band gap of both structures.\n",
    "\n",
    "The GLLB functional contains a bug, where it is unable to parallelize over bands, i.e. if you use plane-wave mode. You can avoid this error by using the following keyword in your GPAW calculator\n",
    "```python\n",
    "parallel={'band': 1}\n",
    "```\n",
    "\n",
    "As we will need to plot the band structure later, make sure that you save all of the wave functions for your fixed density calculation, i.e. use `mode='all'` when writing your wave functions:\n",
    "```python\n",
    "calc.write('myfile.gpw', mode='all')\n",
    "```\n",
    "We have provided you with a function to create a band structure object, which  you can plot using something along the lines of\n",
    "```python\n",
    "gap, bs = get_band_structure('myfile.gpw')\n",
    "print('Gap:', gap)\n",
    "bs.plot()\n",
    "```"
   ]
  },
  {
   "cell_type": "code",
   "execution_count": null,
   "metadata": {},
   "outputs": [],
   "source": [
    "%%writefile relax.py\n"
   ]
  },
  {
   "cell_type": "code",
   "execution_count": null,
   "metadata": {},
   "outputs": [],
   "source": []
  },
  {
   "cell_type": "code",
   "execution_count": null,
   "metadata": {},
   "outputs": [],
   "source": []
  },
  {
   "cell_type": "code",
   "execution_count": null,
   "metadata": {},
   "outputs": [],
   "source": [
    "from gpaw import GPAW\n",
    "from ase.dft.bandgap import bandgap\n",
    "\n",
    "def get_band_structure(gpw):\n",
    "    '''Get a band structure object from a .gpw file.\n",
    "    Note that wave functions need to be saved to the .gpw file to work.\n",
    "    I.e. in your calculation, do\n",
    "    calc.write('myfile.gpw', mode='all')\n",
    "    \n",
    "    Then plot the band structure with something like\n",
    "    \n",
    "    gap, bs = get_band_structure('myfile.gpw')\n",
    "    print('Gap:', gap)\n",
    "    bs.plot()\n",
    "    '''\n",
    "    calc = GPAW(gpw, txt=None)\n",
    "    bs = calc.band_structure()\n",
    "    gap = bandgap(calc)[0]\n",
    "    xc = calc.get_xc_functional()\n",
    "    ef = calc.get_fermi_level()\n",
    "    if xc == 'GLLBSC':\n",
    "        # Get GLLBsc band gap\n",
    "        response = calc.hamiltonian.xc.xcs['RESPONSE']\n",
    "        response.calculate_delta_xc()\n",
    "        EKs, Dxc = response.calculate_delta_xc_perturbation()\n",
    "        homo, lumo = calc.get_homo_lumo()\n",
    "        # Modify energies\n",
    "        bs.energies[bs.energies >= ef] += Dxc\n",
    "        gap += Dxc\n",
    "        \n",
    "    bs.energies -= ef  # Center energies at Fermi level\n",
    "    bs.reference -= ef\n",
    "    return gap, bs"
   ]
  },
  {
   "cell_type": "code",
   "execution_count": null,
   "metadata": {},
   "outputs": [],
   "source": []
  },
  {
   "cell_type": "code",
   "execution_count": null,
   "metadata": {},
   "outputs": [],
   "source": []
  }
 ],
 "metadata": {
  "kernelspec": {
   "display_name": "Python 3",
   "language": "python",
   "name": "python3"
  },
  "language_info": {
   "codemirror_mode": {
    "name": "ipython",
    "version": 3
   },
   "file_extension": ".py",
   "mimetype": "text/x-python",
   "name": "python",
   "nbconvert_exporter": "python",
   "pygments_lexer": "ipython3",
   "version": "3.7.1"
  }
 },
 "nbformat": 4,
 "nbformat_minor": 2
}