{
 "cells": [
  {
   "cell_type": "markdown",
   "metadata": {
    "ein.tags": "worksheet-0",
    "slideshow": {
     "slide_type": "-"
    }
   },
   "source": [
    "# What can we do with DFT? - Exercises\n",
    "In this notebook, you find some exercises related with what can be done using DFT"
   ]
  },
  {
   "cell_type": "markdown",
   "metadata": {
    "ein.tags": "worksheet-0",
    "slideshow": {
     "slide_type": "-"
    }
   },
   "source": [
    "For the first 3 exercises, we recommend using LCAO mode for speed, so you can use the following settings for your calculator object in all of the exercises.\n",
    "\n",
    "```python\n",
    "calc = GPAW(h=0.24,\n",
    "            mode='lcao',\n",
    "            basis='sz(dzp)',\n",
    "            xc='PBE')\n",
    "```\n",
    "The Single-$\\zeta$ (sz) basis set is not a very good basis set, and is generally not used for real calculations. However, for our purposes, and to speed up the calculations, this will be sufficient. For a real simulation, one would generally use a double-$\\zeta$ polarized (dzp) basis set at least. The `sz(dzp)` basis means, that we use the `sz` sub-basis from the larger `dzp` basis set.\n",
    "\n",
    "For relaxations we recommend the `BFGS` method.\n",
    "\n",
    "## Exercise 1\n",
    "Calculate the relaxed geometry of ammonia, NH$_3$, and its atomization energy with respect to H$_2$ and N$_2$, and with respect to isolated H and N.\n",
    "\n",
    "See the following GPAW tutorial for inspiration: https://wiki.fysik.dtu.dk/gpaw/tutorials/H2/atomization.html\n",
    "\n",
    "For building molecules, refer to the ASE wiki: https://wiki.fysik.dtu.dk/ase/ase/build/build.html#molecules\n",
    "\n",
    "Questions: \n",
    "* Why do we use N2 and H2 as references for the atomization energy?\n",
    "* What shall we include in the calculator object if we want to use N and H as reference systems?\n",
    "* How much does the atomization energy changes if we use N and H as reference systems instead of N2 and H2?"
   ]
  },
  {
   "cell_type": "markdown",
   "metadata": {
    "ein.tags": "worksheet-0",
    "slideshow": {
     "slide_type": "-"
    }
   },
   "source": [
    "Put the command `%%writefile ex1.py` on the top of your script to write the script to a file called `ex1.py`"
   ]
  },
  {
   "cell_type": "code",
   "execution_count": null,
   "metadata": {
    "autoscroll": false,
    "ein.hycell": false,
    "ein.tags": "worksheet-0",
    "slideshow": {
     "slide_type": "-"
    }
   },
   "outputs": [],
   "source": [
    "%%writefile ex1.py\n",
    "# teacher\n",
    "import pickle\n",
    "from ase.build import molecule\n",
    "from ase.visualize import view\n",
    "from ase.optimize import BFGS\n",
    "from ase.parallel import parprint, paropen\n",
    "from gpaw import GPAW\n",
    "\n",
    "energies = {}\n",
    "\n",
    "for name in ['NH3', 'H2', 'N2', 'H', 'N']:\n",
    "    system = molecule(name)\n",
    "    system.center(vacuum=10)\n",
    "\n",
    "    calc = GPAW(h=0.24,\n",
    "                mode='lcao',\n",
    "                basis='sz(dzp)',\n",
    "                xc='PBE',\n",
    "                txt='relax-'+name+'.txt'\n",
    "                )\n",
    "    # When do we need to set Hund's rule?\n",
    "    if name == 'H' or name == 'N': \n",
    "        calc.set(hund=True)\n",
    "\n",
    "    system.set_calculator(calc)\n",
    "    relax = BFGS(system, trajectory='relax-'+name+'.traj', logfile='relax-'+name+'.log')\n",
    "    relax.run(fmax=0.05)\n",
    "    \n",
    "    energy = system.get_potential_energy()\n",
    "    energies[name] = energy\n",
    "    parprint(name, energy)\n",
    "\n",
    "# Atomization energies of ammonia\n",
    "e_atomization1 = energies['NH3'] - 3/2. * energies['H2'] - 1/2. * energies['N2']\n",
    "e_atomization2 = energies['NH3'] - 3 * energies['H'] - energies['N']\n",
    "\n",
    "parprint(e_atomization1, e_atomization2)\n",
    "# Store energies dictionary for later\n",
    "with paropen('energies_ex1.pckl', 'wb') as f:\n",
    "    pickle.dump(energies, f)"
   ]
  },
  {
   "cell_type": "markdown",
   "metadata": {
    "ein.tags": "worksheet-0",
    "slideshow": {
     "slide_type": "-"
    }
   },
   "source": [
    "Remember the commands below to submit a calculation and survey the state of your calculations."
   ]
  },
  {
   "cell_type": "code",
   "execution_count": null,
   "metadata": {
    "autoscroll": false,
    "ein.hycell": false,
    "ein.tags": "worksheet-0",
    "slideshow": {
     "slide_type": "-"
    }
   },
   "outputs": [],
   "source": [
    "!bsub.py -t 1 -p 20 ex1.py"
   ]
  },
  {
   "cell_type": "code",
   "execution_count": null,
   "metadata": {
    "autoscroll": false,
    "ein.hycell": false,
    "ein.tags": "worksheet-0",
    "scrolled": true,
    "slideshow": {
     "slide_type": "-"
    }
   },
   "outputs": [],
   "source": [
    "!bstat -u $USER"
   ]
  },
  {
   "cell_type": "code",
   "execution_count": null,
   "metadata": {
    "autoscroll": false,
    "ein.hycell": false,
    "ein.tags": "worksheet-0",
    "slideshow": {
     "slide_type": "-"
    }
   },
   "outputs": [],
   "source": [
    "# teacher\n",
    "import pickle\n",
    "with open('energies_ex1.pckl', 'rb') as f:\n",
    "    energies = pickle.load(f)\n",
    "e_atomization1 = energies['NH3'] - 3/2. * energies['H2'] - 1/2. * energies['N2']\n",
    "e_atomization2 = energies['NH3'] - 3 * energies['H'] - energies['N']\n",
    "print('Atomization 1: {:.3f} eV\\nAtomization 2: {:.3f} eV'.format(e_atomization1, e_atomization2))"
   ]
  },
  {
   "cell_type": "markdown",
   "metadata": {
    "ein.tags": "worksheet-0",
    "slideshow": {
     "slide_type": "-"
    }
   },
   "source": [
    "## Exercise 2\n",
    "Calculate the vibrational modes of ammonia.\n",
    "\n",
    "See https://wiki.fysik.dtu.dk/ase/ase/vibrations/vibrations.html\n",
    "\n",
    "Questions:\n",
    "* Is the highest frequency mode of ammonia larger than the one of water?\n",
    "* What is the shape of the highest vibrational mode of ammonia?"
   ]
  },
  {
   "cell_type": "code",
   "execution_count": null,
   "metadata": {
    "autoscroll": false,
    "ein.hycell": false,
    "ein.tags": "worksheet-0",
    "slideshow": {
     "slide_type": "-"
    }
   },
   "outputs": [],
   "source": [
    "%%writefile ex2.py\n",
    "# teacher\n",
    "from ase import Atoms\n",
    "from ase.io import read\n",
    "from ase.vibrations import Vibrations\n",
    "from ase.parallel import paropen\n",
    "from gpaw import GPAW\n",
    "\n",
    "atoms = read('relax-NH3.traj')\n",
    "calc = GPAW(h=0.24,\n",
    "            mode='lcao',\n",
    "            basis='sz(dzp)',\n",
    "            xc='PBE',\n",
    "            txt='vibrational-NH3.txt'\n",
    "            )\n",
    "atoms.set_calculator(calc)\n",
    "\n",
    "# Create vibration calculator\n",
    "vib = Vibrations(atoms)\n",
    "vib.run()\n",
    "with paropen('ex2_log.txt', 'w') as log:\n",
    "    vib.summary(method='frederiksen', log=log)\n",
    "\n",
    "# Make trajectory files to visualize normal modes:\n",
    "for mode in range(12):\n",
    "    vib.write_mode(mode)"
   ]
  },
  {
   "cell_type": "code",
   "execution_count": null,
   "metadata": {
    "autoscroll": false,
    "ein.hycell": false,
    "ein.tags": "worksheet-0",
    "slideshow": {
     "slide_type": "-"
    }
   },
   "outputs": [],
   "source": [
    "# Visualize the modes we just made\n",
    "# Change the number to a mode between 0-11\n",
    "!ase gui vib.0.traj"
   ]
  },
  {
   "cell_type": "code",
   "execution_count": null,
   "metadata": {
    "autoscroll": false,
    "ein.hycell": false,
    "ein.tags": "worksheet-0",
    "slideshow": {
     "slide_type": "-"
    }
   },
   "outputs": [],
   "source": [
    "!bsub.py -t 1 -p 20 ex2.py"
   ]
  },
  {
   "cell_type": "code",
   "execution_count": null,
   "metadata": {
    "autoscroll": false,
    "ein.hycell": false,
    "ein.tags": "worksheet-0",
    "slideshow": {
     "slide_type": "-"
    }
   },
   "outputs": [],
   "source": [
    "!bstat -u $USER"
   ]
  },
  {
   "cell_type": "code",
   "execution_count": null,
   "metadata": {
    "autoscroll": false,
    "ein.hycell": false,
    "ein.tags": "worksheet-0",
    "slideshow": {
     "slide_type": "-"
    }
   },
   "outputs": [],
   "source": [
    "!cat ex2_log.txt"
   ]
  },
  {
   "cell_type": "markdown",
   "metadata": {
    "ein.tags": "worksheet-0",
    "slideshow": {
     "slide_type": "-"
    }
   },
   "source": [
    "## Exercise 3\n",
    "Set up a 2x2x3 Pt(111) surface with the two bottom layers constrained and calculate the adsorption energy of H on its hollow, bridge and top sites. You can reuse the energies from exercise 1 for the energy of an H$_2$ molecule.\n",
    "\n",
    "Use a (2x2x1) k-point sampling for your surface.\n",
    "\n",
    "See\n",
    "https://wiki.fysik.dtu.dk/ase/ase/build/surface.html\n",
    "\n",
    "https://wiki.fysik.dtu.dk/ase/ase/build/surface.html#ase.build.add_adsorbate\n",
    "\n",
    "**Important:** Remember to always visualize your structures!\n",
    "\n",
    "Questions:\n",
    "* What is the most stable adsorption site on Pt111\n",
    "* When do we need to include k-points in a calculator?\n",
    "* Do you think that a (2x2x1) k-point mesh is a sufficient number for a good simulation? Why?"
   ]
  },
  {
   "cell_type": "code",
   "execution_count": null,
   "metadata": {
    "autoscroll": false,
    "ein.hycell": false,
    "ein.tags": "worksheet-0",
    "slideshow": {
     "slide_type": "-"
    }
   },
   "outputs": [],
   "source": [
    "%%writefile ex3.py\n",
    "# teacher\n",
    "import pickle\n",
    "from ase.build import fcc111, add_adsorbate\n",
    "from ase.constraints import FixAtoms\n",
    "from ase.parallel import paropen, parprint\n",
    "from ase.optimize import BFGS\n",
    "from gpaw import GPAW, FermiDirac\n",
    "\n",
    "slab = fcc111('Pt', size=(2, 2, 3), vacuum=10.0)\n",
    "c = FixAtoms(indices=[atom.index for atom in slab if atom.tag > 1])\n",
    "slab.set_constraint(c)\n",
    "\n",
    "# Remember to visualize your structure\n",
    "if 0: # for viewing only. Set to 1 to view, and 0 to ignore\n",
    "    from ase.visualize import view\n",
    "    add_adsorbate(slab, 'H', 1.5, 'bridge')\n",
    "    view(slab)\n",
    "    assert False # Hack to break the execution by raising an error intentionally.\n",
    "\n",
    "energies_slab = {}\n",
    "\n",
    "\n",
    "# First we relax the slab\n",
    "settings = {'h': 0.24,\n",
    "            'mode': 'lcao',\n",
    "            'basis': 'sz(dzp)',\n",
    "            'occupations': FermiDirac(0.05),\n",
    "            'kpts': (2, 2, 1),\n",
    "            'xc': 'PBE'}\n",
    "\n",
    "calc = GPAW(txt='relax-Pt111_clean.txt', **settings)\n",
    "\n",
    "slab.set_calculator(calc)\n",
    "parprint('Relaxing clean')\n",
    "\n",
    "relax = BFGS(slab, trajectory='relax-Pt111_clean.traj', logfile='relax-Pt111_clean.log')\n",
    "relax.run(fmax=0.05)\n",
    "calc.write('Pt111_clean.gpw')  # We are going to need this gpw file later\n",
    "energies_slab['clean'] = slab.get_potential_energy()\n",
    "\n",
    "# Run through the configurations with a H adsorbate\n",
    "for position in ['ontop', 'bridge', 'fcc', 'hcp']:\n",
    "    parprint('Relaxing {}'.format(position))\n",
    "    atoms = slab.copy()  # Make a new clean copy\n",
    "    \n",
    "    add_adsorbate(atoms, 'H', 1.5, position)\n",
    "    name = 'H-'+position\n",
    "    \n",
    "    calc = GPAW(txt='relax-Pt111_'+name+'.txt', **settings)\n",
    "    \n",
    "    atoms.set_calculator(calc)\n",
    "    relax = BFGS(atoms, trajectory='relax-Pt111_'+name+'.traj', logfile='relax-Pt111_'+name+'.log')\n",
    "    relax.run(fmax=0.05)\n",
    "    calc.write('Pt111_'+name+'.gpw')\n",
    "    energies_slab[position] = atoms.get_potential_energy()\n",
    "\n",
    "\n",
    "# Get energies for H2 we calculated earlier\n",
    "with paropen('energies_ex1.pckl', 'rb') as f:\n",
    "    energies = pickle.load(f)\n",
    "\n",
    "e_ontop = energies_slab['ontop'] - energies_slab['clean'] - 1/2. * energies['H2']\n",
    "e_bridge = energies_slab['bridge'] - energies_slab['clean'] - 1/2. * energies['H2']\n",
    "e_fcc = energies_slab['fcc'] - energies_slab['clean'] - 1/2. * energies['H2']\n",
    "e_hcp = energies_slab['hcp'] - energies_slab['clean'] - 1/2. * energies['H2']\n",
    "\n",
    "with paropen('ex3_results.txt', 'w') as f:\n",
    "    print('Ontop: {:.3f} eV\\nBridge: {:.3f} eV\\nfcc: {:.3f} eV\\nhcp: {:.3f} eV'.format(e_ontop, e_bridge, e_fcc, e_hcp), file=f)"
   ]
  },
  {
   "cell_type": "code",
   "execution_count": null,
   "metadata": {
    "autoscroll": false,
    "ein.hycell": false,
    "ein.tags": "worksheet-0",
    "slideshow": {
     "slide_type": "-"
    }
   },
   "outputs": [],
   "source": [
    "# This calculation might take a while, so we use more processors\n",
    "!bsub.py -t 2 -p 20 ex3.py"
   ]
  },
  {
   "cell_type": "code",
   "execution_count": null,
   "metadata": {
    "autoscroll": false,
    "ein.hycell": false,
    "ein.tags": "worksheet-0",
    "slideshow": {
     "slide_type": "-"
    }
   },
   "outputs": [],
   "source": [
    "!bstat -u $USER"
   ]
  },
  {
   "cell_type": "code",
   "execution_count": null,
   "metadata": {
    "autoscroll": false,
    "ein.hycell": false,
    "ein.tags": "worksheet-0",
    "slideshow": {
     "slide_type": "-"
    }
   },
   "outputs": [],
   "source": [
    "!cat ex3_results.txt"
   ]
  },
  {
   "cell_type": "markdown",
   "metadata": {
    "ein.tags": "worksheet-0",
    "slideshow": {
     "slide_type": "-"
    }
   },
   "source": [
    "## Exercise 4\n",
    "\n",
    "For this exercise, we need to switch from LCAO mode to Plane-Wave (PW) mode, as we only have the stress-tensor in PW mode.\n",
    "\n",
    "Optimize NaCl using the stress tensor (check convergence of k-points and PW mode cutoff before running the optimization). Remember to save the gpw file of the relaxed configuration, because you will need it later. Saving the gpw file is done from the calculator, see https://wiki.fysik.dtu.dk/gpaw/tutorials/plotting/plot_wave_functions.html#creating-a-wave-function-file\n",
    "\n",
    "See https://wiki.fysik.dtu.dk/gpaw/exercises/stress/stress.html on doing Plane-Wave calculations. Also see https://wiki.fysik.dtu.dk/ase/ase/constraints.html#ase.constraints.UnitCellFilter on relaxing using the stress tensor.\n",
    "\n",
    "Use a (NxNxN) k-point sampling for the NaCl cell.\n",
    "\n",
    "Questions:\n",
    "* What is the relaxed lattice parameter for NaCl?"
   ]
  },
  {
   "cell_type": "code",
   "execution_count": null,
   "metadata": {
    "autoscroll": false,
    "ein.hycell": false,
    "ein.tags": "worksheet-0",
    "slideshow": {
     "slide_type": "-"
    }
   },
   "outputs": [],
   "source": [
    "%%writefile ex4a.py\n",
    "# teacher\n",
    "import pickle\n",
    "from ase.spacegroup import crystal\n",
    "from ase.parallel import paropen\n",
    "from gpaw import GPAW, PW\n",
    "\n",
    "a = 5.64\n",
    "nacl = crystal(['Na', 'Cl'], [(0, 0, 0), (0.5, 0.5, 0.5)], spacegroup=225, cellpar=[a, a, a, 90, 90, 90])\n",
    "\n",
    "if 0:\n",
    "    from ase.visualize import view\n",
    "    view(nacl)\n",
    "    assert False\n",
    "\n",
    "energies = {}\n",
    "kpts = [2, 3, 4, 5]\n",
    "ecuts = range(200, 801, 100)\n",
    "for k in kpts:\n",
    "    energies[k] = {}\n",
    "    for ecut in ecuts:\n",
    "        calc = GPAW(mode=PW(ecut),\n",
    "                       xc='PBE',\n",
    "                       kpts=(k, k, k),\n",
    "                       txt='NaCl-'+str(k)+'-'+str(ecut)+'.txt')\n",
    "        nacl.set_calculator(calc)\n",
    "        en = nacl.get_potential_energy()\n",
    "        energies[k][ecut] = en\n",
    "        \n",
    "with paropen('energies_ex4a.pckl', 'wb') as f:\n",
    "    pickle.dump(energies, f)"
   ]
  },
  {
   "cell_type": "code",
   "execution_count": null,
   "metadata": {
    "autoscroll": false,
    "ein.hycell": false,
    "ein.tags": "worksheet-0",
    "slideshow": {
     "slide_type": "-"
    }
   },
   "outputs": [],
   "source": [
    "!bsub.py -p 20 -t 1 ex4a.py"
   ]
  },
  {
   "cell_type": "code",
   "execution_count": null,
   "metadata": {
    "autoscroll": false,
    "ein.hycell": false,
    "ein.tags": "worksheet-0",
    "slideshow": {
     "slide_type": "-"
    }
   },
   "outputs": [],
   "source": [
    "# teacher\n",
    "import pickle\n",
    "import matplotlib.pyplot as plt\n",
    "%matplotlib inline\n",
    "with open('energies_ex4a.pckl', 'rb') as f:\n",
    "    energies = pickle.load(f)\n",
    "\n",
    "kpts = [2, 3, 4, 5]\n",
    "ecuts = range(200, 801, 100)\n",
    "\n",
    "for k in kpts:\n",
    "    y = []\n",
    "    for ecut in ecuts:\n",
    "        y.append(energies[k][ecut])\n",
    "    plt.plot(ecuts, y, label='k: '+str(k))\n",
    "plt.xlabel('ecut')\n",
    "plt.ylabel('Energy')\n",
    "plt.legend(loc='best')\n",
    "plt.show()"
   ]
  },
  {
   "cell_type": "code",
   "execution_count": null,
   "metadata": {
    "autoscroll": false,
    "ein.hycell": false,
    "ein.tags": "worksheet-0",
    "slideshow": {
     "slide_type": "-"
    }
   },
   "outputs": [],
   "source": [
    "%%writefile ex4b.py\n",
    "# teacher\n",
    "import numpy as np\n",
    "from ase.spacegroup import crystal\n",
    "from ase.constraints import UnitCellFilter\n",
    "from ase.optimize import BFGS\n",
    "from ase.parallel import paropen\n",
    "from gpaw import GPAW, PW\n",
    "\n",
    "a = 5.64\n",
    "nacl = crystal(['Na', 'Cl'], [(0, 0, 0), (0.5, 0.5, 0.5)], spacegroup=225, cellpar=[a, a, a, 90, 90, 90])\n",
    "\n",
    "calc = GPAW(mode=PW(600),\n",
    "            xc='PBE',\n",
    "            kpts=(4, 4, 4),\n",
    "            txt='NaCl-relax.txt')\n",
    "nacl.set_calculator(calc)\n",
    "uf = UnitCellFilter(nacl)\n",
    "relax = BFGS(uf, trajectory='NaCl-relax.traj', logfile='NaCl-relax.log')\n",
    "relax.run(fmax=0.05)\n",
    "calc.write('NaCl.gpw')\n",
    "\n",
    "cell = nacl.get_cell()\n",
    "a, b, c = np.linalg.norm(cell, axis=1)\n",
    "\n",
    "with paropen('ex4_res.txt', 'w') as f:\n",
    "    print('The relaxed lattice parameter is {:.3f} Å'.format(a), file=f)"
   ]
  },
  {
   "cell_type": "code",
   "execution_count": null,
   "metadata": {
    "autoscroll": false,
    "ein.hycell": false,
    "ein.tags": "worksheet-0",
    "slideshow": {
     "slide_type": "-"
    }
   },
   "outputs": [],
   "source": [
    "!bsub.py -t 1 -p 20 ex4b.py"
   ]
  },
  {
   "cell_type": "code",
   "execution_count": null,
   "metadata": {
    "autoscroll": false,
    "ein.hycell": false,
    "ein.tags": "worksheet-0",
    "slideshow": {
     "slide_type": "-"
    }
   },
   "outputs": [],
   "source": [
    "!bstat -u $USER"
   ]
  },
  {
   "cell_type": "code",
   "execution_count": null,
   "metadata": {
    "autoscroll": false,
    "ein.hycell": false,
    "ein.tags": "worksheet-0",
    "slideshow": {
     "slide_type": "-"
    }
   },
   "outputs": [],
   "source": [
    "!cat ex4_res.txt"
   ]
  },
  {
   "cell_type": "markdown",
   "metadata": {
    "collapsed": true,
    "ein.tags": "worksheet-0",
    "slideshow": {
     "slide_type": "-"
    }
   },
   "source": [
    "## Exercise 5\n",
    "Calculate the band gap and the band structure of NaCl along the path $\\Gamma$XM. You can reuse the gpw file from the previous exercise to speed up the calculations.\n",
    "\n",
    "See https://wiki.fysik.dtu.dk/gpaw/tutorials/bandstructures/bandstructures.html on band structures. Include at least 5 unoccupied bands.\n",
    "\n",
    "Tip: The $\\Gamma$ k-point in ASE & GPAW is called G"
   ]
  },
  {
   "cell_type": "code",
   "execution_count": null,
   "metadata": {
    "autoscroll": false,
    "ein.hycell": false,
    "ein.tags": "worksheet-0",
    "slideshow": {
     "slide_type": "-"
    }
   },
   "outputs": [],
   "source": [
    "%%writefile ex5.py\n",
    "# teacher\n",
    "from gpaw import GPAW\n",
    "\n",
    "calc = GPAW('NaCl.gpw')\n",
    "h, l = calc.get_homo_lumo()\n",
    "print(h-l)\n",
    "calc = GPAW('NaCl.gpw',\n",
    "            fixdensity=True,\n",
    "            symmetry='off',\n",
    "            kpts={'path': 'GXM', 'npoints': 25},\n",
    "            convergence={'bands': -5})\n",
    "calc.get_potential_energy()\n",
    "calc.write('NaCl_GXM.gpw')"
   ]
  },
  {
   "cell_type": "code",
   "execution_count": null,
   "metadata": {
    "autoscroll": false,
    "ein.hycell": false,
    "ein.tags": "worksheet-0",
    "slideshow": {
     "slide_type": "-"
    }
   },
   "outputs": [],
   "source": [
    "!bsub.py -p 20 -t 1 ex5.py"
   ]
  },
  {
   "cell_type": "code",
   "execution_count": null,
   "metadata": {
    "autoscroll": false,
    "ein.hycell": false,
    "ein.tags": "worksheet-0",
    "slideshow": {
     "slide_type": "-"
    }
   },
   "outputs": [],
   "source": [
    "# teacher\n",
    "from gpaw import GPAW\n",
    "from ase.dft.bandgap import bandgap\n",
    "%matplotlib inline\n",
    "\n",
    "calc = GPAW('NaCl_GXM.gpw', txt=None)\n",
    "bandgap(calc)\n",
    "bs = calc.band_structure()\n",
    "bs.plot(filename='bandstructure.png', show=True, emax=10.0)"
   ]
  },
  {
   "cell_type": "markdown",
   "metadata": {
    "ein.tags": "worksheet-0",
    "slideshow": {
     "slide_type": "-"
    }
   },
   "source": [
    "## Exercise 6\n",
    "Calculate the Density of States and the Projected Density of States (on Na and Cl) of NaCl\n",
    "\n",
    "See https://wiki.fysik.dtu.dk/ase/ase/dft/dos.html and https://wiki.fysik.dtu.dk/gpaw/documentation/pdos/pdos.html#atomic-orbital-pdos for doing DOS and PDOS."
   ]
  },
  {
   "cell_type": "code",
   "execution_count": null,
   "metadata": {
    "autoscroll": false,
    "ein.hycell": false,
    "ein.tags": "worksheet-0",
    "slideshow": {
     "slide_type": "-"
    }
   },
   "outputs": [],
   "source": [
    "# teacher\n",
    "import matplotlib.pyplot as plt\n",
    "from gpaw import GPAW\n",
    "%matplotlib inline\n",
    "\n",
    "calc = GPAW('NaCl.gpw', txt=None)\n",
    "ef = calc.get_fermi_level()\n",
    "energy, dos = calc.get_dos(spin=0, width=0.1)\n",
    "plt.plot(energy - ef, dos)\n",
    "plt.xlabel(r'$\\epsilon - \\epsilon_F \\ \\rm{(eV)}$')\n",
    "plt.ylabel('Density of States (1/eV)')\n",
    "plt.savefig('DOS.png')\n",
    "plt.show()"
   ]
  },
  {
   "cell_type": "code",
   "execution_count": null,
   "metadata": {
    "autoscroll": false,
    "ein.hycell": false,
    "ein.tags": "worksheet-0",
    "slideshow": {
     "slide_type": "-"
    }
   },
   "outputs": [],
   "source": [
    "# teacher\n",
    "import matplotlib.pyplot as plt\n",
    "from gpaw import GPAW\n",
    "\n",
    "calc = GPAW('NaCl.gpw', txt=None)\n",
    "\n",
    "ef = calc.get_fermi_level()\n",
    "atoms = calc.get_atoms()\n",
    "\n",
    "pdos_Na = 0\n",
    "pdos_Cl = 0\n",
    "for i in range(len(atoms)):\n",
    "    for c in 'spd':\n",
    "        energies, pdos = calc.get_orbital_ldos(a=i, angular=c, spin=0, width=0.1)\n",
    "        if atoms[i].symbol == 'Na':\n",
    "            pdos_Na += pdos\n",
    "        elif atoms[i].symbol == 'Cl':\n",
    "            pdos_Cl += pdos\n",
    "\n",
    "plt.plot(energies - ef, pdos_Na, label='Na')\n",
    "plt.plot(energies - ef, pdos_Cl, label='Cl')\n",
    "plt.xlabel(r'$\\epsilon - \\epsilon_F \\ \\rm{(eV)}$')\n",
    "plt.ylabel('Density of States (1/eV)')\n",
    "plt.legend()\n",
    "plt.savefig('PDOS.png')\n",
    "plt.show()"
   ]
  },
  {
   "cell_type": "markdown",
   "metadata": {
    "ein.tags": "worksheet-0",
    "slideshow": {
     "slide_type": "-"
    }
   },
   "source": [
    "## Exercise 7\n",
    "Calculate the work function of the clean slab of Pt111 and of the most stable configuration of H on Pt111.\n",
    "\n",
    "See https://wiki.fysik.dtu.dk/gpaw/exercises/surface/surface.html#work-function"
   ]
  },
  {
   "cell_type": "code",
   "execution_count": null,
   "metadata": {
    "autoscroll": false,
    "ein.hycell": false,
    "ein.tags": "worksheet-0",
    "slideshow": {
     "slide_type": "-"
    }
   },
   "outputs": [],
   "source": [
    "# teacher\n",
    "import numpy as np\n",
    "import matplotlib.pyplot as plt\n",
    "from gpaw import GPAW\n",
    "%matplotlib inline\n",
    "\n",
    "def get_workfunction(gpw):\n",
    "    calc = GPAW(gpw, txt=None)\n",
    "    slab = calc.get_atoms()\n",
    "\n",
    "    # Get the height of the unit cell:\n",
    "    L = np.linalg.norm(slab.get_cell(), axis=1)[2]\n",
    "\n",
    "    # Get the effective potential on a 3D grid:\n",
    "    v = calc.get_effective_potential()\n",
    "\n",
    "    nx, ny, nz = v.shape\n",
    "    z = np.linspace(0, L, nz, endpoint=False)\n",
    "\n",
    "    efermi = calc.get_fermi_level()\n",
    "\n",
    "    # Calculate xy averaged potential:\n",
    "    vz = v.mean(axis=0).mean(axis=0)\n",
    "    return L, efermi, z, vz\n",
    "\n",
    "# Get the difference between the WF of clean and ontop\n",
    "\n",
    "L, efermi, z, vz = get_workfunction('Pt111_clean.gpw')\n",
    "L_ot, ef_ot, z_ot, vz_ot = get_workfunction('Pt111_H-ontop.gpw')\n",
    "\n",
    "wf_clean = vz.max() - efermi\n",
    "wf_ot = vz_ot.max() - efermi\n",
    "\n",
    "print('Work function: {:.2f} eV'.format(wf_clean))\n",
    "print('Difference between ontop and clean surface: {:.3f} meV'.format(1000*(wf_ot-wf_clean)))\n",
    "\n",
    "# Plot the clean work function\n",
    "plt.plot(z, vz, label='xy averaged effective potential')\n",
    "plt.plot([0, L], [efermi, efermi], label='Fermi level')\n",
    "plt.ylabel('Potential / V')\n",
    "plt.xlabel('z / Ångstrom')\n",
    "plt.legend(loc='best')\n",
    "plt.savefig('workfunction.png', format='png')\n",
    "plt.show()"
   ]
  },
  {
   "cell_type": "code",
   "execution_count": null,
   "metadata": {
    "autoscroll": false,
    "ein.hycell": false,
    "ein.tags": "worksheet-0",
    "slideshow": {
     "slide_type": "-"
    }
   },
   "outputs": [],
   "source": []
  }
 ],
 "metadata": {
  "kernelspec": {
   "display_name": "Python 3",
   "language": "python",
   "name": "python3"
  },
  "language_info": {
   "codemirror_mode": {
    "name": "ipython",
    "version": 3
   },
   "file_extension": ".py",
   "mimetype": "text/x-python",
   "name": "python",
   "nbconvert_exporter": "python",
   "pygments_lexer": "ipython3",
   "version": "3.7.4"
  },
  "name": "Lecture_4.master.ipynb"
 },
 "nbformat": 4,
 "nbformat_minor": 2
}
