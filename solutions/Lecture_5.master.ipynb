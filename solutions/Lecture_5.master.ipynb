{
 "cells": [
  {
   "cell_type": "markdown",
   "metadata": {},
   "source": [
    "# High-throughput screening for novel materials? - Exercises\n",
    "\n",
    "In this notebook, you find some exercises related with how to perform a high-throughput screening for light harvesting materials.\n",
    "\n",
    "Use the below cell to read the database into memory."
   ]
  },
  {
   "cell_type": "code",
   "execution_count": null,
   "metadata": {},
   "outputs": [],
   "source": [
    "%matplotlib inline\n",
    "from ase.db import connect\n",
    "con = connect('Lecture_6/cubic_perovskites.db')"
   ]
  },
  {
   "cell_type": "markdown",
   "metadata": {},
   "source": [
    "## Exercise 1\n",
    "From the cubic_perovsites.db database, identify the oxides that can be used for one photon water splitting device.\n",
    "\n",
    "You can take inpiration from the CMR database, https://cmr.fysik.dtu.dk/cubic_perovskites/cubic_perovskites.html#cubic-perovskites."
   ]
  },
  {
   "cell_type": "code",
   "execution_count": null,
   "metadata": {},
   "outputs": [],
   "source": [
    "# teacher\n",
    "from ase.phasediagram import PhaseDiagram\n",
    "\n",
    "references = [(row.formula, row.energy)\n",
    "              for row in con.select('reference')]\n",
    "\n",
    "for row in con.select(combination='ABO3'):\n",
    "    pd = PhaseDiagram(references, filter=row.formula, verbose=False)\n",
    "    energy = pd.decompose(row.formula)[0]\n",
    "    heat = (row.energy - energy) / row.natoms\n",
    "    if (heat < 0.21 and\n",
    "        (3.1 > row.gllbsc_ind_gap > 1.4 or\n",
    "         3.1 > row.gllbsc_dir_gap > 1.4) and\n",
    "        (row.VB_ind - 4.5 > 1.23 and row.CB_ind - 4.5 < 0 or\n",
    "         row.VB_dir - 4.5 > 1.23 and row.CB_dir - 4.5 < 0)):\n",
    "        formula = row.A_ion + row.B_ion + row.anion\n",
    "        print('{0}, {1}, {2:.3f}'.format(row.id, formula, heat))"
   ]
  },
  {
   "cell_type": "markdown",
   "metadata": {
    "collapsed": true
   },
   "source": [
    "## Exercise 2\n",
    "Use AgNbO$_3$, and calculate the convex hull and Pourbaix diagram using data from the database.\n",
    "See this tutorial for inspiration: https://wiki.fysik.dtu.dk/ase/ase/phasediagram/phasediagram.html\n",
    "\n",
    "For the Pourbaix diagram, remember to give the reference energies with respect to the standard states."
   ]
  },
  {
   "cell_type": "code",
   "execution_count": null,
   "metadata": {},
   "outputs": [],
   "source": [
    "# teacher\n",
    "from ase.phasediagram import PhaseDiagram\n",
    "import matplotlib.pyplot as plt\n",
    "\n",
    "references = [(row.formula, row.energy)\n",
    "              for row in con.select('reference')]\n",
    "\n",
    "for row in con.select(formula='AgNbO3', A_ion='Ag'):\n",
    "    atoms = row.toatoms()\n",
    "    references += [('AgNbO3', row.energy)]\n",
    "    pd = PhaseDiagram(references, filter=row.formula, verbose=False)\n",
    "    energy = pd.decompose(row.formula)[0]\n",
    "    fig, ax = plt.subplots()\n",
    "    pd.plot(ax=ax, show=False)\n",
    "    plt.title('A-ion:{} B-ion: {}'.format(row.A_ion, row.B_ion))\n",
    "plt.show()"
   ]
  },
  {
   "cell_type": "markdown",
   "metadata": {},
   "source": [
    "Is the material on the convex hull? If not, why is it still a candidate?"
   ]
  },
  {
   "cell_type": "code",
   "execution_count": null,
   "metadata": {},
   "outputs": [],
   "source": [
    "# teacher\n",
    "from ase.phasediagram import Pourbaix, solvated\n",
    "import numpy as np\n",
    "\n",
    "unique = ['Ag','Nb','O']\n",
    "refsd = {}\n",
    "for row in con.select():\n",
    "    isref = True\n",
    "    for j in row.symbols:\n",
    "        if j not in unique:\n",
    "            isref = False\n",
    "    if isref:\n",
    "        refsd[row.formula] = row.energy\n",
    "        print(row.formula, row.energy)\n",
    "\n",
    "refs = solvated('AgNb')\n",
    "refs += [('Ag', 0),\n",
    "         ('Nb', 0),\n",
    "         ('Ag2O3', refsd['Ag2O3'] - 2 * refsd['Ag4'] / 4 - 3 * refsd['O']),\n",
    "         ('Nb2O3', refsd['Nb2O3'] - 2 * refsd['Nb2'] / 2 - 3 * refsd['O']),\n",
    "         ('Ag4O2', refsd['Ag4O2'] - 4 * refsd['Ag4'] / 4 - 2 * refsd['O']),\n",
    "         ('Nb16O32', refsd['Nb16O32'] - 16 * refsd['Nb2'] / 2 - 32 * refsd['O']),\n",
    "        ]\n",
    "\n",
    "pb = Pourbaix(refs, Ag=1, Nb=1, O=3)\n",
    "\n",
    "U = np.linspace(-2, 2, 200)\n",
    "pH = np.linspace(-2, 16, 300)\n",
    "d, names, text = pb.diagram(U, pH, plot=True)"
   ]
  },
  {
   "cell_type": "markdown",
   "metadata": {},
   "source": [
    "## Exercise 3\n",
    "One of the possible solutions to instability in water is to add a transparent protective layer with appropriate position of the bands and stable in water. Find the possible transparent layers in the oxo-perovskites for AgNbO$_3$. (hint: consider only the oxygen evolution band edge and, for simplicity, consider only the indirect gap and discard the calculation of Pourbax diagrams)"
   ]
  },
  {
   "cell_type": "code",
   "execution_count": null,
   "metadata": {},
   "outputs": [],
   "source": [
    "# teacher\n",
    "from ase.phasediagram import PhaseDiagram\n",
    "\n",
    "for row in con.select(formula='AgNbO3', A_ion='Ag'):\n",
    "    VB_ind = row.VB_ind\n",
    "    CB_ind = row.CB_ind\n",
    "\n",
    "references = [(row.formula, row.energy)\n",
    "              for row in con.select('reference')]\n",
    "\n",
    "for row in con.select(combination='ABO3'):\n",
    "    pd = PhaseDiagram(references, filter=row.formula, verbose=False)\n",
    "    energy = pd.decompose(row.formula)[0]\n",
    "    heat = (row.energy - energy) / row.natoms\n",
    "    if (heat < 0.21 and\n",
    "        (row.gllbsc_ind_gap > 3.1) and\n",
    "        (row.VB_ind - 4.5 > 1.23 and row.VB_ind < VB_ind)):\n",
    "        formula = row.A_ion + row.B_ion + row.anion\n",
    "        print('{0}, {1}, {2:.3f}'.format(row.id, formula, heat))"
   ]
  },
  {
   "cell_type": "markdown",
   "metadata": {
    "collapsed": true
   },
   "source": [
    "Did you find any good candidate? If not, try with another material."
   ]
  },
  {
   "cell_type": "markdown",
   "metadata": {
    "collapsed": true
   },
   "source": [
    "## Exercise 4\n",
    "Relax, calculate the band gap and band structure at the GLLB-SC level of a possible new candidate structure: CaTiO$_3$ and compare it with SrTiO$_3$. Take inspiration from the exercises of the previous lecture and https://wiki.fysik.dtu.dk/gpaw/tutorials/band_gap/band_gap.html and https://wiki.fysik.dtu.dk/gpaw/exercises/band_structure/bands.html\n",
    "\n",
    "Calculate the band structure and band gap of both structures.\n",
    "\n",
    "The GLLB functional contains a bug, where it is unable to parallelize over bands, i.e. if you use plane-wave mode. You can avoid this error by using the following keyword in your GPAW calculator\n",
    "```python\n",
    "parallel={'band': 1}\n",
    "```\n",
    "\n",
    "As we will need to plot the band structure later, make sure that you save all of the wave functions for your fixed density calculation, i.e. use `mode='all'` when writing your wave functions:\n",
    "```python\n",
    "calc.write('myfile.gpw', mode='all')\n",
    "```\n",
    "We have provided you with a function to create a band structure object, which  you can plot using something along the lines of\n",
    "```python\n",
    "gap, bs = get_band_structure('myfile.gpw')\n",
    "print('Gap:', gap)\n",
    "bs.plot()\n",
    "```"
   ]
  },
  {
   "cell_type": "code",
   "execution_count": null,
   "metadata": {},
   "outputs": [],
   "source": [
    "%%writefile relax.py\n",
    "# teacher\n",
    "import numpy as np\n",
    "from ase import Atoms\n",
    "from ase.db import connect\n",
    "from ase.optimize import BFGS\n",
    "from ase.constraints import StrainFilter\n",
    "from ase.dft.bandgap import bandgap\n",
    "from ase.parallel import parprint, paropen\n",
    "from gpaw import GPAW, FermiDirac, PW\n",
    "\n",
    "gaps = {}\n",
    "\n",
    "for name in ['SrTiO3', 'CaTiO3']:\n",
    "    parprint('Running:', name)\n",
    "    a0 = 3.8\n",
    "    atoms = Atoms(symbols=name,\n",
    "                 pbc=True,\n",
    "                 cell=np.array([[ a0,  0.,  0.],\n",
    "                                [ 0.,  a0,  0.],\n",
    "                                [ 0.,  0.,  a0]]),\n",
    "                 positions=np.array([[ 0.,  0.,  0.],\n",
    "                                     [ a0/2,  a0/2,  a0/2],\n",
    "                                     [ a0/2,  a0/2,  0.],\n",
    "                                     [ 0.,  a0/2,  a0/2],\n",
    "                                     [ a0/2,  0.,  a0/2]]))\n",
    "\n",
    "    # Optimize using PBEsol\n",
    "    calc = GPAW(mode=PW(600),\n",
    "                kpts={'size': (11, 11, 11), 'gamma': True},\n",
    "                xc='PBEsol',\n",
    "                occupations=FermiDirac(width=0.05),\n",
    "                txt=name+'_calculator_pbesol.out')\n",
    "    atoms.set_calculator(calc)\n",
    "\n",
    "    sf = StrainFilter(atoms)\n",
    "    dyn = BFGS(sf, trajectory=name+'_pbesol.traj', logfile=name+'_relax.log')\n",
    "    dyn.run(fmax=0.02)\n",
    "    calc.write(name+'_pbesol_gs.gpw')  # Store .gpw file for later use\n",
    "\n",
    "    # Calculate the band structure\n",
    "    calc = GPAW(name+'_pbesol_gs.gpw',\n",
    "                fixdensity=True,\n",
    "                symmetry='off',\n",
    "                kpts={'path': 'GXMGRX', 'npoints': 80},\n",
    "                occupations=FermiDirac(width=0.05),\n",
    "                txt=name+'_calculator_pbesol_bs.out')\n",
    "\n",
    "    atoms.set_calculator(calc)\n",
    "    atoms.get_potential_energy()  # Run calculation\n",
    "\n",
    "    calc.write(name+'_pbesol_bs.gpw', mode='all')  # Store .gpw\n",
    "    \n",
    "    # Get PBEsol bandgap\n",
    "    parprint('PBEsol gap')\n",
    "    gap_pbesol, p1, p2 = bandgap(calc)\n",
    "\n",
    "    # Get gap using GLLB\n",
    "    # Fails with band parallelisation, so we use grid mode\n",
    "    # and we need a clean calculator object\n",
    "    calc = GPAW(mode=PW(600),\n",
    "                parallel={'band': 1},\n",
    "                kpts={'size': (11, 11, 11), 'gamma': True},\n",
    "                xc='GLLBSC',\n",
    "                occupations=FermiDirac(width=0.05),\n",
    "                txt=name+'_calculator_gllb_gs.out')\n",
    "\n",
    "    atoms.set_calculator(calc)\n",
    "    atoms.get_potential_energy()  # Run calculation\n",
    "\n",
    "    calc.write(name+'_gllb_gs.gpw')  # Store .gpw\n",
    "\n",
    "    # Get GLLBsc band gap\n",
    "    response = calc.hamiltonian.xc.xcs['RESPONSE']\n",
    "    response.calculate_delta_xc()\n",
    "    EKs, Dxc = response.calculate_delta_xc_perturbation()\n",
    "    # fundamental band gap\n",
    "    # EKs = kohn-sham bandgap\n",
    "    # Dxc = derivative discontinuity\n",
    "    gap_gllb = EKs + Dxc\n",
    "\n",
    "    parprint(\"Calculated band gap with GLLBsc: {:.3f}\".format(gap_gllb))\n",
    "    \n",
    "    # Get the band structure\n",
    "    calc = GPAW(name+'_gllb_gs.gpw',\n",
    "                parallel={'band': 1},\n",
    "                fixdensity=True,\n",
    "                symmetry='off',\n",
    "                kpts={'path': 'GXMGRX', 'npoints': 80},\n",
    "                txt=name+'_calculator_gllb_bs.out')\n",
    "\n",
    "    atoms.set_calculator(calc)\n",
    "    atoms.get_potential_energy()  # Run calculation\n",
    "    \n",
    "    # Get GLLBsc band gap\n",
    "    response = calc.hamiltonian.xc.xcs['RESPONSE']\n",
    "    response.calculate_delta_xc()\n",
    "    EKs, Dxc = response.calculate_delta_xc_perturbation()\n",
    "    \n",
    "    calc.write(name+'_gllb_bs.gpw', mode='all')  # Store .gpw\n",
    "    \n",
    "    gaps[name] = (gap_pbesol, gap_gllb, EKs, Dxc)\n",
    "\n",
    "with paropen('results.txt', 'w') as f:\n",
    "    for name, (gap_pbesol, gap_gllb, EKs, Dxc) in gaps.items():\n",
    "        print('Name: {}'.format(name), file=f)\n",
    "        print('PBEsol gap: {:.3f} ev'.format(gap_pbesol), file=f)\n",
    "        print('GLLBsc gap: {:.3f} eV'.format(gap_gllb), file=f)\n",
    "        print('EKs: {:.3f} eV\\nDxc: {:.3f} eV'.format(EKs, Dxc), file=f)\n"
   ]
  },
  {
   "cell_type": "code",
   "execution_count": null,
   "metadata": {},
   "outputs": [],
   "source": [
    "# teacher\n",
    "!bsub.py -p 20 -t 2 relax.py"
   ]
  },
  {
   "cell_type": "code",
   "execution_count": null,
   "metadata": {},
   "outputs": [],
   "source": [
    "# teacher\n",
    "!cat results.txt"
   ]
  },
  {
   "cell_type": "code",
   "execution_count": null,
   "metadata": {},
   "outputs": [],
   "source": [
    "from gpaw import GPAW\n",
    "from ase.dft.bandgap import bandgap\n",
    "\n",
    "def get_band_structure(gpw):\n",
    "    '''Get a band structure object from a .gpw file.\n",
    "    Note that wave functions need to be saved to the .gpw file to work.\n",
    "    I.e. in your calculation, do\n",
    "    calc.write('myfile.gpw', mode='all')\n",
    "    \n",
    "    Then plot the band structure with something like\n",
    "    \n",
    "    gap, bs = get_band_structure('myfile.gpw')\n",
    "    print('Gap:', gap)\n",
    "    bs.plot()\n",
    "    '''\n",
    "    calc = GPAW(gpw, txt=None)\n",
    "    bs = calc.band_structure()\n",
    "    gap = bandgap(calc)[0]\n",
    "    xc = calc.get_xc_functional()\n",
    "    ef = calc.get_fermi_level()\n",
    "    if xc == 'GLLBSC':\n",
    "        # Get GLLBsc band gap\n",
    "        response = calc.hamiltonian.xc.xcs['RESPONSE']\n",
    "        response.calculate_delta_xc()\n",
    "        EKs, Dxc = response.calculate_delta_xc_perturbation()\n",
    "        homo, lumo = calc.get_homo_lumo()\n",
    "        # Modify energies\n",
    "        bs.energies[bs.energies >= ef] += Dxc\n",
    "        gap += Dxc\n",
    "        \n",
    "    bs.energies -= ef  # Center energies at Fermi level\n",
    "    bs.reference -= ef\n",
    "    return gap, bs"
   ]
  },
  {
   "cell_type": "code",
   "execution_count": null,
   "metadata": {},
   "outputs": [],
   "source": [
    "# teacher\n",
    "from glob import glob\n",
    "from IPython.utils import io\n",
    "\n",
    "structs = ['SrTiO3', 'CaTiO3']\n",
    "funcs = ['pbesol', 'gllb']\n",
    "\n",
    "bands = {}\n",
    "# unfortunately, gllb always prints a lot of info\n",
    "# So we just capture it, just because it's annoying\n",
    "with io.capture_output() as captured:\n",
    "    for name in structs:\n",
    "        for xc in funcs:\n",
    "            gpw = '{}_{}_bs.gpw'.format(name, xc)\n",
    "            gap, bs = get_band_structure(gpw)\n",
    "            key = '{}--{}'.format(name, xc)\n",
    "            bands[key] = (gap, bs)"
   ]
  },
  {
   "cell_type": "code",
   "execution_count": null,
   "metadata": {},
   "outputs": [],
   "source": [
    "# teacher\n",
    "import matplotlib.pyplot as plt\n",
    "\n",
    "\n",
    "f, axes = plt.subplots(2, 2, figsize=(15, 10))\n",
    "for ii, (key, value) in enumerate(bands.items()):\n",
    "    gap, bs = value\n",
    "    name, xc = key.split('--')\n",
    "    i, j = divmod(ii, 2)\n",
    "    ax = axes[i, j]\n",
    "    bs.plot(ax=ax, show=False)\n",
    "    ax.set_title('Name: {}, xc: {}, gap: {:.3f} eV'.format(name, xc, gap))\n",
    "plt.show()"
   ]
  }
 ],
 "metadata": {
  "kernelspec": {
   "display_name": "Python 3",
   "language": "python",
   "name": "python3"
  },
  "language_info": {
   "codemirror_mode": {
    "name": "ipython",
    "version": 3
   },
   "file_extension": ".py",
   "mimetype": "text/x-python",
   "name": "python",
   "nbconvert_exporter": "python",
   "pygments_lexer": "ipython3",
   "version": "3.7.1"
  }
 },
 "nbformat": 4,
 "nbformat_minor": 2
}
