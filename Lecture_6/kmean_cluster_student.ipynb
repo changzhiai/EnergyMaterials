{
 "cells": [
  {
   "cell_type": "markdown",
   "metadata": {},
   "source": [
    "# K-means algorithm\n",
    "\n",
    "In this exercise, we will take a look at the K-means algorithm, and how it works. You can find a description of the algorithm, including pseodo-code [here](https://en.wikibooks.org/wiki/Data_Mining_Algorithms_In_R/Clustering/K-Means)."
   ]
  },
  {
   "cell_type": "code",
   "execution_count": null,
   "metadata": {},
   "outputs": [],
   "source": [
    "import numpy as np\n",
    "import matplotlib.pyplot as plt\n",
    "from sklearn.datasets import make_blobs"
   ]
  },
  {
   "cell_type": "markdown",
   "metadata": {},
   "source": [
    "First we need to make a funtion for the K-means algorithm, which takes some centroids (_k_ number of center points to which we assign some label), and a set of corresponding labels for that data set, and calculates the mean for that set of data.\n",
    "\n",
    "For each centroid in C, $c_i$, identify what data belongs to that centroid based on the label, and calculate the mean value of the $x$ and $y$ values of the data points, and set that as the new value for $c_i$. The function should modify the value of the variable `C`, based on the values of `L` and `x` (you should use the same names).\n",
    "\n",
    "Remember to utilize the fact that `C`, `L` and `x` are NumPy arrays."
   ]
  },
  {
   "cell_type": "code",
   "execution_count": null,
   "metadata": {},
   "outputs": [],
   "source": [
    "def updateCentroids():\n",
    "    # This function should find all points which belong to a centroid, and\n",
    "    # calculate the mean value of those points, and update the centroid\n",
    "    # to that new value\n"
   ]
  },
  {
   "cell_type": "markdown",
   "metadata": {},
   "source": [
    "The code below tests your code for a simple data set"
   ]
  },
  {
   "cell_type": "code",
   "execution_count": null,
   "metadata": {},
   "outputs": [],
   "source": [
    "data_n = make_blobs(n_samples=10, n_features=2, centers=2, cluster_std=0, random_state=50)\n",
    "C_ans = np.array([[0, -5], [-4, -2]])  # The correct centroids for random_state=50\n",
    "C = np.array([[2, -5], [-5, 0]])  # Initial guess\n",
    "L = data_n[1]\n",
    "idx = np.argsort(L)\n",
    "L = L[idx]\n",
    "x = x_n[idx]\n",
    "\n",
    "print('Initial C')\n",
    "print(C)\n",
    "updateCentroids()\n",
    "print('New C')\n",
    "print(C)\n",
    "\n",
    "if (C == C_ans).all():\n",
    "    print('Your function found the correct centroid!')\n",
    "else:\n",
    "    print('Something went wrong!')"
   ]
  },
  {
   "cell_type": "markdown",
   "metadata": {},
   "source": [
    "Your function should find new centroids with centers in $[0, -5]$ and $[-4, -2]$, which are the centers it uses to generate the blobs in the `make_blobs` function assuming that `random_state=50`.\n",
    "\n",
    "\n",
    "Now we move on to the full algorithm. First we create a larger data set. You can increase the number of samples, centers and size of each cluster if you want."
   ]
  },
  {
   "cell_type": "code",
   "execution_count": null,
   "metadata": {},
   "outputs": [],
   "source": [
    "# create larger data set\n",
    "data = make_blobs(n_samples=200,   # Number of data points\n",
    "                  centers=3,       # Number of centers to create blobs from\n",
    "                  cluster_std=1.2, # Size of blobs\n",
    "                  n_features=2,    # Keep at 2 features, as it's difficult to visualize otherwise\n",
    "                  random_state=50) # For reproducability\n",
    "x = data[0]"
   ]
  },
  {
   "cell_type": "code",
   "execution_count": null,
   "metadata": {},
   "outputs": [],
   "source": [
    "# Plot data set\n",
    "plt.scatter(x[:,0], x[:,1], c=data[1], cmap='viridis')\n",
    "plt.xlim(-15,15)\n",
    "plt.ylim(-15,15)"
   ]
  },
  {
   "cell_type": "markdown",
   "metadata": {},
   "source": [
    "Use the `updateCentroids` function you wrote above in the algorithm below. The names of the arrays should be the same."
   ]
  },
  {
   "cell_type": "code",
   "execution_count": null,
   "metadata": {},
   "outputs": [],
   "source": [
    "import numpy as np\n",
    "def Kmean(x, k, maxiter=100, seed=None, store_path=False):\n",
    "    C = np.zeros((k, x.shape[1]))  # Centroids\n",
    "    L = np.zeros(x.shape[0], dtype=np.int)  # Labels\n",
    "    \n",
    "    # Initialize random centroids\n",
    "    np.random.seed(seed)\n",
    "    ri = np.random.choice(np.arange(x.shape[0]), size=k, replace=False)  # Random index\n",
    "    C = x[ri, :]\n",
    "    \n",
    "    # Update initial labels\n",
    "    for jj, xi in enumerate(x):\n",
    "        dist = np.linalg.norm(C-xi, axis=1)\n",
    "        am = np.argmin(dist)\n",
    "        L[jj] = am\n",
    "\n",
    "    def updateCentroids():\n",
    "        # Insert your updateCentroids() function here\n",
    "    \n",
    "    # Run main loop\n",
    "    changed = True\n",
    "    it = 0\n",
    "    images = [(C.copy(), L.copy())]\n",
    "    while changed is True and it < maxiter:\n",
    "        changed = False\n",
    "        updateCentroids()\n",
    "        \n",
    "        # Update labels, and see if any changed\n",
    "        for ii, xi in enumerate(x):\n",
    "            dist = np.linalg.norm(C-xi, axis=1)\n",
    "            minDist = np.argmin(dist)\n",
    "            if not minDist == L[ii]:\n",
    "                L[ii] = minDist\n",
    "                changed = True\n",
    "        \n",
    "        if changed:\n",
    "            it += 1\n",
    "            if store_path:\n",
    "                # Here we could store intermediate images\n",
    "                images.append((C.copy(), L.copy()))\n",
    "    if not changed:\n",
    "        print('Converged in {} iterations'.format(it))\n",
    "    else:\n",
    "        print('Warning - calculation did not converge in {} iterations!'.format(it))\n",
    "    images.append((C.copy(), L.copy()))\n",
    "    return images"
   ]
  },
  {
   "cell_type": "code",
   "execution_count": null,
   "metadata": {},
   "outputs": [],
   "source": [
    "k = 2   # Number of clusters we want to assign\n",
    "images = Kmean(x, k, 1000, seed=44, store_path=True)"
   ]
  },
  {
   "cell_type": "markdown",
   "metadata": {},
   "source": [
    "Use the code below to plot your results, and try to understand how the centroids (highlighted in blue squares) move, and when the algorithm is considered converged.\n",
    "\n",
    "Go back, and increase the size of the data set and number of k centers to get a better understanding of how the algorithm works."
   ]
  },
  {
   "cell_type": "code",
   "execution_count": null,
   "metadata": {},
   "outputs": [],
   "source": [
    "%matplotlib inline\n",
    "\n",
    "for i, (C, L) in enumerate(images):\n",
    "    plt.figure()\n",
    "    plt.scatter(x[:, 0], x[:, 1], c=L, cmap='viridis')\n",
    "    plt.scatter(C[:, 0], C[:, 1], c=range(len(C)), edgecolor='b', marker='s', linewidth=2)\n",
    "    if i == 0:\n",
    "        plt.title('Initial configuration')\n",
    "    elif i == len(images) - 1:\n",
    "        plt.title('Final configuration')\n",
    "    else:\n",
    "        plt.title('i = {}'.format(i))\n",
    "    plt.show()\n",
    "    plt.close()"
   ]
  }
 ],
 "metadata": {
  "kernelspec": {
   "display_name": "Python 3",
   "language": "python",
   "name": "python3"
  },
  "language_info": {
   "codemirror_mode": {
    "name": "ipython",
    "version": 3
   },
   "file_extension": ".py",
   "mimetype": "text/x-python",
   "name": "python",
   "nbconvert_exporter": "python",
   "pygments_lexer": "ipython3",
   "version": "3.7.0"
  }
 },
 "nbformat": 4,
 "nbformat_minor": 2
}
