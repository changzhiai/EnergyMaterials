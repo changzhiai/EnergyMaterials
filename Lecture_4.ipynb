{
 "cells": [
  {
   "cell_type": "markdown",
   "metadata": {
    "ein.tags": "worksheet-0",
    "slideshow": {
     "slide_type": "-"
    }
   },
   "source": [
    "# What can we do with DFT? - Exercises\n",
    "In this notebook, you find some exercises related with what can be done using DFT"
   ]
  },
  {
   "cell_type": "markdown",
   "metadata": {
    "ein.tags": "worksheet-0",
    "slideshow": {
     "slide_type": "-"
    }
   },
   "source": [
    "For the first 3 exercises, we recommend using LCAO mode for speed, so you can use the following settings for your calculator object in all of the exercises.\n",
    "\n",
    "```python\n",
    "calc = GPAW(h=0.24,\n",
    "            mode='lcao',\n",
    "            basis='sz(dzp)',\n",
    "            xc='PBE')\n",
    "```\n",
    "The Single-$\\zeta$ (sz) basis set is not a very good basis set, and is generally not used for real calculations. However, for our purposes, and to speed up the calculations, this will be sufficient. For a real simulation, one would generally use a double-$\\zeta$ polarized (dzp) basis set at least. The `sz(dzp)` basis means, that we use the `sz` sub-basis from the larger `dzp` basis set.\n",
    "\n",
    "For relaxations we recommend the `BFGS` method.\n",
    "\n",
    "## Exercise 1\n",
    "Calculate the relaxed geometry of ammonia, NH$_3$, and its atomization energy with respect to H$_2$ and N$_2$, and with respect to isolated H and N.\n",
    "\n",
    "See the following GPAW tutorial for inspiration: https://wiki.fysik.dtu.dk/gpaw/tutorials/H2/atomization.html\n",
    "\n",
    "For building molecules, refer to the ASE wiki: https://wiki.fysik.dtu.dk/ase/ase/build/build.html#molecules\n",
    "\n",
    "Questions: \n",
    "* Why do we use N2 and H2 as references for the atomization energy?\n",
    "* What shall we include in the calculator object if we want to use N and H as reference systems?\n",
    "* How much does the atomization energy changes if we use N and H as reference systems instead of N2 and H2?"
   ]
  },
  {
   "cell_type": "markdown",
   "metadata": {
    "ein.tags": "worksheet-0",
    "slideshow": {
     "slide_type": "-"
    }
   },
   "source": [
    "Put the command `%%writefile ex1.py` on the top of your script to write the script to a file called `ex1.py`"
   ]
  },
  {
   "cell_type": "code",
   "execution_count": null,
   "metadata": {
    "autoscroll": false,
    "ein.hycell": false,
    "ein.tags": "worksheet-0",
    "slideshow": {
     "slide_type": "-"
    }
   },
   "outputs": [],
   "source": [
    "%%writefile ex1.py\n"
   ]
  },
  {
   "cell_type": "markdown",
   "metadata": {
    "ein.tags": "worksheet-0",
    "slideshow": {
     "slide_type": "-"
    }
   },
   "source": [
    "Remember the commands below to submit a calculation and survey the state of your calculations."
   ]
  },
  {
   "cell_type": "code",
   "execution_count": null,
   "metadata": {
    "autoscroll": false,
    "ein.hycell": false,
    "ein.tags": "worksheet-0",
    "slideshow": {
     "slide_type": "-"
    }
   },
   "outputs": [],
   "source": [
    "!qsub.py -t 1 -p 8 ex1.py"
   ]
  },
  {
   "cell_type": "code",
   "execution_count": null,
   "metadata": {
    "autoscroll": false,
    "ein.hycell": false,
    "ein.tags": "worksheet-0",
    "scrolled": true,
    "slideshow": {
     "slide_type": "-"
    }
   },
   "outputs": [],
   "source": [
    "!qstat -u $USER"
   ]
  },
  {
   "cell_type": "code",
   "execution_count": null,
   "metadata": {
    "autoscroll": false,
    "ein.hycell": false,
    "ein.tags": "worksheet-0",
    "slideshow": {
     "slide_type": "-"
    }
   },
   "outputs": [],
   "source": []
  },
  {
   "cell_type": "markdown",
   "metadata": {
    "ein.tags": "worksheet-0",
    "slideshow": {
     "slide_type": "-"
    }
   },
   "source": [
    "## Exercise 2\n",
    "Calculate the vibrational modes of ammonia.\n",
    "\n",
    "See https://wiki.fysik.dtu.dk/ase/ase/vibrations/vibrations.html\n",
    "\n",
    "Questions:\n",
    "* Is the highest frequency mode of ammonia larger than the one of water?\n",
    "* What is the shape of the highest vibrational mode of ammonia?"
   ]
  },
  {
   "cell_type": "code",
   "execution_count": null,
   "metadata": {
    "autoscroll": false,
    "ein.hycell": false,
    "ein.tags": "worksheet-0",
    "slideshow": {
     "slide_type": "-"
    }
   },
   "outputs": [],
   "source": [
    "%%writefile ex2.py\n"
   ]
  },
  {
   "cell_type": "code",
   "execution_count": null,
   "metadata": {
    "autoscroll": false,
    "ein.hycell": false,
    "ein.tags": "worksheet-0",
    "slideshow": {
     "slide_type": "-"
    }
   },
   "outputs": [],
   "source": [
    "# Visualize the modes we just made\n",
    "# Change the number to a mode between 0-11\n",
    "!ase gui vib.0.traj"
   ]
  },
  {
   "cell_type": "code",
   "execution_count": null,
   "metadata": {
    "autoscroll": false,
    "ein.hycell": false,
    "ein.tags": "worksheet-0",
    "slideshow": {
     "slide_type": "-"
    }
   },
   "outputs": [],
   "source": [
    "!qsub.py -t 1 -p 8 ex2.py"
   ]
  },
  {
   "cell_type": "code",
   "execution_count": null,
   "metadata": {
    "autoscroll": false,
    "ein.hycell": false,
    "ein.tags": "worksheet-0",
    "slideshow": {
     "slide_type": "-"
    }
   },
   "outputs": [],
   "source": [
    "!qstat -u $USER"
   ]
  },
  {
   "cell_type": "code",
   "execution_count": null,
   "metadata": {
    "autoscroll": false,
    "ein.hycell": false,
    "ein.tags": "worksheet-0",
    "slideshow": {
     "slide_type": "-"
    }
   },
   "outputs": [],
   "source": [
    "!cat ex2_log.txt"
   ]
  },
  {
   "cell_type": "markdown",
   "metadata": {
    "ein.tags": "worksheet-0",
    "slideshow": {
     "slide_type": "-"
    }
   },
   "source": [
    "## Exercise 3\n",
    "Set up a 2x2x3 Pt(111) surface with the two bottom layers constrained and calculate the adsorption energy of H on its hollow, bridge and top sites. You can reuse the energies from exercise 1 for the energy of an H$_2$ molecule.\n",
    "\n",
    "Use a (2x2x1) k-point sampling for your surface.\n",
    "\n",
    "See\n",
    "https://wiki.fysik.dtu.dk/ase/ase/build/surface.html\n",
    "\n",
    "https://wiki.fysik.dtu.dk/ase/ase/build/surface.html#ase.build.add_adsorbate\n",
    "\n",
    "**Important:** Remember to always visualize your structures!\n",
    "\n",
    "Questions:\n",
    "* What is the most stable adsorption site on Pt111\n",
    "* When do we need to include k-points in a calculator?\n",
    "* Do you think that a (2x2x1) k-point mesh is a sufficient number for a good simulation? Why?"
   ]
  },
  {
   "cell_type": "code",
   "execution_count": null,
   "metadata": {
    "autoscroll": false,
    "ein.hycell": false,
    "ein.tags": "worksheet-0",
    "slideshow": {
     "slide_type": "-"
    }
   },
   "outputs": [],
   "source": [
    "%%writefile ex3.py\n"
   ]
  },
  {
   "cell_type": "code",
   "execution_count": null,
   "metadata": {
    "autoscroll": false,
    "ein.hycell": false,
    "ein.tags": "worksheet-0",
    "slideshow": {
     "slide_type": "-"
    }
   },
   "outputs": [],
   "source": [
    "# This calculation might take a while, so we use more processors\n",
    "!qsub.py -t 2 -p 32 ex3.py"
   ]
  },
  {
   "cell_type": "code",
   "execution_count": null,
   "metadata": {
    "autoscroll": false,
    "ein.hycell": false,
    "ein.tags": "worksheet-0",
    "slideshow": {
     "slide_type": "-"
    }
   },
   "outputs": [],
   "source": [
    "!qstat -u $USER"
   ]
  },
  {
   "cell_type": "code",
   "execution_count": null,
   "metadata": {
    "autoscroll": false,
    "ein.hycell": false,
    "ein.tags": "worksheet-0",
    "slideshow": {
     "slide_type": "-"
    }
   },
   "outputs": [],
   "source": [
    "!cat ex3_results.txt"
   ]
  },
  {
   "cell_type": "markdown",
   "metadata": {
    "ein.tags": "worksheet-0",
    "slideshow": {
     "slide_type": "-"
    }
   },
   "source": [
    "## Exercise 4\n",
    "\n",
    "For this exercise, we need to switch from LCAO mode to Plane-Wave (PW) mode, as we only have the stress-tensor in PW mode.\n",
    "\n",
    "Optimize NaCl using the stress tensor (check convergence of k-points and PW mode cutoff before running the optimization). Remember to save the gpw file of the relaxed configuration, because you will need it later. Saving the gpw file is done from the calculator, see https://wiki.fysik.dtu.dk/gpaw/tutorials/plotting/plot_wave_functions.html#creating-a-wave-function-file\n",
    "\n",
    "See https://wiki.fysik.dtu.dk/gpaw/exercises/stress/stress.html on doing Plane-Wave calculations. Also see https://wiki.fysik.dtu.dk/ase/ase/constraints.html#ase.constraints.UnitCellFilter on relaxing using the stress tensor.\n",
    "\n",
    "Use a (NxNxN) k-point sampling for the NaCl cell.\n",
    "\n",
    "Questions:\n",
    "* What is the relaxed lattice parameter for NaCl?"
   ]
  },
  {
   "cell_type": "code",
   "execution_count": null,
   "metadata": {
    "autoscroll": false,
    "ein.hycell": false,
    "ein.tags": "worksheet-0",
    "slideshow": {
     "slide_type": "-"
    }
   },
   "outputs": [],
   "source": [
    "%%writefile ex4a.py\n"
   ]
  },
  {
   "cell_type": "code",
   "execution_count": null,
   "metadata": {
    "autoscroll": false,
    "ein.hycell": false,
    "ein.tags": "worksheet-0",
    "slideshow": {
     "slide_type": "-"
    }
   },
   "outputs": [],
   "source": [
    "!qsub.py -p 8 -t 1 ex4a.py"
   ]
  },
  {
   "cell_type": "code",
   "execution_count": null,
   "metadata": {
    "autoscroll": false,
    "ein.hycell": false,
    "ein.tags": "worksheet-0",
    "slideshow": {
     "slide_type": "-"
    }
   },
   "outputs": [],
   "source": []
  },
  {
   "cell_type": "code",
   "execution_count": null,
   "metadata": {
    "autoscroll": false,
    "ein.hycell": false,
    "ein.tags": "worksheet-0",
    "slideshow": {
     "slide_type": "-"
    }
   },
   "outputs": [],
   "source": [
    "%%writefile ex4b.py\n"
   ]
  },
  {
   "cell_type": "code",
   "execution_count": null,
   "metadata": {
    "autoscroll": false,
    "ein.hycell": false,
    "ein.tags": "worksheet-0",
    "slideshow": {
     "slide_type": "-"
    }
   },
   "outputs": [],
   "source": [
    "!qsub.py -t 1 -p 8 ex4b.py"
   ]
  },
  {
   "cell_type": "code",
   "execution_count": null,
   "metadata": {
    "autoscroll": false,
    "ein.hycell": false,
    "ein.tags": "worksheet-0",
    "slideshow": {
     "slide_type": "-"
    }
   },
   "outputs": [],
   "source": [
    "!qstat -u $USER"
   ]
  },
  {
   "cell_type": "code",
   "execution_count": null,
   "metadata": {
    "autoscroll": false,
    "ein.hycell": false,
    "ein.tags": "worksheet-0",
    "slideshow": {
     "slide_type": "-"
    }
   },
   "outputs": [],
   "source": [
    "!cat ex4_res.txt"
   ]
  },
  {
   "cell_type": "markdown",
   "metadata": {
    "collapsed": true,
    "ein.tags": "worksheet-0",
    "slideshow": {
     "slide_type": "-"
    }
   },
   "source": [
    "## Exercise 5\n",
    "Calculate the band gap and the band structure of NaCl along the path $\\Gamma$XM. You can reuse the gpw file from the previous exercise to speed up the calculations.\n",
    "\n",
    "See https://wiki.fysik.dtu.dk/gpaw/tutorials/bandstructures/bandstructures.html on band structures. Include at least 5 unoccupied bands.\n",
    "\n",
    "Tip: The $\\Gamma$ k-point in ASE & GPAW is called G"
   ]
  },
  {
   "cell_type": "code",
   "execution_count": null,
   "metadata": {
    "autoscroll": false,
    "ein.hycell": false,
    "ein.tags": "worksheet-0",
    "slideshow": {
     "slide_type": "-"
    }
   },
   "outputs": [],
   "source": [
    "%%writefile ex5.py\n"
   ]
  },
  {
   "cell_type": "code",
   "execution_count": null,
   "metadata": {
    "autoscroll": false,
    "ein.hycell": false,
    "ein.tags": "worksheet-0",
    "slideshow": {
     "slide_type": "-"
    }
   },
   "outputs": [],
   "source": [
    "!qsub.py -p 8 -t 1 ex5.py"
   ]
  },
  {
   "cell_type": "code",
   "execution_count": null,
   "metadata": {
    "autoscroll": false,
    "ein.hycell": false,
    "ein.tags": "worksheet-0",
    "slideshow": {
     "slide_type": "-"
    }
   },
   "outputs": [],
   "source": []
  },
  {
   "cell_type": "markdown",
   "metadata": {
    "ein.tags": "worksheet-0",
    "slideshow": {
     "slide_type": "-"
    }
   },
   "source": [
    "## Exercise 6\n",
    "Calculate the Density of States and the Projected Density of States (on Na and Cl) of NaCl\n",
    "\n",
    "See https://wiki.fysik.dtu.dk/ase/ase/dft/dos.html and https://wiki.fysik.dtu.dk/gpaw/documentation/pdos/pdos.html#atomic-orbital-pdos for doing DOS and PDOS."
   ]
  },
  {
   "cell_type": "code",
   "execution_count": null,
   "metadata": {
    "autoscroll": false,
    "ein.hycell": false,
    "ein.tags": "worksheet-0",
    "slideshow": {
     "slide_type": "-"
    }
   },
   "outputs": [],
   "source": []
  },
  {
   "cell_type": "code",
   "execution_count": null,
   "metadata": {
    "autoscroll": false,
    "ein.hycell": false,
    "ein.tags": "worksheet-0",
    "slideshow": {
     "slide_type": "-"
    }
   },
   "outputs": [],
   "source": []
  },
  {
   "cell_type": "markdown",
   "metadata": {
    "ein.tags": "worksheet-0",
    "slideshow": {
     "slide_type": "-"
    }
   },
   "source": [
    "## Exercise 7\n",
    "Calculate the work function of the clean slab of Pt111 and of the most stable configuration of H on Pt111.\n",
    "\n",
    "See https://wiki.fysik.dtu.dk/gpaw/exercises/surface/surface.html#work-function"
   ]
  },
  {
   "cell_type": "code",
   "execution_count": null,
   "metadata": {
    "autoscroll": false,
    "ein.hycell": false,
    "ein.tags": "worksheet-0",
    "slideshow": {
     "slide_type": "-"
    }
   },
   "outputs": [],
   "source": []
  },
  {
   "cell_type": "code",
   "execution_count": null,
   "metadata": {
    "autoscroll": false,
    "ein.hycell": false,
    "ein.tags": "worksheet-0",
    "slideshow": {
     "slide_type": "-"
    }
   },
   "outputs": [],
   "source": []
  }
 ],
 "metadata": {
  "kernelspec": {
   "display_name": "Python 3",
   "language": "python",
   "name": "python3"
  },
  "language_info": {
   "codemirror_mode": {
    "name": "ipython",
    "version": 3
   },
   "file_extension": ".py",
   "mimetype": "text/x-python",
   "name": "python",
   "nbconvert_exporter": "python",
   "pygments_lexer": "ipython3",
   "version": "3.8.3"
  },
  "name": "Lecture_4.master.ipynb"
 },
 "nbformat": 4,
 "nbformat_minor": 2
}
